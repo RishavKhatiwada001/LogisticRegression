{
  "nbformat": 4,
  "nbformat_minor": 0,
  "metadata": {
    "colab": {
      "provenance": []
    },
    "kernelspec": {
      "name": "python3",
      "display_name": "Python 3"
    },
    "language_info": {
      "name": "python"
    }
  },
  "cells": [
    {
      "cell_type": "markdown",
      "source": [
        "Name: Rishav Khatiwada\n",
        "\n",
        "Uni_id: 2226139\n",
        "\n",
        "Final Portfolio: Logistic Regression"
      ],
      "metadata": {
        "id": "BwGRWPk91oSk"
      }
    },
    {
      "cell_type": "code",
      "execution_count": 442,
      "metadata": {
        "id": "N6e4GgE14wY1"
      },
      "outputs": [],
      "source": [
        "# Necessary imports:\n",
        "import numpy as np\n",
        "import pandas as pd\n",
        "import matplotlib.pyplot as plt"
      ]
    },
    {
      "cell_type": "code",
      "source": [
        "# Connectiong to google drive\n",
        "from google.colab import drive\n",
        "drive.mount('/content/drive')"
      ],
      "metadata": {
        "colab": {
          "base_uri": "https://localhost:8080/"
        },
        "id": "tCg2maKtSbNw",
        "outputId": "7f3f609b-ec0f-495f-d736-ade5bceb9c05"
      },
      "execution_count": 443,
      "outputs": [
        {
          "output_type": "stream",
          "name": "stdout",
          "text": [
            "Drive already mounted at /content/drive; to attempt to forcibly remount, call drive.mount(\"/content/drive\", force_remount=True).\n"
          ]
        }
      ]
    },
    {
      "cell_type": "code",
      "source": [
        "\n",
        "path_datasets = \"/content/drive/MyDrive/9.csv\""
      ],
      "metadata": {
        "id": "NaxZfJs2Sdbv"
      },
      "execution_count": 444,
      "outputs": []
    },
    {
      "cell_type": "code",
      "source": [
        "df = pd.read_csv(path_datasets)"
      ],
      "metadata": {
        "id": "HcAC-rxLSf5L"
      },
      "execution_count": 477,
      "outputs": []
    },
    {
      "cell_type": "markdown",
      "source": [
        "Data Understanding:\n"
      ],
      "metadata": {
        "id": "gQv2GRdp17y3"
      }
    },
    {
      "cell_type": "code",
      "source": [
        "# first 5 data of dataset\n",
        "df.head()"
      ],
      "metadata": {
        "colab": {
          "base_uri": "https://localhost:8080/",
          "height": 206
        },
        "id": "Q5q2D_eXzhdA",
        "outputId": "93437fbf-af79-4021-c45d-a14937ef934f"
      },
      "execution_count": 446,
      "outputs": [
        {
          "output_type": "execute_result",
          "data": {
            "text/plain": [
              "   gender   age  hypertension  heart_disease ever_married Residence_type  \\\n",
              "0    Male  67.0             0              1          Yes          Urban   \n",
              "1    Male  80.0             0              1          Yes          Rural   \n",
              "2  Female  49.0             0              0          Yes          Urban   \n",
              "3  Female  79.0             1              0          Yes          Rural   \n",
              "4    Male  81.0             0              0          Yes          Urban   \n",
              "\n",
              "   avg_glucose_level   bmi   smoking_status  stroke  \n",
              "0             228.69  36.6  formerly smoked       1  \n",
              "1             105.92  32.5     never smoked       1  \n",
              "2             171.23  34.4           smokes       1  \n",
              "3             174.12  24.0     never smoked       1  \n",
              "4             186.21  29.0  formerly smoked       1  "
            ],
            "text/html": [
              "\n",
              "  <div id=\"df-fd4e86e6-9378-42ae-81c2-22c88ecda311\">\n",
              "    <div class=\"colab-df-container\">\n",
              "      <div>\n",
              "<style scoped>\n",
              "    .dataframe tbody tr th:only-of-type {\n",
              "        vertical-align: middle;\n",
              "    }\n",
              "\n",
              "    .dataframe tbody tr th {\n",
              "        vertical-align: top;\n",
              "    }\n",
              "\n",
              "    .dataframe thead th {\n",
              "        text-align: right;\n",
              "    }\n",
              "</style>\n",
              "<table border=\"1\" class=\"dataframe\">\n",
              "  <thead>\n",
              "    <tr style=\"text-align: right;\">\n",
              "      <th></th>\n",
              "      <th>gender</th>\n",
              "      <th>age</th>\n",
              "      <th>hypertension</th>\n",
              "      <th>heart_disease</th>\n",
              "      <th>ever_married</th>\n",
              "      <th>Residence_type</th>\n",
              "      <th>avg_glucose_level</th>\n",
              "      <th>bmi</th>\n",
              "      <th>smoking_status</th>\n",
              "      <th>stroke</th>\n",
              "    </tr>\n",
              "  </thead>\n",
              "  <tbody>\n",
              "    <tr>\n",
              "      <th>0</th>\n",
              "      <td>Male</td>\n",
              "      <td>67.0</td>\n",
              "      <td>0</td>\n",
              "      <td>1</td>\n",
              "      <td>Yes</td>\n",
              "      <td>Urban</td>\n",
              "      <td>228.69</td>\n",
              "      <td>36.6</td>\n",
              "      <td>formerly smoked</td>\n",
              "      <td>1</td>\n",
              "    </tr>\n",
              "    <tr>\n",
              "      <th>1</th>\n",
              "      <td>Male</td>\n",
              "      <td>80.0</td>\n",
              "      <td>0</td>\n",
              "      <td>1</td>\n",
              "      <td>Yes</td>\n",
              "      <td>Rural</td>\n",
              "      <td>105.92</td>\n",
              "      <td>32.5</td>\n",
              "      <td>never smoked</td>\n",
              "      <td>1</td>\n",
              "    </tr>\n",
              "    <tr>\n",
              "      <th>2</th>\n",
              "      <td>Female</td>\n",
              "      <td>49.0</td>\n",
              "      <td>0</td>\n",
              "      <td>0</td>\n",
              "      <td>Yes</td>\n",
              "      <td>Urban</td>\n",
              "      <td>171.23</td>\n",
              "      <td>34.4</td>\n",
              "      <td>smokes</td>\n",
              "      <td>1</td>\n",
              "    </tr>\n",
              "    <tr>\n",
              "      <th>3</th>\n",
              "      <td>Female</td>\n",
              "      <td>79.0</td>\n",
              "      <td>1</td>\n",
              "      <td>0</td>\n",
              "      <td>Yes</td>\n",
              "      <td>Rural</td>\n",
              "      <td>174.12</td>\n",
              "      <td>24.0</td>\n",
              "      <td>never smoked</td>\n",
              "      <td>1</td>\n",
              "    </tr>\n",
              "    <tr>\n",
              "      <th>4</th>\n",
              "      <td>Male</td>\n",
              "      <td>81.0</td>\n",
              "      <td>0</td>\n",
              "      <td>0</td>\n",
              "      <td>Yes</td>\n",
              "      <td>Urban</td>\n",
              "      <td>186.21</td>\n",
              "      <td>29.0</td>\n",
              "      <td>formerly smoked</td>\n",
              "      <td>1</td>\n",
              "    </tr>\n",
              "  </tbody>\n",
              "</table>\n",
              "</div>\n",
              "      <button class=\"colab-df-convert\" onclick=\"convertToInteractive('df-fd4e86e6-9378-42ae-81c2-22c88ecda311')\"\n",
              "              title=\"Convert this dataframe to an interactive table.\"\n",
              "              style=\"display:none;\">\n",
              "        \n",
              "  <svg xmlns=\"http://www.w3.org/2000/svg\" height=\"24px\"viewBox=\"0 0 24 24\"\n",
              "       width=\"24px\">\n",
              "    <path d=\"M0 0h24v24H0V0z\" fill=\"none\"/>\n",
              "    <path d=\"M18.56 5.44l.94 2.06.94-2.06 2.06-.94-2.06-.94-.94-2.06-.94 2.06-2.06.94zm-11 1L8.5 8.5l.94-2.06 2.06-.94-2.06-.94L8.5 2.5l-.94 2.06-2.06.94zm10 10l.94 2.06.94-2.06 2.06-.94-2.06-.94-.94-2.06-.94 2.06-2.06.94z\"/><path d=\"M17.41 7.96l-1.37-1.37c-.4-.4-.92-.59-1.43-.59-.52 0-1.04.2-1.43.59L10.3 9.45l-7.72 7.72c-.78.78-.78 2.05 0 2.83L4 21.41c.39.39.9.59 1.41.59.51 0 1.02-.2 1.41-.59l7.78-7.78 2.81-2.81c.8-.78.8-2.07 0-2.86zM5.41 20L4 18.59l7.72-7.72 1.47 1.35L5.41 20z\"/>\n",
              "  </svg>\n",
              "      </button>\n",
              "      \n",
              "  <style>\n",
              "    .colab-df-container {\n",
              "      display:flex;\n",
              "      flex-wrap:wrap;\n",
              "      gap: 12px;\n",
              "    }\n",
              "\n",
              "    .colab-df-convert {\n",
              "      background-color: #E8F0FE;\n",
              "      border: none;\n",
              "      border-radius: 50%;\n",
              "      cursor: pointer;\n",
              "      display: none;\n",
              "      fill: #1967D2;\n",
              "      height: 32px;\n",
              "      padding: 0 0 0 0;\n",
              "      width: 32px;\n",
              "    }\n",
              "\n",
              "    .colab-df-convert:hover {\n",
              "      background-color: #E2EBFA;\n",
              "      box-shadow: 0px 1px 2px rgba(60, 64, 67, 0.3), 0px 1px 3px 1px rgba(60, 64, 67, 0.15);\n",
              "      fill: #174EA6;\n",
              "    }\n",
              "\n",
              "    [theme=dark] .colab-df-convert {\n",
              "      background-color: #3B4455;\n",
              "      fill: #D2E3FC;\n",
              "    }\n",
              "\n",
              "    [theme=dark] .colab-df-convert:hover {\n",
              "      background-color: #434B5C;\n",
              "      box-shadow: 0px 1px 3px 1px rgba(0, 0, 0, 0.15);\n",
              "      filter: drop-shadow(0px 1px 2px rgba(0, 0, 0, 0.3));\n",
              "      fill: #FFFFFF;\n",
              "    }\n",
              "  </style>\n",
              "\n",
              "      <script>\n",
              "        const buttonEl =\n",
              "          document.querySelector('#df-fd4e86e6-9378-42ae-81c2-22c88ecda311 button.colab-df-convert');\n",
              "        buttonEl.style.display =\n",
              "          google.colab.kernel.accessAllowed ? 'block' : 'none';\n",
              "\n",
              "        async function convertToInteractive(key) {\n",
              "          const element = document.querySelector('#df-fd4e86e6-9378-42ae-81c2-22c88ecda311');\n",
              "          const dataTable =\n",
              "            await google.colab.kernel.invokeFunction('convertToInteractive',\n",
              "                                                     [key], {});\n",
              "          if (!dataTable) return;\n",
              "\n",
              "          const docLinkHtml = 'Like what you see? Visit the ' +\n",
              "            '<a target=\"_blank\" href=https://colab.research.google.com/notebooks/data_table.ipynb>data table notebook</a>'\n",
              "            + ' to learn more about interactive tables.';\n",
              "          element.innerHTML = '';\n",
              "          dataTable['output_type'] = 'display_data';\n",
              "          await google.colab.output.renderOutput(dataTable, element);\n",
              "          const docLink = document.createElement('div');\n",
              "          docLink.innerHTML = docLinkHtml;\n",
              "          element.appendChild(docLink);\n",
              "        }\n",
              "      </script>\n",
              "    </div>\n",
              "  </div>\n",
              "  "
            ]
          },
          "metadata": {},
          "execution_count": 446
        }
      ]
    },
    {
      "cell_type": "code",
      "source": [
        "# Information of the dataset \n",
        "df.info()"
      ],
      "metadata": {
        "colab": {
          "base_uri": "https://localhost:8080/"
        },
        "id": "OCTptqC0StX6",
        "outputId": "f9e785a6-a81f-44f1-acb1-f4929ffb6cc8"
      },
      "execution_count": 447,
      "outputs": [
        {
          "output_type": "stream",
          "name": "stdout",
          "text": [
            "<class 'pandas.core.frame.DataFrame'>\n",
            "RangeIndex: 5069 entries, 0 to 5068\n",
            "Data columns (total 10 columns):\n",
            " #   Column             Non-Null Count  Dtype  \n",
            "---  ------             --------------  -----  \n",
            " 0   gender             5069 non-null   object \n",
            " 1   age                5069 non-null   float64\n",
            " 2   hypertension       5069 non-null   int64  \n",
            " 3   heart_disease      5069 non-null   int64  \n",
            " 4   ever_married       5069 non-null   object \n",
            " 5   Residence_type     5069 non-null   object \n",
            " 6   avg_glucose_level  5069 non-null   float64\n",
            " 7   bmi                5069 non-null   float64\n",
            " 8   smoking_status     5069 non-null   object \n",
            " 9   stroke             5069 non-null   int64  \n",
            "dtypes: float64(3), int64(3), object(4)\n",
            "memory usage: 396.1+ KB\n"
          ]
        }
      ]
    },
    {
      "cell_type": "code",
      "source": [
        "# Mean, Median, Mode, q1,q2,q3,Max value, min Value\n",
        "df.describe()"
      ],
      "metadata": {
        "colab": {
          "base_uri": "https://localhost:8080/",
          "height": 300
        },
        "id": "b2YsqWGfy63w",
        "outputId": "d6e5e8c4-9453-44c8-f3ba-f12fc9ff90e0"
      },
      "execution_count": 448,
      "outputs": [
        {
          "output_type": "execute_result",
          "data": {
            "text/plain": [
              "               age  hypertension  heart_disease  avg_glucose_level  \\\n",
              "count  5069.000000   5069.000000    5069.000000        5069.000000   \n",
              "mean     43.083914      0.097061       0.053265         106.010343   \n",
              "std      22.583033      0.296069       0.224583          45.128178   \n",
              "min       0.080000      0.000000       0.000000          55.120000   \n",
              "25%      25.000000      0.000000       0.000000          77.260000   \n",
              "50%      45.000000      0.000000       0.000000          91.850000   \n",
              "75%      61.000000      0.000000       0.000000         114.020000   \n",
              "max      82.000000      1.000000       1.000000         271.740000   \n",
              "\n",
              "               bmi       stroke  \n",
              "count  5069.000000  5069.000000  \n",
              "mean     28.952117     0.042809  \n",
              "std       8.394409     0.202447  \n",
              "min       0.000000     0.000000  \n",
              "25%      23.500000     0.000000  \n",
              "50%      28.100000     0.000000  \n",
              "75%      33.300000     0.000000  \n",
              "max      97.600000     1.000000  "
            ],
            "text/html": [
              "\n",
              "  <div id=\"df-8a1372e7-e1c1-4de7-b7a7-e5a01996e19f\">\n",
              "    <div class=\"colab-df-container\">\n",
              "      <div>\n",
              "<style scoped>\n",
              "    .dataframe tbody tr th:only-of-type {\n",
              "        vertical-align: middle;\n",
              "    }\n",
              "\n",
              "    .dataframe tbody tr th {\n",
              "        vertical-align: top;\n",
              "    }\n",
              "\n",
              "    .dataframe thead th {\n",
              "        text-align: right;\n",
              "    }\n",
              "</style>\n",
              "<table border=\"1\" class=\"dataframe\">\n",
              "  <thead>\n",
              "    <tr style=\"text-align: right;\">\n",
              "      <th></th>\n",
              "      <th>age</th>\n",
              "      <th>hypertension</th>\n",
              "      <th>heart_disease</th>\n",
              "      <th>avg_glucose_level</th>\n",
              "      <th>bmi</th>\n",
              "      <th>stroke</th>\n",
              "    </tr>\n",
              "  </thead>\n",
              "  <tbody>\n",
              "    <tr>\n",
              "      <th>count</th>\n",
              "      <td>5069.000000</td>\n",
              "      <td>5069.000000</td>\n",
              "      <td>5069.000000</td>\n",
              "      <td>5069.000000</td>\n",
              "      <td>5069.000000</td>\n",
              "      <td>5069.000000</td>\n",
              "    </tr>\n",
              "    <tr>\n",
              "      <th>mean</th>\n",
              "      <td>43.083914</td>\n",
              "      <td>0.097061</td>\n",
              "      <td>0.053265</td>\n",
              "      <td>106.010343</td>\n",
              "      <td>28.952117</td>\n",
              "      <td>0.042809</td>\n",
              "    </tr>\n",
              "    <tr>\n",
              "      <th>std</th>\n",
              "      <td>22.583033</td>\n",
              "      <td>0.296069</td>\n",
              "      <td>0.224583</td>\n",
              "      <td>45.128178</td>\n",
              "      <td>8.394409</td>\n",
              "      <td>0.202447</td>\n",
              "    </tr>\n",
              "    <tr>\n",
              "      <th>min</th>\n",
              "      <td>0.080000</td>\n",
              "      <td>0.000000</td>\n",
              "      <td>0.000000</td>\n",
              "      <td>55.120000</td>\n",
              "      <td>0.000000</td>\n",
              "      <td>0.000000</td>\n",
              "    </tr>\n",
              "    <tr>\n",
              "      <th>25%</th>\n",
              "      <td>25.000000</td>\n",
              "      <td>0.000000</td>\n",
              "      <td>0.000000</td>\n",
              "      <td>77.260000</td>\n",
              "      <td>23.500000</td>\n",
              "      <td>0.000000</td>\n",
              "    </tr>\n",
              "    <tr>\n",
              "      <th>50%</th>\n",
              "      <td>45.000000</td>\n",
              "      <td>0.000000</td>\n",
              "      <td>0.000000</td>\n",
              "      <td>91.850000</td>\n",
              "      <td>28.100000</td>\n",
              "      <td>0.000000</td>\n",
              "    </tr>\n",
              "    <tr>\n",
              "      <th>75%</th>\n",
              "      <td>61.000000</td>\n",
              "      <td>0.000000</td>\n",
              "      <td>0.000000</td>\n",
              "      <td>114.020000</td>\n",
              "      <td>33.300000</td>\n",
              "      <td>0.000000</td>\n",
              "    </tr>\n",
              "    <tr>\n",
              "      <th>max</th>\n",
              "      <td>82.000000</td>\n",
              "      <td>1.000000</td>\n",
              "      <td>1.000000</td>\n",
              "      <td>271.740000</td>\n",
              "      <td>97.600000</td>\n",
              "      <td>1.000000</td>\n",
              "    </tr>\n",
              "  </tbody>\n",
              "</table>\n",
              "</div>\n",
              "      <button class=\"colab-df-convert\" onclick=\"convertToInteractive('df-8a1372e7-e1c1-4de7-b7a7-e5a01996e19f')\"\n",
              "              title=\"Convert this dataframe to an interactive table.\"\n",
              "              style=\"display:none;\">\n",
              "        \n",
              "  <svg xmlns=\"http://www.w3.org/2000/svg\" height=\"24px\"viewBox=\"0 0 24 24\"\n",
              "       width=\"24px\">\n",
              "    <path d=\"M0 0h24v24H0V0z\" fill=\"none\"/>\n",
              "    <path d=\"M18.56 5.44l.94 2.06.94-2.06 2.06-.94-2.06-.94-.94-2.06-.94 2.06-2.06.94zm-11 1L8.5 8.5l.94-2.06 2.06-.94-2.06-.94L8.5 2.5l-.94 2.06-2.06.94zm10 10l.94 2.06.94-2.06 2.06-.94-2.06-.94-.94-2.06-.94 2.06-2.06.94z\"/><path d=\"M17.41 7.96l-1.37-1.37c-.4-.4-.92-.59-1.43-.59-.52 0-1.04.2-1.43.59L10.3 9.45l-7.72 7.72c-.78.78-.78 2.05 0 2.83L4 21.41c.39.39.9.59 1.41.59.51 0 1.02-.2 1.41-.59l7.78-7.78 2.81-2.81c.8-.78.8-2.07 0-2.86zM5.41 20L4 18.59l7.72-7.72 1.47 1.35L5.41 20z\"/>\n",
              "  </svg>\n",
              "      </button>\n",
              "      \n",
              "  <style>\n",
              "    .colab-df-container {\n",
              "      display:flex;\n",
              "      flex-wrap:wrap;\n",
              "      gap: 12px;\n",
              "    }\n",
              "\n",
              "    .colab-df-convert {\n",
              "      background-color: #E8F0FE;\n",
              "      border: none;\n",
              "      border-radius: 50%;\n",
              "      cursor: pointer;\n",
              "      display: none;\n",
              "      fill: #1967D2;\n",
              "      height: 32px;\n",
              "      padding: 0 0 0 0;\n",
              "      width: 32px;\n",
              "    }\n",
              "\n",
              "    .colab-df-convert:hover {\n",
              "      background-color: #E2EBFA;\n",
              "      box-shadow: 0px 1px 2px rgba(60, 64, 67, 0.3), 0px 1px 3px 1px rgba(60, 64, 67, 0.15);\n",
              "      fill: #174EA6;\n",
              "    }\n",
              "\n",
              "    [theme=dark] .colab-df-convert {\n",
              "      background-color: #3B4455;\n",
              "      fill: #D2E3FC;\n",
              "    }\n",
              "\n",
              "    [theme=dark] .colab-df-convert:hover {\n",
              "      background-color: #434B5C;\n",
              "      box-shadow: 0px 1px 3px 1px rgba(0, 0, 0, 0.15);\n",
              "      filter: drop-shadow(0px 1px 2px rgba(0, 0, 0, 0.3));\n",
              "      fill: #FFFFFF;\n",
              "    }\n",
              "  </style>\n",
              "\n",
              "      <script>\n",
              "        const buttonEl =\n",
              "          document.querySelector('#df-8a1372e7-e1c1-4de7-b7a7-e5a01996e19f button.colab-df-convert');\n",
              "        buttonEl.style.display =\n",
              "          google.colab.kernel.accessAllowed ? 'block' : 'none';\n",
              "\n",
              "        async function convertToInteractive(key) {\n",
              "          const element = document.querySelector('#df-8a1372e7-e1c1-4de7-b7a7-e5a01996e19f');\n",
              "          const dataTable =\n",
              "            await google.colab.kernel.invokeFunction('convertToInteractive',\n",
              "                                                     [key], {});\n",
              "          if (!dataTable) return;\n",
              "\n",
              "          const docLinkHtml = 'Like what you see? Visit the ' +\n",
              "            '<a target=\"_blank\" href=https://colab.research.google.com/notebooks/data_table.ipynb>data table notebook</a>'\n",
              "            + ' to learn more about interactive tables.';\n",
              "          element.innerHTML = '';\n",
              "          dataTable['output_type'] = 'display_data';\n",
              "          await google.colab.output.renderOutput(dataTable, element);\n",
              "          const docLink = document.createElement('div');\n",
              "          docLink.innerHTML = docLinkHtml;\n",
              "          element.appendChild(docLink);\n",
              "        }\n",
              "      </script>\n",
              "    </div>\n",
              "  </div>\n",
              "  "
            ]
          },
          "metadata": {},
          "execution_count": 448
        }
      ]
    },
    {
      "cell_type": "code",
      "source": [
        "df.isnull().sum()"
      ],
      "metadata": {
        "colab": {
          "base_uri": "https://localhost:8080/"
        },
        "id": "MFMe3ERBzKOK",
        "outputId": "ef3d8fb3-2a5d-45ae-c165-87b2503f4ff2"
      },
      "execution_count": 449,
      "outputs": [
        {
          "output_type": "execute_result",
          "data": {
            "text/plain": [
              "gender               0\n",
              "age                  0\n",
              "hypertension         0\n",
              "heart_disease        0\n",
              "ever_married         0\n",
              "Residence_type       0\n",
              "avg_glucose_level    0\n",
              "bmi                  0\n",
              "smoking_status       0\n",
              "stroke               0\n",
              "dtype: int64"
            ]
          },
          "metadata": {},
          "execution_count": 449
        }
      ]
    },
    {
      "cell_type": "code",
      "source": [
        "df.shape"
      ],
      "metadata": {
        "colab": {
          "base_uri": "https://localhost:8080/"
        },
        "id": "Ip9cUr61LNAq",
        "outputId": "8551f076-173e-4228-86af-e50747287344"
      },
      "execution_count": 450,
      "outputs": [
        {
          "output_type": "execute_result",
          "data": {
            "text/plain": [
              "(5069, 10)"
            ]
          },
          "metadata": {},
          "execution_count": 450
        }
      ]
    },
    {
      "cell_type": "code",
      "source": [
        "# Splitting the data into independent variale  as X  and dependent variables as the Y   \n",
        "X = df[[\"bmi\",\"age\",\"avg_glucose_level\"]]\n",
        "Y = df[\"stroke\"]"
      ],
      "metadata": {
        "id": "MgLKvdGlPy9C"
      },
      "execution_count": 452,
      "outputs": []
    },
    {
      "cell_type": "code",
      "source": [
        "X"
      ],
      "metadata": {
        "colab": {
          "base_uri": "https://localhost:8080/",
          "height": 423
        },
        "id": "SieTnPfQ_sFY",
        "outputId": "e98945a8-4cf7-4656-cbad-48947d757db2"
      },
      "execution_count": 453,
      "outputs": [
        {
          "output_type": "execute_result",
          "data": {
            "text/plain": [
              "       bmi   age  avg_glucose_level\n",
              "0     36.6  67.0             228.69\n",
              "1     32.5  80.0             105.92\n",
              "2     34.4  49.0             171.23\n",
              "3     24.0  79.0             174.12\n",
              "4     29.0  81.0             186.21\n",
              "...    ...   ...                ...\n",
              "5064  18.6  13.0             103.08\n",
              "5065  40.0  81.0             125.20\n",
              "5066  30.6  35.0              82.99\n",
              "5067  25.6  51.0             166.29\n",
              "5068  26.2  44.0              85.28\n",
              "\n",
              "[5069 rows x 3 columns]"
            ],
            "text/html": [
              "\n",
              "  <div id=\"df-2a221692-160a-418f-bae7-5f93f043d8ca\">\n",
              "    <div class=\"colab-df-container\">\n",
              "      <div>\n",
              "<style scoped>\n",
              "    .dataframe tbody tr th:only-of-type {\n",
              "        vertical-align: middle;\n",
              "    }\n",
              "\n",
              "    .dataframe tbody tr th {\n",
              "        vertical-align: top;\n",
              "    }\n",
              "\n",
              "    .dataframe thead th {\n",
              "        text-align: right;\n",
              "    }\n",
              "</style>\n",
              "<table border=\"1\" class=\"dataframe\">\n",
              "  <thead>\n",
              "    <tr style=\"text-align: right;\">\n",
              "      <th></th>\n",
              "      <th>bmi</th>\n",
              "      <th>age</th>\n",
              "      <th>avg_glucose_level</th>\n",
              "    </tr>\n",
              "  </thead>\n",
              "  <tbody>\n",
              "    <tr>\n",
              "      <th>0</th>\n",
              "      <td>36.6</td>\n",
              "      <td>67.0</td>\n",
              "      <td>228.69</td>\n",
              "    </tr>\n",
              "    <tr>\n",
              "      <th>1</th>\n",
              "      <td>32.5</td>\n",
              "      <td>80.0</td>\n",
              "      <td>105.92</td>\n",
              "    </tr>\n",
              "    <tr>\n",
              "      <th>2</th>\n",
              "      <td>34.4</td>\n",
              "      <td>49.0</td>\n",
              "      <td>171.23</td>\n",
              "    </tr>\n",
              "    <tr>\n",
              "      <th>3</th>\n",
              "      <td>24.0</td>\n",
              "      <td>79.0</td>\n",
              "      <td>174.12</td>\n",
              "    </tr>\n",
              "    <tr>\n",
              "      <th>4</th>\n",
              "      <td>29.0</td>\n",
              "      <td>81.0</td>\n",
              "      <td>186.21</td>\n",
              "    </tr>\n",
              "    <tr>\n",
              "      <th>...</th>\n",
              "      <td>...</td>\n",
              "      <td>...</td>\n",
              "      <td>...</td>\n",
              "    </tr>\n",
              "    <tr>\n",
              "      <th>5064</th>\n",
              "      <td>18.6</td>\n",
              "      <td>13.0</td>\n",
              "      <td>103.08</td>\n",
              "    </tr>\n",
              "    <tr>\n",
              "      <th>5065</th>\n",
              "      <td>40.0</td>\n",
              "      <td>81.0</td>\n",
              "      <td>125.20</td>\n",
              "    </tr>\n",
              "    <tr>\n",
              "      <th>5066</th>\n",
              "      <td>30.6</td>\n",
              "      <td>35.0</td>\n",
              "      <td>82.99</td>\n",
              "    </tr>\n",
              "    <tr>\n",
              "      <th>5067</th>\n",
              "      <td>25.6</td>\n",
              "      <td>51.0</td>\n",
              "      <td>166.29</td>\n",
              "    </tr>\n",
              "    <tr>\n",
              "      <th>5068</th>\n",
              "      <td>26.2</td>\n",
              "      <td>44.0</td>\n",
              "      <td>85.28</td>\n",
              "    </tr>\n",
              "  </tbody>\n",
              "</table>\n",
              "<p>5069 rows × 3 columns</p>\n",
              "</div>\n",
              "      <button class=\"colab-df-convert\" onclick=\"convertToInteractive('df-2a221692-160a-418f-bae7-5f93f043d8ca')\"\n",
              "              title=\"Convert this dataframe to an interactive table.\"\n",
              "              style=\"display:none;\">\n",
              "        \n",
              "  <svg xmlns=\"http://www.w3.org/2000/svg\" height=\"24px\"viewBox=\"0 0 24 24\"\n",
              "       width=\"24px\">\n",
              "    <path d=\"M0 0h24v24H0V0z\" fill=\"none\"/>\n",
              "    <path d=\"M18.56 5.44l.94 2.06.94-2.06 2.06-.94-2.06-.94-.94-2.06-.94 2.06-2.06.94zm-11 1L8.5 8.5l.94-2.06 2.06-.94-2.06-.94L8.5 2.5l-.94 2.06-2.06.94zm10 10l.94 2.06.94-2.06 2.06-.94-2.06-.94-.94-2.06-.94 2.06-2.06.94z\"/><path d=\"M17.41 7.96l-1.37-1.37c-.4-.4-.92-.59-1.43-.59-.52 0-1.04.2-1.43.59L10.3 9.45l-7.72 7.72c-.78.78-.78 2.05 0 2.83L4 21.41c.39.39.9.59 1.41.59.51 0 1.02-.2 1.41-.59l7.78-7.78 2.81-2.81c.8-.78.8-2.07 0-2.86zM5.41 20L4 18.59l7.72-7.72 1.47 1.35L5.41 20z\"/>\n",
              "  </svg>\n",
              "      </button>\n",
              "      \n",
              "  <style>\n",
              "    .colab-df-container {\n",
              "      display:flex;\n",
              "      flex-wrap:wrap;\n",
              "      gap: 12px;\n",
              "    }\n",
              "\n",
              "    .colab-df-convert {\n",
              "      background-color: #E8F0FE;\n",
              "      border: none;\n",
              "      border-radius: 50%;\n",
              "      cursor: pointer;\n",
              "      display: none;\n",
              "      fill: #1967D2;\n",
              "      height: 32px;\n",
              "      padding: 0 0 0 0;\n",
              "      width: 32px;\n",
              "    }\n",
              "\n",
              "    .colab-df-convert:hover {\n",
              "      background-color: #E2EBFA;\n",
              "      box-shadow: 0px 1px 2px rgba(60, 64, 67, 0.3), 0px 1px 3px 1px rgba(60, 64, 67, 0.15);\n",
              "      fill: #174EA6;\n",
              "    }\n",
              "\n",
              "    [theme=dark] .colab-df-convert {\n",
              "      background-color: #3B4455;\n",
              "      fill: #D2E3FC;\n",
              "    }\n",
              "\n",
              "    [theme=dark] .colab-df-convert:hover {\n",
              "      background-color: #434B5C;\n",
              "      box-shadow: 0px 1px 3px 1px rgba(0, 0, 0, 0.15);\n",
              "      filter: drop-shadow(0px 1px 2px rgba(0, 0, 0, 0.3));\n",
              "      fill: #FFFFFF;\n",
              "    }\n",
              "  </style>\n",
              "\n",
              "      <script>\n",
              "        const buttonEl =\n",
              "          document.querySelector('#df-2a221692-160a-418f-bae7-5f93f043d8ca button.colab-df-convert');\n",
              "        buttonEl.style.display =\n",
              "          google.colab.kernel.accessAllowed ? 'block' : 'none';\n",
              "\n",
              "        async function convertToInteractive(key) {\n",
              "          const element = document.querySelector('#df-2a221692-160a-418f-bae7-5f93f043d8ca');\n",
              "          const dataTable =\n",
              "            await google.colab.kernel.invokeFunction('convertToInteractive',\n",
              "                                                     [key], {});\n",
              "          if (!dataTable) return;\n",
              "\n",
              "          const docLinkHtml = 'Like what you see? Visit the ' +\n",
              "            '<a target=\"_blank\" href=https://colab.research.google.com/notebooks/data_table.ipynb>data table notebook</a>'\n",
              "            + ' to learn more about interactive tables.';\n",
              "          element.innerHTML = '';\n",
              "          dataTable['output_type'] = 'display_data';\n",
              "          await google.colab.output.renderOutput(dataTable, element);\n",
              "          const docLink = document.createElement('div');\n",
              "          docLink.innerHTML = docLinkHtml;\n",
              "          element.appendChild(docLink);\n",
              "        }\n",
              "      </script>\n",
              "    </div>\n",
              "  </div>\n",
              "  "
            ]
          },
          "metadata": {},
          "execution_count": 453
        }
      ]
    },
    {
      "cell_type": "code",
      "source": [
        "Y"
      ],
      "metadata": {
        "colab": {
          "base_uri": "https://localhost:8080/"
        },
        "id": "GvLd5OKVPhcz",
        "outputId": "9c05012e-1130-4a7d-e14e-172a788e8bf5"
      },
      "execution_count": 454,
      "outputs": [
        {
          "output_type": "execute_result",
          "data": {
            "text/plain": [
              "0       1\n",
              "1       1\n",
              "2       1\n",
              "3       1\n",
              "4       1\n",
              "       ..\n",
              "5064    0\n",
              "5065    0\n",
              "5066    0\n",
              "5067    0\n",
              "5068    0\n",
              "Name: stroke, Length: 5069, dtype: int64"
            ]
          },
          "metadata": {},
          "execution_count": 454
        }
      ]
    },
    {
      "cell_type": "markdown",
      "source": [
        "Finding the co-relation between the independent and dependent variable"
      ],
      "metadata": {
        "id": "hiXtp7GT2u7h"
      }
    },
    {
      "cell_type": "code",
      "source": [
        "df.corr()"
      ],
      "metadata": {
        "colab": {
          "base_uri": "https://localhost:8080/",
          "height": 237
        },
        "id": "LCpEen2oR-09",
        "outputId": "09c6ba5f-c8aa-4cfb-d015-b6a4decd0f67"
      },
      "execution_count": 455,
      "outputs": [
        {
          "output_type": "execute_result",
          "data": {
            "text/plain": [
              "                        age  hypertension  heart_disease  avg_glucose_level  \\\n",
              "age                1.000000      0.276276       0.262815           0.238723   \n",
              "hypertension       0.276276      1.000000       0.109185           0.180079   \n",
              "heart_disease      0.262815      0.109185       1.000000           0.159868   \n",
              "avg_glucose_level  0.238723      0.180079       0.159868           1.000000   \n",
              "bmi                0.305333      0.168066       0.058512           0.161306   \n",
              "stroke             0.234257      0.134767       0.132112           0.132188   \n",
              "\n",
              "                        bmi    stroke  \n",
              "age                0.305333  0.234257  \n",
              "hypertension       0.168066  0.134767  \n",
              "heart_disease      0.058512  0.132112  \n",
              "avg_glucose_level  0.161306  0.132188  \n",
              "bmi                1.000000  0.041577  \n",
              "stroke             0.041577  1.000000  "
            ],
            "text/html": [
              "\n",
              "  <div id=\"df-b3cad982-296f-4d3e-9503-aa32ecb712ca\">\n",
              "    <div class=\"colab-df-container\">\n",
              "      <div>\n",
              "<style scoped>\n",
              "    .dataframe tbody tr th:only-of-type {\n",
              "        vertical-align: middle;\n",
              "    }\n",
              "\n",
              "    .dataframe tbody tr th {\n",
              "        vertical-align: top;\n",
              "    }\n",
              "\n",
              "    .dataframe thead th {\n",
              "        text-align: right;\n",
              "    }\n",
              "</style>\n",
              "<table border=\"1\" class=\"dataframe\">\n",
              "  <thead>\n",
              "    <tr style=\"text-align: right;\">\n",
              "      <th></th>\n",
              "      <th>age</th>\n",
              "      <th>hypertension</th>\n",
              "      <th>heart_disease</th>\n",
              "      <th>avg_glucose_level</th>\n",
              "      <th>bmi</th>\n",
              "      <th>stroke</th>\n",
              "    </tr>\n",
              "  </thead>\n",
              "  <tbody>\n",
              "    <tr>\n",
              "      <th>age</th>\n",
              "      <td>1.000000</td>\n",
              "      <td>0.276276</td>\n",
              "      <td>0.262815</td>\n",
              "      <td>0.238723</td>\n",
              "      <td>0.305333</td>\n",
              "      <td>0.234257</td>\n",
              "    </tr>\n",
              "    <tr>\n",
              "      <th>hypertension</th>\n",
              "      <td>0.276276</td>\n",
              "      <td>1.000000</td>\n",
              "      <td>0.109185</td>\n",
              "      <td>0.180079</td>\n",
              "      <td>0.168066</td>\n",
              "      <td>0.134767</td>\n",
              "    </tr>\n",
              "    <tr>\n",
              "      <th>heart_disease</th>\n",
              "      <td>0.262815</td>\n",
              "      <td>0.109185</td>\n",
              "      <td>1.000000</td>\n",
              "      <td>0.159868</td>\n",
              "      <td>0.058512</td>\n",
              "      <td>0.132112</td>\n",
              "    </tr>\n",
              "    <tr>\n",
              "      <th>avg_glucose_level</th>\n",
              "      <td>0.238723</td>\n",
              "      <td>0.180079</td>\n",
              "      <td>0.159868</td>\n",
              "      <td>1.000000</td>\n",
              "      <td>0.161306</td>\n",
              "      <td>0.132188</td>\n",
              "    </tr>\n",
              "    <tr>\n",
              "      <th>bmi</th>\n",
              "      <td>0.305333</td>\n",
              "      <td>0.168066</td>\n",
              "      <td>0.058512</td>\n",
              "      <td>0.161306</td>\n",
              "      <td>1.000000</td>\n",
              "      <td>0.041577</td>\n",
              "    </tr>\n",
              "    <tr>\n",
              "      <th>stroke</th>\n",
              "      <td>0.234257</td>\n",
              "      <td>0.134767</td>\n",
              "      <td>0.132112</td>\n",
              "      <td>0.132188</td>\n",
              "      <td>0.041577</td>\n",
              "      <td>1.000000</td>\n",
              "    </tr>\n",
              "  </tbody>\n",
              "</table>\n",
              "</div>\n",
              "      <button class=\"colab-df-convert\" onclick=\"convertToInteractive('df-b3cad982-296f-4d3e-9503-aa32ecb712ca')\"\n",
              "              title=\"Convert this dataframe to an interactive table.\"\n",
              "              style=\"display:none;\">\n",
              "        \n",
              "  <svg xmlns=\"http://www.w3.org/2000/svg\" height=\"24px\"viewBox=\"0 0 24 24\"\n",
              "       width=\"24px\">\n",
              "    <path d=\"M0 0h24v24H0V0z\" fill=\"none\"/>\n",
              "    <path d=\"M18.56 5.44l.94 2.06.94-2.06 2.06-.94-2.06-.94-.94-2.06-.94 2.06-2.06.94zm-11 1L8.5 8.5l.94-2.06 2.06-.94-2.06-.94L8.5 2.5l-.94 2.06-2.06.94zm10 10l.94 2.06.94-2.06 2.06-.94-2.06-.94-.94-2.06-.94 2.06-2.06.94z\"/><path d=\"M17.41 7.96l-1.37-1.37c-.4-.4-.92-.59-1.43-.59-.52 0-1.04.2-1.43.59L10.3 9.45l-7.72 7.72c-.78.78-.78 2.05 0 2.83L4 21.41c.39.39.9.59 1.41.59.51 0 1.02-.2 1.41-.59l7.78-7.78 2.81-2.81c.8-.78.8-2.07 0-2.86zM5.41 20L4 18.59l7.72-7.72 1.47 1.35L5.41 20z\"/>\n",
              "  </svg>\n",
              "      </button>\n",
              "      \n",
              "  <style>\n",
              "    .colab-df-container {\n",
              "      display:flex;\n",
              "      flex-wrap:wrap;\n",
              "      gap: 12px;\n",
              "    }\n",
              "\n",
              "    .colab-df-convert {\n",
              "      background-color: #E8F0FE;\n",
              "      border: none;\n",
              "      border-radius: 50%;\n",
              "      cursor: pointer;\n",
              "      display: none;\n",
              "      fill: #1967D2;\n",
              "      height: 32px;\n",
              "      padding: 0 0 0 0;\n",
              "      width: 32px;\n",
              "    }\n",
              "\n",
              "    .colab-df-convert:hover {\n",
              "      background-color: #E2EBFA;\n",
              "      box-shadow: 0px 1px 2px rgba(60, 64, 67, 0.3), 0px 1px 3px 1px rgba(60, 64, 67, 0.15);\n",
              "      fill: #174EA6;\n",
              "    }\n",
              "\n",
              "    [theme=dark] .colab-df-convert {\n",
              "      background-color: #3B4455;\n",
              "      fill: #D2E3FC;\n",
              "    }\n",
              "\n",
              "    [theme=dark] .colab-df-convert:hover {\n",
              "      background-color: #434B5C;\n",
              "      box-shadow: 0px 1px 3px 1px rgba(0, 0, 0, 0.15);\n",
              "      filter: drop-shadow(0px 1px 2px rgba(0, 0, 0, 0.3));\n",
              "      fill: #FFFFFF;\n",
              "    }\n",
              "  </style>\n",
              "\n",
              "      <script>\n",
              "        const buttonEl =\n",
              "          document.querySelector('#df-b3cad982-296f-4d3e-9503-aa32ecb712ca button.colab-df-convert');\n",
              "        buttonEl.style.display =\n",
              "          google.colab.kernel.accessAllowed ? 'block' : 'none';\n",
              "\n",
              "        async function convertToInteractive(key) {\n",
              "          const element = document.querySelector('#df-b3cad982-296f-4d3e-9503-aa32ecb712ca');\n",
              "          const dataTable =\n",
              "            await google.colab.kernel.invokeFunction('convertToInteractive',\n",
              "                                                     [key], {});\n",
              "          if (!dataTable) return;\n",
              "\n",
              "          const docLinkHtml = 'Like what you see? Visit the ' +\n",
              "            '<a target=\"_blank\" href=https://colab.research.google.com/notebooks/data_table.ipynb>data table notebook</a>'\n",
              "            + ' to learn more about interactive tables.';\n",
              "          element.innerHTML = '';\n",
              "          dataTable['output_type'] = 'display_data';\n",
              "          await google.colab.output.renderOutput(dataTable, element);\n",
              "          const docLink = document.createElement('div');\n",
              "          docLink.innerHTML = docLinkHtml;\n",
              "          element.appendChild(docLink);\n",
              "        }\n",
              "      </script>\n",
              "    </div>\n",
              "  </div>\n",
              "  "
            ]
          },
          "metadata": {},
          "execution_count": 455
        }
      ]
    },
    {
      "cell_type": "markdown",
      "source": [
        "Data Analysis and Visualization:"
      ],
      "metadata": {
        "id": "vAlZaSOy2xlk"
      }
    },
    {
      "cell_type": "code",
      "source": [
        "df.hist(figsize = (10,10))\n",
        "plt.show()"
      ],
      "metadata": {
        "colab": {
          "base_uri": "https://localhost:8080/",
          "height": 607
        },
        "id": "FNbNdQqOPjp8",
        "outputId": "c3b68bd4-adcd-4bc7-a3dc-0a0d1e856b28"
      },
      "execution_count": 456,
      "outputs": [
        {
          "output_type": "display_data",
          "data": {
            "text/plain": [
              "<Figure size 720x720 with 6 Axes>"
            ],
            "image/png": "[encoded data removed]"
          },
          "metadata": {
            "needs_background": "light"
          }
        }
      ]
    },
    {
      "cell_type": "code",
      "source": [
        "df.boxplot()\n",
        "plt.show()"
      ],
      "metadata": {
        "colab": {
          "base_uri": "https://localhost:8080/",
          "height": 266
        },
        "id": "JpjI_RC1RaSW",
        "outputId": "fc42fe9b-bfcf-4f3b-dcba-99ffb25b16ee"
      },
      "execution_count": 457,
      "outputs": [
        {
          "output_type": "display_data",
          "data": {
            "text/plain": [
              "<Figure size 432x288 with 1 Axes>"
            ],
            "image/png": "[encoded data removed]"
          },
          "metadata": {
            "needs_background": "light"
          }
        }
      ]
    },
    {
      "cell_type": "code",
      "source": [
        "import seaborn as sns\n",
        "sns.heatmap(df.corr(), cmap='coolwarm')\n",
        "plt.show()"
      ],
      "metadata": {
        "colab": {
          "base_uri": "https://localhost:8080/",
          "height": 350
        },
        "id": "Q6CmpYirR0BW",
        "outputId": "4c481b3d-2bad-4c4f-b7d4-c5bd42b0800e"
      },
      "execution_count": 458,
      "outputs": [
        {
          "output_type": "display_data",
          "data": {
            "text/plain": [
              "<Figure size 432x288 with 2 Axes>"
            ],
            "image/png": "[encoded data removed]"
          },
          "metadata": {
            "needs_background": "light"
          }
        }
      ]
    },
    {
      "cell_type": "markdown",
      "source": [
        "Build Primary Model[Multiple Linear Regression]:\n",
        "\n",
        "Seperating x train, x test, y train and y test using scikit-learn library."
      ],
      "metadata": {
        "id": "6O59fnyX23Uc"
      }
    },
    {
      "cell_type": "code",
      "source": [
        "from sklearn.model_selection import train_test_split\n",
        "X_train,X_test,Y_train,Y_test = train_test_split(X,Y,test_size=0.3, random_state=5)"
      ],
      "metadata": {
        "id": "ThZPE-XATA9L"
      },
      "execution_count": 459,
      "outputs": []
    },
    {
      "cell_type": "code",
      "source": [
        "from sklearn.preprocessing import StandardScaler\n",
        "\n",
        "# create an instance of StandardScaler\n",
        "scaler = StandardScaler ()\n",
        "\n",
        "# use the fitted scaler to transform both the training and test data\n",
        "X_train = scaler.fit_transform(X_train)\n",
        "X_test = scaler.transform(X_test)"
      ],
      "metadata": {
        "id": "fAuuYepoTOse"
      },
      "execution_count": 460,
      "outputs": []
    },
    {
      "cell_type": "code",
      "source": [
        "# initializing Matrices which act as an Container to hold our Data.\n",
        "W = np.zeros(X_train.shape[1])\n",
        "B = 0\n"
      ],
      "metadata": {
        "id": "2rNuANm1TSSs"
      },
      "execution_count": 461,
      "outputs": []
    },
    {
      "cell_type": "code",
      "source": [
        "def sigmoid_function(x, w, b):\n",
        "    z = x.dot(w) + b\n",
        "    z.shape\n",
        "    return np.where(1/(1 + np.exp(-z)) > 0.5, 1, 0)\n",
        "    \n"
      ],
      "metadata": {
        "id": "TGK0yp1OUQtB"
      },
      "execution_count": 462,
      "outputs": []
    },
    {
      "cell_type": "code",
      "source": [
        "def cost_function(X, Y, W, B):\n",
        "    Y_pred = sigmoid_function(X,W,B)\n",
        "    epsilon = 1e-15\n",
        "    # Calculate the log loss between the actual and predicted values\n",
        "    loss = -np.mean(Y * np.log(Y_pred + epsilon) + (1 - Y) * np.log(1 - Y_pred + epsilon))\n",
        "    return loss"
      ],
      "metadata": {
        "id": "hkMTM2w8VVdT"
      },
      "execution_count": 463,
      "outputs": []
    },
    {
      "cell_type": "code",
      "source": [
        "inital_cost = cost_function(X_train, Y_train, np.array([0,0,0]),0)\n",
        "print(inital_cost)\n"
      ],
      "metadata": {
        "colab": {
          "base_uri": "https://localhost:8080/"
        },
        "id": "CrcuYxeVaW3W",
        "outputId": "f4ed5ff0-0006-40e1-b473-f18c077d3e97"
      },
      "execution_count": 464,
      "outputs": [
        {
          "output_type": "stream",
          "name": "stdout",
          "text": [
            "1.4991464387869906\n"
          ]
        }
      ]
    },
    {
      "cell_type": "code",
      "source": [
        "print( X_train.shape)\n",
        "print( X_test.shape)\n",
        "print( Y_train.shape)\n",
        "print( Y_test.shape)"
      ],
      "metadata": {
        "colab": {
          "base_uri": "https://localhost:8080/"
        },
        "id": "PcjjOx_vKvQC",
        "outputId": "7e9261d2-2bd0-4c7c-e2b4-a3c8019a2e12"
      },
      "execution_count": 465,
      "outputs": [
        {
          "output_type": "stream",
          "name": "stdout",
          "text": [
            "(3548, 3)\n",
            "(1521, 3)\n",
            "(3548,)\n",
            "(1521,)\n"
          ]
        }
      ]
    },
    {
      "cell_type": "code",
      "source": [
        "def gradient_descent(X, Y, W, B, alpha, iterations):\n",
        "    cost_history = [0] * iterations\n",
        "    m = len(Y)\n",
        "    \n",
        "    for iteration in range(iterations):\n",
        "        # Hypothesis Values\n",
        "        Y_pred = sigmoid_function(X,W,B)\n",
        "        # Difference b/w Hypothesis and Actual Y\n",
        "        loss = Y_pred - Y\n",
        "        # Gradient Calculation\n",
        "        dw = (X.T.dot(loss) ) / (m)\n",
        "        db = np.sum(loss)/m\n",
        "        # Changing Values of B using Gradient\n",
        "        W = W - alpha * dw\n",
        "        B = B - alpha * db\n",
        "        # New Cost Value\n",
        "        cost = cost_function(X, Y, W, B)\n",
        "        cost_history[iteration] = cost\n",
        "        \n",
        "    return W, B, cost_history"
      ],
      "metadata": {
        "id": "swqUcrbAVzXT"
      },
      "execution_count": 466,
      "outputs": []
    },
    {
      "cell_type": "code",
      "source": [
        " # Learning Rate:\n",
        "alpha = 0.001\n",
        "\n",
        "Stroke,new_bias, Updated_cost = gradient_descent(X_train, Y_train, W, B, alpha, 10000)\n",
        "print(new_bias)\n",
        "# New Values of\n",
        "print(Stroke)\n",
        "\n",
        "# Final Cost of our Iterations.\n",
        "print(Updated_cost)"
      ],
      "metadata": {
        "colab": {
          "base_uri": "https://localhost:8080/"
        },
        "id": "aEBawZHAYLJk",
        "outputId": "58c0b7e7-a25b-45ba-eac8-70815b7fbb34"
      },
      "execution_count": 467,
      "outputs": [
        {
          "output_type": "stream",
          "name": "stdout",
          "text": [
            "-0.0001820744081172498\n",
            "[-1.45716469e-05  6.34362326e-05 -1.09170103e-04]\n",
            "[23.314647538278205, 3.58237590567281, 1.4991464387869906, 1.4991464387869906, 1.4991464387869906, 1.4991464387869906, 1.8788004070512287, 1.7425143671615022, 2.015086446940955, 1.5867588930018148, 2.550495889364881, 1.4991464387869906, 3.17351778600363, 1.4991464387869906, 2.200046072505584, 1.4991464387869906, 4.4487657306860715, 1.4991464387869906, 1.4991464387869906, 2.336332112395311, 1.4894117216520104, 4.4487657306860715, 1.4991464387869906, 1.4991464387869906, 2.696516646389588, 1.4991464387869906, 3.3974162801081818, 1.508881155921971, 3.757600814102458, 1.5186158730569514, 2.151372486830682, 1.6451671958116976, 4.4195615792811305, 1.4991464387869906, 1.4991464387869906, 2.8230679691443346, 1.5088811559219713, 3.416885714378142, 1.508881155921971, 4.030172893881911, 1.6062283272717757, 2.3071279609903694, 1.5088811559219713, 4.5655823363058365, 1.4991464387869906, 2.7743943834694313, 1.4991464387869906, 1.5770241758668342, 6.239953683522476, 1.7911879528364048, 1.4991464387869906, 1.4991464387869906, 2.5018223036899783, 1.5770241758668342, 4.2443366708514825, 1.5770241758668342, 4.098315913826775, 2.287658526720408, 1.7814532357014243, 3.046966463248885, 1.5186158730569514, 5.081522344459801, 2.3363321123953105, 1.5575547415968733, 3.202721937408572, 1.4991464387869906, 3.8354785511823017, 1.5770241758668342, 2.1611072039656625, 1.6062283272717757, 5.3735638585092165, 1.4991464387869906, 1.4991464387869906, 2.4531487180150764, 1.4991464387869906, 3.0664358975188457, 2.1708419211006427, 1.4991464387869906, 6.960322751511031, 5.393033292779177, 1.7911879528364045, 1.7814532357014243, 3.046966463248885, 1.4991464387869906, 2.5310264550949197, 2.2876585267204086, 1.4991464387869906, 4.526643467765916, 1.4991464387869906, 1.4991464387869906, 3.0080275947089627, 1.4991464387869906, 2.939884574764099, 1.4991464387869906, 4.692133659060584, 1.508881155921971, 1.5186158730569514, 2.569965323634842, 1.4991464387869906, 5.6364012211536885, 1.4991464387869906, 1.4991464387869906, 1.4991464387869906, 1.5478200244618927, 7.602814082419742, 3.1443136345986895, 1.4991464387869906, 1.4991464387869906, 1.752249084296483, 4.322214407931326, 1.4991464387869906, 1.4991464387869906, 1.7425143671615024, 5.188604232944588, 1.4991464387869906, 1.4991464387869906, 1.4991464387869906, 3.747866096967478, 1.4991464387869906, 1.4991464387869906, 4.507174033495954, 2.1708419211006422, 1.635432478676717, 3.1929872202735914, 1.4991464387869906, 4.312479690796345, 1.7425143671615024, 1.9761475784010336, 2.054025315480877, 2.1221683354257403, 4.721337810465523, 2.2292502239105256, 1.4991464387869906, 2.7451902320644903, 1.528350590191932, 5.918708018068121, 2.5310264550949197, 1.4991464387869906, 1.4991464387869906, 3.8549479854522635, 1.4991464387869906, 3.8257438340473215, 1.528350590191932, 2.005351729805975, 2.005351729805975, 2.6770472121196267, 1.4991464387869906, 5.285951404294392, 1.8106573871063658, 1.4991464387869906, 1.4991464387869906, 3.7965396826423805, 1.4991464387869906, 1.508881155921971, 5.04258347591988, 4.176193650906619, 1.9956170126709945, 2.715986080659549, 2.0637600326158574, 1.508881155921971, 6.084198209362789, 1.4991464387869906, 1.4991464387869906, 1.4991464387869906, 1.8885351241862092, 3.0274970289789236, 1.4991464387869906, 3.9814993082070096, 1.6062283272717757, 2.404475132340174, 1.4991464387869906, 4.643460073385681, 1.4991464387869906, 2.550495889364881, 1.4991464387869906, 1.5964936101367952, 7.524936345339899, 4.322214407931325, 1.5575547415968733, 1.5964936101367952, 2.647843060714686, 1.4991464387869906, 4.088581196691794, 1.4991464387869906, 1.5186158730569514, 4.049642328151872, 1.4991464387869906, 1.8690656899162486, 2.307127960990369, 1.6938407814866001, 4.61425592198074, 1.4991464387869906, 1.4991464387869906, 1.7327796500265218, 4.02043817674693, 1.4991464387869906, 1.4991464387869906, 2.180576638235623, 3.9912340253419893, 2.2681890924504473, 2.190311355370604, 1.528350590191932, 5.597462352613766, 1.4991464387869906, 1.4991464387869906, 1.6451671958116976, 3.7186619455625363, 2.3265973952603303, 2.1026989011557795, 1.6938407814866001, 5.6071970697487465, 1.4991464387869906, 1.4991464387869906, 1.4991464387869906, 3.8257438340473215, 3.1735177860036305, 1.839861538511307, 3.3195385430283375, 1.6159630444067563, 3.3974162801081813, 1.5867588930018148, 2.9204151404941383, 1.4991464387869906, 3.9522951568020677, 1.4991464387869906, 1.4991464387869906, 2.8133332520093535, 3.640784208482693, 2.94961929189908, 2.462883435150057, 1.508881155921971, 6.716954823136518, 2.482352869420018, 1.4991464387869906, 1.4991464387869906, 1.567289458731854, 5.792156695313375, 1.4991464387869906, 1.4991464387869906, 1.4991464387869906, 1.7230449328915411, 5.616931786883727, 1.508881155921971, 1.4991464387869906, 1.4991464387869906, 1.4991464387869906, 8.284244281868373, 3.884152136857204, 1.5186158730569514, 1.5186158730569514, 1.8495962556462873, 2.6867819292546073, 1.4991464387869906, 3.475294017188025, 1.4991464387869906, 2.511557020824959, 1.4991464387869906, 3.5044981685929666, 1.5186158730569514, 3.9425604396670875, 1.5575547415968733, 2.131903052560721, 1.7717185185664437, 3.9814993082070096, 1.4991464387869906, 1.5867588930018146, 4.322214407931326, 1.7230449328915411, 2.1611072039656625, 1.761983801431463, 3.601845339942771, 1.674371347216639, 3.3487426944332794, 1.5964936101367952, 2.5212917379599395, 1.4991464387869906, 6.09393292649777, 3.1151094831937476, 1.5186158730569514, 1.6841060643516195, 3.5726411885378297, 1.5380853073269127, 2.3168626781253496, 1.4991464387869906, 5.88950386666318, 1.4991464387869906, 1.4991464387869906, 1.4991464387869906, 2.930149857629119, 1.5770241758668342, 3.523967602862927, 1.4991464387869906, 4.030172893881911, 2.4726181522850377, 2.0929641840207993, 1.9469434269960921, 3.9036215711271653, 1.4991464387869906, 1.4991464387869906, 3.9133562882621455, 2.618638909309744, 2.2681890924504473, 1.5186158730569514, 6.337300854872282, 1.508881155921971, 1.4991464387869906, 1.4991464387869906, 2.1611072039656625, 1.4991464387869906, 6.093932926497771, 2.4726181522850377, 1.4991464387869906, 1.635432478676717, 3.835478551182302, 1.6159630444067563, 2.5310264550949197, 1.4991464387869906, 4.5071740334959545, 1.4991464387869906, 1.5186158730569514, 4.322214407931326, 2.3363321123953105, 2.190311355370604, 1.6743713472166388, 4.867358567490231, 1.4991464387869906, 1.4991464387869906, 3.7186619455625367, 1.7425143671615024, 2.1708419211006427, 1.528350590191932, 5.840830280988278, 1.4991464387869906, 1.4991464387869906, 2.3850056980702132, 1.4991464387869906, 3.134578917463709, 1.508881155921971, 1.5964936101367955, 8.702837118672534, 6.921383882971109, 1.6646366300816589, 1.7425143671615024, 2.238984941045506, 1.5186158730569514, 4.42929629641611, 1.4991464387869906, 1.4991464387869906, 2.2487196581804865, 1.625697761541737, 4.643460073385681, 1.4991464387869906, 1.4991464387869906, 1.9761475784010334, 2.1805766382356233, 2.862006837684256, 1.4991464387869906, 2.8328026862793143, 1.820392104241346, 1.8690656899162486, 3.601845339942771, 1.4991464387869906, 1.7717185185664437, 2.677047212119627, 1.4991464387869906, 3.7770702483724192, 1.5380853073269125, 4.059377045286853, 1.5575547415968733, 2.092964184020799, 1.7911879528364045, 3.816009116912342, 1.4991464387869906, 3.942560439667087, 1.7327796500265218, 2.054025315480877, 1.7911879528364045, 4.146989499501677, 1.4991464387869906, 2.2681890924504473, 1.4991464387869906, 5.383298575644195, 3.046966463248885, 1.5867588930018146, 1.7911879528364045, 4.847889133220271, 1.4991464387869906, 1.4991464387869906, 1.4991464387869906, 4.867358567490232, 1.4991464387869906, 1.4991464387869906, 1.5186158730569514, 5.840830280988278, 4.4195615792811305, 1.6062283272717757, 2.8035985348743733, 1.7327796500265218, 3.728396662697517, 1.4991464387869906, 1.4991464387869906, 3.9912340253419902, 1.4991464387869906, 1.4991464387869906, 2.5602306064998617, 1.4991464387869906, 4.2735408222564235, 1.4991464387869906, 1.7814532357014243, 2.462883435150057, 1.4991464387869906, 4.254071387986462, 1.508881155921971, 4.166458933771638, 1.878800407051229, 1.6938407814866001, 3.1929872202735914, 1.4991464387869906, 4.351418559336267, 2.3265973952603303, 2.044290598345897, 2.005351729805975, 2.8717415548192364, 1.5770241758668342, 4.993909890244978, 2.394740415205194, 1.4991464387869906, 2.6867819292546073, 1.528350590191932, 5.86029971525824, 1.9274739927261313, 1.4991464387869906, 1.4991464387869906, 2.667312494984646, 2.6575777778496663, 1.4991464387869906, 3.6505189256176735, 1.528350590191932, 4.224867236581521, 1.7522490842964826, 2.1708419211006427, 1.5867588930018148, 4.964705738840036, 1.4991464387869906, 2.1708419211006427, 1.4991464387869906, 4.137254782366696, 2.219515506775545, 1.9761475784010334, 2.346066829530291, 1.985882295536014, 3.0274970289789236, 2.784129100604412, 1.508881155921971, 2.74519023206449, 2.141637769695701, 1.4991464387869906, 8.439999756028062, 5.831095563853298, 1.7911879528364045, 1.820392104241346, 2.346066829530291, 1.4991464387869906, 3.903621571127166, 1.4991464387869906, 1.4991464387869906, 3.3195385430283375, 1.4991464387869906, 1.5186158730569514, 4.906297436030154, 1.4991464387869906, 1.4991464387869906, 1.7425143671615024, 2.852272120549275, 1.4991464387869906, 2.7354555149295097, 1.5478200244618927, 4.692133659060583, 1.528350590191932, 1.567289458731854, 2.647843060714686, 1.4991464387869906, 5.383298575644196, 1.4991464387869906, 1.4991464387869906, 1.4991464387869906, 2.2487196581804865, 1.528350590191932, 8.099284656303745, 5.208073667214547, 1.5575547415968733, 1.6354324786767174, 2.404475132340174, 1.508881155921971, 4.614255921980741, 1.4991464387869906, 1.4991464387869906, 2.005351729805975, 2.015086446940955, 3.7381313798324975, 1.4991464387869906, 1.4991464387869906, 3.7186619455625367, 1.4991464387869906, 1.5964936101367952, 4.312479690796345, 1.4991464387869906, 1.5867588930018148, 2.988558160439002, 1.4991464387869906, 4.546112902035876, 1.528350590191932, 1.5770241758668342, 2.8328026862793143, 1.4991464387869906, 4.916032153165134, 1.6451671958116976, 1.4991464387869906, 1.528350590191932, 4.867358567490231, 1.4991464387869906, 2.034555881210916, 1.4991464387869906, 5.149665364404665, 3.3000691087583767, 1.7230449328915411, 3.1540483517336697, 1.5186158730569514, 4.468235164956032, 1.528350590191932, 1.6549019129466782, 2.7257207977945295, 1.4991464387869906, 5.23727781861949, 1.4991464387869906, 1.4991464387869906, 1.4991464387869906, 3.4460898657830836, 1.567289458731854, 4.137254782366696, 1.8982698413211896, 2.297393243855389, 1.4991464387869906, 5.208073667214547, 1.4991464387869906, 1.4991464387869906, 4.039907611016892, 1.9372087098611115, 1.8885351241862092, 2.6770472121196267, 1.528350590191932, 6.50279104616695, 3.7868049655074, 1.5088811559219713, 1.567289458731854, 3.8841521368572045, 1.4991464387869906, 1.4991464387869906, 4.224867236581521, 1.4991464387869906, 1.5575547415968733, 3.0274970289789236, 1.4991464387869906, 4.575317053440817, 1.528350590191932, 1.5964936101367955, 2.784129100604412, 1.4991464387869906, 4.925766870300114, 1.4991464387869906, 1.4991464387869906, 1.4991464387869906, 4.370887993606227, 1.4991464387869906, 1.5964936101367952, 4.078846479556813, 2.5894347579048027, 2.0929641840207993, 2.005351729805975, 3.436355148648103, 1.4991464387869906, 1.4991464387869906, 6.561199348976832, 4.117785348096736, 1.5380853073269127, 1.625697761541737, 3.767335531237439, 1.4991464387869906, 1.4991464387869906, 4.653194790520661, 1.4991464387869906, 1.4991464387869906, 1.4991464387869906, 5.762952543908435, 1.4991464387869906, 1.4991464387869906, 1.4991464387869906, 1.5964936101367952, 6.94085331724107, 1.8106573871063654, 1.4991464387869906, 1.4991464387869906, 1.4991464387869906, 4.84788913322027, 1.4991464387869906, 1.4991464387869906, 1.4991464387869906, 5.393033292779177, 1.6841060643516195, 1.4991464387869906, 1.4991464387869906, 2.75492494919947, 1.4991464387869906, 3.6991925112925754, 1.4991464387869906, 1.5867588930018148, 5.500115181263961, 6.444382743357067, 2.5797000407698225, 1.7619838014314633, 4.224867236581521, 1.4991464387869906, 1.4991464387869906, 2.3850056980702132, 1.4991464387869906, 4.5655823363058365, 1.4991464387869906, 1.4991464387869906, 2.4726181522850377, 1.5088811559219713, 4.00096874247697, 1.4991464387869906, 2.6089041921747635, 1.4991464387869906, 2.6770472121196267, 2.4726181522850377, 1.4991464387869906, 3.6991925112925754, 1.508881155921971, 3.9912340253419893, 1.567289458731854, 2.11243361829076, 1.7814532357014243, 3.9230910053971266, 1.4991464387869906, 3.5044981685929666, 1.567289458731854, 2.0832294668858187, 1.7327796500265218, 5.2567472528894506, 1.508881155921971, 1.4991464387869906, 1.4991464387869906, 4.5363781849008955, 5.217808384349528, 2.2876585267204086, 2.131903052560721, 3.7283966626975173, 1.4991464387869906, 1.4991464387869906, 3.806274399777361, 1.4991464387869906, 1.4991464387869906, 3.7673355312374386, 1.4991464387869906, 1.5964936101367952, 3.621314774212732, 1.508881155921971, 4.117785348096736, 1.5964936101367952, 2.170841921100643, 1.6646366300816584, 4.312479690796345, 1.4991464387869906, 3.523967602862927, 1.5380853073269125, 1.7327796500265218, 3.2611302402184545, 1.508881155921971, 4.546112902035876, 2.7646596663344516, 2.073494749750838, 2.073494749750838, 2.8035985348743733, 1.4991464387869906, 4.643460073385681, 1.4991464387869906, 1.4991464387869906, 1.4991464387869906, 5.90897330093314, 1.4991464387869906, 1.4991464387869906, 1.6256977615417367, 4.098315913826775, 3.36821212870324, 2.170841921100643, 1.800922669971385, 5.305420838564352, 1.4991464387869906, 1.4991464387869906, 1.4991464387869906, 3.3487426944332785, 1.508881155921971, 2.5212917379599395, 1.4991464387869906, 6.726689540271499, 4.487704599225994, 1.5770241758668346, 1.6841060643516195, 3.4168857143781426, 1.4991464387869906, 1.6841060643516195, 4.847889133220271, 1.4991464387869906, 1.4991464387869906, 1.6549019129466782, 3.874417419722224, 1.4991464387869906, 1.4991464387869906, 3.3487426944332785, 1.4991464387869906, 3.0956400489237867, 1.567289458731854, 2.881476271954216, 1.4991464387869906, 4.847889133220271, 1.9274739927261313, 1.4991464387869906, 1.985882295536014, 2.6867819292546073, 2.7743943834694313, 1.4991464387869906, 3.553171754267869, 1.508881155921971, 4.439031013551091, 2.8328026862793143, 2.1611072039656625, 1.859330972781268, 4.3903574278761885, 1.4991464387869906, 1.4991464387869906, 3.202721937408572, 1.5964936101367955, 3.0274970289789236, 1.4991464387869906, 4.137254782366696, 2.287658526720408, 1.6159630444067563, 3.835478551182302, 1.508881155921971, 4.146989499501677, 1.6743713472166388, 2.2000460725055846, 1.5964936101367955, 4.81868498181533, 1.4991464387869906, 3.1540483517336697, 1.508881155921971, 1.5770241758668342, 4.585051770575799, 1.4991464387869906, 2.297393243855389, 1.4991464387869906, 4.380622710741208, 2.482352869420018, 1.567289458731854, 3.728396662697517, 1.5186158730569514, 4.224867236581521, 2.054025315480877, 2.2292502239105256, 1.4991464387869906, 5.198338950079567, 1.4991464387869906, 1.4991464387869906, 3.9522951568020677, 1.820392104241346, 1.8982698413211896, 2.404475132340173, 1.5575547415968733, 7.359446154045231, 4.263806105121443, 1.528350590191932, 1.5770241758668342, 2.6381083435797055, 1.4991464387869906, 4.156724216636658, 1.4991464387869906, 1.4991464387869906, 3.3779468458382205, 1.4991464387869906, 2.404475132340173, 1.4991464387869906, 5.6364012211536885, 1.4991464387869906, 1.4991464387869906, 1.4991464387869906, 2.4142098494751543, 1.4991464387869906, 5.130195930134704, 1.4991464387869906, 1.4991464387869906, 2.5018223036899783, 1.4991464387869906, 3.3487426944332785, 2.1805766382356233, 1.4991464387869906, 5.616931786883727, 3.7381313798324975, 1.5867588930018148, 2.005351729805975, 4.049642328151872, 1.4991464387869906, 1.4991464387869906, 2.4336792837451156, 1.528350590191932, 4.984175173109997, 1.4991464387869906, 1.4991464387869906, 3.523967602862927, 1.5575547415968733, 2.092964184020799, 1.7035754986215803, 5.1691347986746266, 1.4991464387869906, 1.4991464387869906, 1.508881155921971, 4.877093284625212, 4.098315913826775, 2.190311355370604, 2.005351729805975, 3.9522951568020677, 1.4991464387869906, 1.4991464387869906, 3.1248442003287282, 1.4991464387869906, 1.6549019129466782, 6.30809670346734, 1.508881155921971, 1.4991464387869906, 1.4991464387869906, 1.4991464387869906, 6.385974440547183, 2.8717415548192364, 1.4991464387869906, 1.508881155921971, 2.8133332520093535, 1.4991464387869906, 5.831095563853297, 1.4991464387869906, 1.4991464387869906, 1.4991464387869906, 2.219515506775545, 3.134578917463709, 1.5867588930018148, 3.0274970289789236, 1.4991464387869906, 4.5071740334959545, 2.3265973952603303, 1.6256977615417367, 3.3000691087583767, 1.4991464387869906, 4.137254782366696, 1.625697761541737, 2.297393243855389, 1.5088811559219713, 4.5071740334959545, 1.4991464387869906, 3.942560439667087, 1.5575547415968733, 1.5867588930018148, 3.231926088813514, 1.4991464387869906, 4.146989499501677, 2.4531487180150764, 2.0832294668858187, 1.9761475784010334, 3.4558245829180643, 1.4991464387869906, 1.5186158730569514, 6.376239723412204, 3.854947985452263, 1.5380853073269127, 1.6451671958116976, 3.932825722532107, 1.4991464387869906, 1.4991464387869906, 4.380622710741208, 1.4991464387869906, 1.5964936101367955, 2.910680423359158, 1.4991464387869906, 4.692133659060583, 1.4991464387869906, 1.4991464387869906, 1.859330972781268, 3.3487426944332785, 1.4991464387869906, 3.358477411568259, 1.5867588930018148, 2.8035985348743733, 1.4991464387869906, 4.8284196989503085, 1.6841060643516195, 1.4991464387869906, 1.4991464387869906, 5.977116320878005, 4.20539780231156, 1.6159630444067563, 1.985882295536014, 3.3779468458382205, 1.4991464387869906, 1.4991464387869906, 5.285951404294392, 1.4991464387869906, 1.4991464387869906, 1.4991464387869906, 4.546112902035876, 1.528350590191932, 1.635432478676717, 2.7451902320644903, 1.4991464387869906, 5.100991778729762, 1.4991464387869906, 1.4991464387869906, 1.4991464387869906, 3.816009116912341, 1.4991464387869906, 3.0664358975188453, 1.5575547415968733, 2.365536263800252, 1.4991464387869906, 8.050611070628841, 5.840830280988278, 1.6062283272717757, 1.752249084296483, 2.423944566610135, 1.4991464387869906, 4.283275539391403, 1.4991464387869906, 1.4991464387869906, 2.9885581604390024, 1.4991464387869906, 2.73545551492951, 1.820392104241346, 2.2487196581804865, 1.567289458731854, 5.6364012211536885, 1.4991464387869906, 1.4991464387869906, 1.4991464387869906, 2.930149857629119, 1.4991464387869906, 2.2876585267204077, 2.5894347579048023, 1.5770241758668342, 4.059377045286853, 1.508881155921971, 4.00096874247697, 1.528350590191932, 1.8982698413211896, 2.1903113553706035, 1.508881155921971, 8.060345787763824, 3.7868049655074, 1.4991464387869906, 1.508881155921971, 1.8885351241862092, 3.0664358975188457, 1.4991464387869906, 1.7035754986215805, 5.5195846155339225, 1.4991464387869906, 1.4991464387869906, 1.4991464387869906, 2.910680423359158, 1.4991464387869906, 1.528350590191932, 6.94085331724107, 1.6549019129466782, 1.4991464387869906, 1.4991464387869906, 1.4991464387869906, 4.4487657306860715, 1.4991464387869906, 1.4991464387869906, 1.528350590191932, 6.9700574686460115, 3.2513955230834743, 1.4991464387869906, 1.508881155921971, 2.131903052560721, 2.930149857629119, 1.4991464387869906, 2.297393243855389, 1.5964936101367952, 5.100991778729762, 1.4991464387869906, 1.4991464387869906, 1.7717185185664437, 2.4044751323401745, 1.7230449328915411, 4.176193650906619, 1.4991464387869906, 3.874417419722224, 2.0442905983458965, 1.7717185185664437, 3.3098038258933573, 1.508881155921971, 4.3903574278761885, 2.238984941045506, 2.151372486830682, 1.6549019129466782, 4.672664224790623, 1.4991464387869906, 1.5186158730569514, 4.224867236581521, 1.7814532357014243, 2.1708419211006427, 1.5867588930018148, 4.945236304570075, 1.4991464387869906, 2.1319030525607205, 1.4991464387869906, 4.516908750630934, 2.706251363524568, 1.8301268213763267, 2.910680423359158, 1.5186158730569514, 5.509849898398943, 1.9177392755911506, 1.4991464387869906, 1.820392104241346, 2.930149857629119, 2.092964184020799, 1.4991464387869906, 5.947912169473063, 1.9469434269960921, 1.4991464387869906, 1.4991464387869906, 1.9761475784010334, 3.1540483517336697, 2.433679283745115, 1.4991464387869906, 3.202721937408572, 1.5964936101367952, 4.234601953716502, 4.117785348096736, 2.044290598345897, 2.7451902320644903, 2.3558015466652713, 1.4991464387869906, 4.477969882091013, 1.4991464387869906, 1.508881155921971, 3.981499308207009, 1.6062283272717757, 2.3558015466652713, 1.4991464387869906, 4.740807244735485, 1.4991464387869906, 1.5186158730569514, 4.156724216636658, 1.820392104241346, 2.11243361829076, 1.654901912946678, 4.6823989419256025, 1.4991464387869906, 1.4991464387869906, 4.331949125066306, 2.2876585267204086, 2.1416377696957016, 1.7619838014314633, 4.672664224790623, 1.4991464387869906, 1.4991464387869906, 3.8549479854522635, 1.8690656899162486, 2.3558015466652713, 1.4991464387869906, 5.315155555699333, 1.4991464387869906, 1.4991464387869906, 3.5823759056728095, 1.8982698413211896, 1.8982698413211896, 2.667312494984646, 1.985882295536014, 1.5478200244618932, 8.887796744237162, 5.422237444184117, 1.567289458731854, 1.6451671958116976, 2.1319030525607205, 1.615963044406756, 4.721337810465524, 1.4991464387869906, 1.4991464387869906, 1.6062283272717757, 4.5071740334959545, 1.4991464387869906, 1.4991464387869906, 1.6451671958116976, 4.81868498181533, 1.4991464387869906, 1.4991464387869906, 1.4991464387869906, 5.3443597071042745, 1.4991464387869906, 1.4991464387869906, 1.4991464387869906, 3.358477411568259, 1.4991464387869906, 2.8425374034142945, 1.5088811559219713, 3.3098038258933573, 1.4991464387869906, 4.185928368041599, 1.625697761541737, 2.307127960990369, 1.5088811559219713, 4.3903574278761885, 1.4991464387869906, 3.971764591072029, 1.528350590191932, 1.6646366300816584, 2.94961929189908, 1.4991464387869906, 5.071787627324822, 3.046966463248885, 1.4991464387869906, 3.426620431513123, 1.508881155921971, 3.854947985452263, 1.567289458731854, 2.2487196581804865, 1.5575547415968736, 4.711603093330545, 1.4991464387869906, 1.4991464387869906, 3.835478551182302, 1.5964936101367952, 2.2097807896405643, 1.5575547415968733, 5.188604232944588, 1.4991464387869906, 1.4991464387869906, 3.8841521368572045, 1.9274739927261315, 1.9372087098611115, 2.433679283745115, 1.5867588930018148, 7.067404639995816, 4.137254782366696, 1.528350590191932, 1.5867588930018148, 2.842537403414295, 1.4991464387869906, 3.416885714378142, 1.4991464387869906, 2.131903052560721, 1.4991464387869906, 5.733748392503492, 1.4991464387869906, 1.4991464387869906, 1.4991464387869906, 2.5894347579048027, 1.5380853073269125, 3.9620298739370483, 1.508881155921971, 4.059377045286853, 1.528350590191932, 2.005351729805975, 2.0150864469409555, 2.492087586554998, 3.387681562973201, 1.7035754986215805, 2.6770472121196267, 1.4991464387869906, 5.363829141374235, 2.1221683354257403, 1.4991464387869906, 1.4991464387869906, 4.906297436030154, 3.0567011803838655, 1.5478200244618932, 3.6115800570777514, 1.508881155921971, 3.7965396826423805, 1.5770241758668342, 2.2487196581804865, 1.5380853073269125, 4.935501587435095, 1.4991464387869906, 1.4991464387869906, 3.36821212870324, 1.5380853073269125, 2.238984941045506, 1.4991464387869906, 6.746158974541461, 1.9956170126709945, 1.4991464387869906, 1.4991464387869906, 2.9009457062241775, 1.5186158730569514, 2.6673124949846465, 1.4991464387869906, 6.814301994486325, 4.059377045286853, 1.5380853073269127, 1.5964936101367955, 3.4266204315131223, 1.4991464387869906, 1.6938407814866001, 4.088581196691794, 1.4991464387869906, 1.4991464387869906, 2.618638909309744, 1.5380853073269125, 3.8841521368572045, 1.508881155921971, 3.913356288262146, 1.5380853073269125, 2.054025315480877, 1.8690656899162486, 3.3098038258933573, 1.4991464387869906, 3.1053747660587674, 1.5867588930018148, 3.0761706146538255, 1.4991464387869906, 4.42929629641611, 2.939884574764099, 1.7911879528364045, 3.1248442003287282, 1.5964936101367952, 4.3027449736613645, 1.567289458731854, 1.9274739927261315, 2.1026989011557795, 1.713310215756561, 6.7364242574064805, 2.8035985348743733, 1.4991464387869906, 1.4991464387869906, 1.8106573871063654, 4.993909890244978, 1.4991464387869906, 1.4991464387869906, 1.4991464387869906, 4.692133659060584, 1.4991464387869906, 1.4991464387869906, 1.4991464387869906, 5.451441595589059, 1.4991464387869906, 1.4991464387869906, 1.508881155921971, 4.468235164956032, 2.7646596663344516, 2.11243361829076, 1.9664128612660532, 3.4071509972431615, 1.4991464387869906, 1.7522490842964826, 3.0372317461139042, 1.4991464387869906, 1.4991464387869906, 8.469203907433004, 5.65587065542365, 1.5867588930018146, 1.6938407814866001, 2.2876585267204086, 1.4991464387869906, 4.594786487710778, 1.4991464387869906, 1.4991464387869906, 2.005351729805975, 2.3363321123953105, 2.5602306064998617, 1.4991464387869906, 3.874417419722224, 1.4991464387869906, 2.5310264550949197, 1.4991464387869906, 3.1443136345986895, 1.5867588930018146, 3.816009116912341, 1.567289458731854, 2.2292502239105256, 1.5964936101367952, 4.721337810465524, 1.4991464387869906, 1.4991464387869906, 3.504498168592966, 1.567289458731854, 2.4434140008800957, 1.4991464387869906, 5.295686121429372, 1.4991464387869906, 1.4991464387869906, 1.4991464387869906, 4.516908750630934, 2.8814762719542166, 2.073494749750838, 2.073494749750838, 2.998292877573982, 1.4991464387869906, 2.7743943834694313, 1.4991464387869906, 3.0080275947089623, 2.287658526720408, 1.508881155921971, 4.857623850355251, 1.4991464387869906, 1.4991464387869906, 3.6115800570777514, 3.514232885727947, 2.706251363524568, 1.528350590191932, 6.259423117792437, 1.820392104241346, 1.4991464387869906, 1.4991464387869906, 1.5964936101367952, 5.850564998123259, 1.4991464387869906, 1.4991464387869906, 1.4991464387869906, 2.32659739526033, 1.615963044406756, 5.159400081539646, 1.4991464387869906, 1.4991464387869906, 3.874417419722224, 2.3558015466652713, 1.8982698413211896, 2.599169475039783, 1.8788004070512287, 1.966412861266053, 5.217808384349527, 3.36821212870324, 1.5186158730569514, 2.8425374034142945, 1.5575547415968733, 5.139930647269685, 1.4991464387869906, 1.4991464387869906, 1.5478200244618927, 3.874417419722224, 1.508881155921971, 3.9425604396670875, 1.5380853073269125, 2.0832294668858187, 1.800922669971385, 3.6991925112925754, 1.4991464387869906, 2.95935400903406, 1.5380853073269125, 2.6673124949846465, 1.4991464387869906, 6.619607651786715, 4.7408072447354845, 1.5867588930018146, 1.7814532357014243, 3.58237590567281, 1.4991464387869906, 1.4991464387869906, 4.984175173109997, 1.4991464387869906, 1.4991464387869906, 1.4991464387869906, 4.789480830410388, 1.4991464387869906, 1.4991464387869906, 1.4991464387869906, 5.013379324514939, 1.4991464387869906, 1.4991464387869906, 1.4991464387869906, 5.305420838564352, 1.635432478676717, 1.4991464387869906, 1.7619838014314633, 3.0080275947089623, 1.9956170126709945, 1.4991464387869906, 7.106343508535738, 3.553171754267869, 1.4991464387869906, 1.5575547415968733, 2.277923809585428, 1.8495962556462873, 4.81868498181533, 1.4991464387869906, 1.4991464387869906, 1.4991464387869906, 5.276216687159411, 1.4991464387869906, 1.4991464387869906, 1.4991464387869906, 3.1929872202735914, 1.4991464387869906, 1.4991464387869906, 6.347035572007263, 1.5867588930018146, 1.4991464387869906, 1.4991464387869906, 2.754924949199471, 1.4991464387869906, 3.280599674488416, 1.508881155921971, 4.711603093330543, 4.156724216636658, 2.131903052560721, 2.365536263800252, 2.433679283745115, 1.5380853073269125, 4.575317053440818, 1.4991464387869906, 1.4991464387869906, 3.913356288262146, 1.5867588930018148, 2.2487196581804865, 1.5380853073269127, 4.808950264680349, 1.4991464387869906, 1.508881155921971, 4.049642328151872, 1.5964936101367952, 2.1805766382356238, 1.625697761541737, 4.594786487710778, 1.4991464387869906, 3.650518925617673, 1.6451671958116976, 1.5770241758668342, 3.514232885727947, 1.4991464387869906, 4.244336670851482, 2.5407611722299004, 2.1221683354257403, 1.9274739927261313, 3.5823759056728095, 1.4991464387869906, 1.5186158730569514, 5.694809523963571, 3.3974162801081818, 1.5186158730569514, 2.5310264550949197, 1.635432478676717, 5.6364012211536885, 1.4991464387869906, 1.4991464387869906, 1.4991464387869906, 2.219515506775545, 1.508881155921971, 6.697485388866559, 1.6549019129466782, 1.4991464387869906, 1.4991464387869906, 1.4991464387869906, 5.451441595589059, 1.7814532357014243, 1.4991464387869906, 1.4991464387869906, 3.650518925617673, 1.5964936101367952, 3.9620298739370483, 1.6451671958116976, 2.2681890924504473, 1.4991464387869906, 5.25674725288945, 1.4991464387869906, 1.8982698413211896, 1.8982698413211896, 1.6646366300816582, 5.6364012211536885, 4.137254782366696, 1.674371347216639, 2.0053517298059744, 3.728396662697517, 1.4991464387869906, 1.4991464387869906, 3.9328257225321064, 1.4991464387869906, 1.4991464387869906, 2.5894347579048027, 1.4991464387869906, 4.283275539391403, 1.4991464387869906, 1.5478200244618927, 4.244336670851482, 2.0248211640759357, 2.287658526720408, 1.4991464387869906, 5.052318193054861, 1.4991464387869906, 1.5380853073269127, 4.156724216636658, 1.7911879528364045, 2.0248211640759357, 2.044290598345897, 2.307127960990369, 3.8257438340473215, 1.615963044406756, 1.9566781441310728, 2.6089041921747635, 1.839861538511307, 3.4558245829180643, 1.4991464387869906, 1.508881155921971, 6.9700574686460115, 7.554140496744839, 1.9469434269960921, 2.11243361829076, 2.94961929189908, 1.4991464387869906, 2.8717415548192364, 1.4991464387869906, 2.900945706224178, 1.4991464387869906, 2.4142098494751543, 1.4991464387869906, 4.906297436030153, 1.4991464387869906, 1.4991464387869906, 1.6743713472166388, 3.6991925112925754, 1.4991464387869906, 1.4991464387869906, 3.7965396826423805, 1.4991464387869906, 1.4991464387869906, 3.6018453399427712, 1.4991464387869906, 1.528350590191932, 4.254071387986462, 1.4991464387869906, 2.414209849475154, 1.4991464387869906, 3.0664358975188457, 1.4991464387869906, 4.049642328151872, 2.151372486830682, 2.1221683354257403, 1.625697761541737, 5.042583475919881, 1.4991464387869906, 1.4991464387869906, 3.728396662697517, 1.8885351241862092, 2.044290598345897, 1.7911879528364048, 4.701868376195564, 1.4991464387869906, 1.4991464387869906, 2.3947404152051934, 1.4991464387869906, 5.013379324514938, 1.5186158730569514, 2.492087586554998, 1.4991464387869906, 3.270864957353435, 2.5310264550949197, 3.5434370371328883, 1.4991464387869906, 4.448765730686071, 3.290334391623396, 1.9566781441310728, 2.5018223036899783, 1.8982698413211896, 3.0274970289789236, 1.5186158730569514, 4.3611532764712475, 1.6451671958116976, 2.170841921100643, 1.7327796500265218, 3.874417419722224, 1.5478200244618927, 4.059377045286853, 1.6451671958116976, 2.092964184020799, 1.8106573871063654, 3.8257438340473215, 1.4991464387869906, 3.9620298739370483, 2.1903113553706035, 2.073494749750838, 1.9761475784010334, 3.6797230770226146, 1.4991464387869906, 1.4991464387869906, 4.974440455975016, 3.9912340253419893, 1.7522490842964826, 3.2221913716785333, 1.5867588930018148, 3.5531717542678685, 1.4991464387869906, 2.32659739526033, 1.4991464387869906, 5.500115181263962, 1.4991464387869906, 1.4991464387869906, 1.4991464387869906, 3.7965396826423805, 1.5478200244618932, 2.2292502239105256, 1.5380853073269125, 5.46117631272404, 1.4991464387869906, 1.4991464387869906, 2.715986080659549, 1.4991464387869906, 2.2097807896405643, 3.0859053317888065, 1.8106573871063654, 2.9593540090340604, 1.4991464387869906, 5.67534008969361, 6.0744634922278085, 2.200046072505584, 2.4142098494751543, 2.6089041921747635, 1.4991464387869906, 3.6797230770226146, 1.4991464387869906, 1.6938407814866001, 3.339007977298298, 1.4991464387869906, 1.6062283272717757, 4.701868376195565, 1.4991464387869906, 1.4991464387869906, 2.4531487180150764, 1.4991464387869906, 4.02043817674693, 1.4991464387869906, 3.494763451457986, 1.508881155921971, 1.9761475784010336, 2.151372486830682, 2.569965323634842, 1.567289458731854, 4.351418559336267, 1.508881155921971, 4.117785348096736, 1.6646366300816584, 1.7133102157565607, 2.94961929189908, 1.4991464387869906, 5.149665364404664, 3.1735177860036305, 1.4991464387869906, 3.4168857143781426, 1.508881155921971, 3.854947985452263, 1.567289458731854, 2.219515506775545, 1.6062283272717757, 4.6337253562507, 1.4991464387869906, 1.4991464387869906, 3.874417419722224, 1.6062283272717757, 2.346066829530291, 1.4991464387869906, 4.799215547545368, 1.4991464387869906, 1.5186158730569514, 4.263806105121442, 1.8982698413211896, 2.0345558812109164, 1.7911879528364048, 4.088581196691794, 1.4991464387869906, 2.969088726169041, 1.528350590191932, 2.0248211640759357, 2.054025315480877, 5.0620529101898395, 4.799215547545369, 2.151372486830682, 2.5602306064998617, 2.258454375315467, 1.5964936101367952, 4.731072527600505, 1.4991464387869906, 1.4991464387869906, 2.394740415205194, 1.4991464387869906, 4.030172893881911, 1.4991464387869906, 2.3947404152051934, 1.4991464387869906, 3.58237590567281, 1.4991464387869906, 2.073494749750838, 1.4991464387869906, 7.524936345339899, 3.9230910053971266, 1.5186158730569514, 1.5770241758668342, 2.200046072505584, 1.6354324786767174, 5.422237444184119, 1.4991464387869906, 1.4991464387869906, 1.4991464387869906, 3.4558245829180643, 1.4991464387869906, 1.4991464387869906, 4.701868376195565, 1.4991464387869906, 1.4991464387869906, 2.4531487180150764, 1.4991464387869906, 3.8841521368572045, 1.508881155921971, 4.088581196691794, 1.6062283272717757, 1.9761475784010336, 2.073494749750838, 1.8982698413211896, 6.454117460492047, 3.913356288262146, 1.5380853073269127, 1.625697761541737, 3.6699883598876344, 1.4991464387869906, 1.4991464387869906, 4.789480830410388, 1.4991464387869906, 1.4991464387869906, 1.4991464387869906, 5.568258201208825, 1.4991464387869906, 1.4991464387869906, 1.4991464387869906, 2.6770472121196267, 2.6673124949846465, 1.4991464387869906, 3.339007977298299, 1.5575547415968733, 4.254071387986462, 2.238984941045506, 2.063760032615858, 1.878800407051229, 3.640784208482693, 1.4991464387869906, 2.7646596663344507, 1.528350590191932, 3.2221913716785333, 1.508881155921971, 4.701868376195564, 3.36821212870324, 2.11243361829076, 2.073494749750838, 3.17351778600363, 1.4991464387869906, 1.6646366300816589, 5.0523181930548615, 1.4991464387869906, 1.4991464387869906, 1.4991464387869906, 4.838154416085289, 2.8912109890891973, 1.4991464387869906, 3.6602536427526537, 1.4991464387869906, 3.7770702483724192, 1.5770241758668342, 2.3558015466652713, 1.4991464387869906, 4.779746113275407, 1.4991464387869906, 1.4991464387869906, 3.7965396826423805, 1.5867588930018148, 2.2487196581804865, 1.5088811559219713, 5.422237444184117, 1.4991464387869906, 1.4991464387869906, 3.8257438340473215, 1.9469434269960921, 1.7717185185664437, 3.144313634598689, 1.5186158730569514, 4.721337810465523, 2.5504958893648806, 1.878800407051229, 2.492087586554998, 1.528350590191932, 6.609872934651734, 2.170841921100643, 1.4991464387869906, 1.4991464387869906, 1.4991464387869906, 6.220484249252516, 1.4991464387869906, 1.4991464387869906, 1.4991464387869906, 1.4991464387869906, 6.531995197571891, 2.1611072039656625, 1.4991464387869906, 1.4991464387869906, 1.4894117216520104, 6.541729914706871, 1.4991464387869906, 1.4991464387869906, 1.4991464387869906, 1.4991464387869906, 5.8116261295833365, 1.859330972781268, 1.4991464387869906, 1.4991464387869906, 2.784129100604412, 2.7743943834694313, 1.5186158730569514, 3.1540483517336697, 1.508881155921971, 4.701868376195564, 2.7257207977945295, 1.9469434269960921, 2.307127960990369, 1.7327796500265218, 6.201014814982555, 1.6646366300816584, 1.4991464387869906, 1.4991464387869906, 1.4991464387869906, 6.814301994486325, 2.433679283745115, 1.4991464387869906, 1.4991464387869906, 1.5380853073269125, 6.239953683522478, 1.508881155921971, 1.4991464387869906, 1.4991464387869906, 1.5380853073269125, 5.67534008969361, 1.4991464387869906, 1.4991464387869906, 1.4991464387869906, 3.0956400489237867, 1.6841060643516195, 2.930149857629119, 1.4991464387869906, 5.100991778729762, 3.8452132683172824, 1.5964936101367952, 3.3487426944332785, 1.5186158730569514, 4.030172893881911, 1.5186158730569514, 2.0150864469409555, 1.9761475784010336, 2.7354555149295097, 1.5186158730569514, 5.217808384349528, 1.508881155921971, 1.508881155921971, 1.7717185185664437, 2.7646596663344507, 2.209780789640565, 1.4991464387869906, 5.616931786883727, 1.4991464387869906, 1.4991464387869906, 1.4991464387869906, 3.562906471402849, 2.754924949199471, 1.9177392755911509, 2.7743943834694313, 2.5018223036899787, 1.4991464387869906, 3.9522951568020677, 1.6451671958116976, 3.8452132683172824, 2.4726181522850377, 2.0540253154808776, 2.11243361829076, 3.1151094831937476, 1.4991464387869906, 2.200046072505584, 2.696516646389588, 1.6743713472166388, 3.9620298739370483, 1.7522490842964826, 3.5726411885378297, 2.8425374034142945, 2.433679283745115, 1.5186158730569514, 6.94085331724107, 3.0664358975188453, 1.4991464387869906, 1.4991464387869906, 1.9956170126709945, 2.686781929254608, 2.054025315480877, 1.4991464387869906, 5.792156695313375, 1.4991464387869906, 1.4991464387869906, 1.4991464387869906, 2.1708419211006427, 1.8495962556462875, 4.2151325194465405, 1.4991464387869906, 1.4991464387869906, 1.6549019129466782, 5.967381603743024, 4.02043817674693, 1.6451671958116976, 1.9080045584561702, 3.0274970289789236, 1.4991464387869906, 2.3363321123953105, 2.6381083435797055, 1.5478200244618932, 3.9230910053971257, 1.508881155921971, 3.9425604396670875, 1.5380853073269125, 2.054025315480877, 1.8690656899162486, 3.339007977298298, 1.4991464387869906, 3.5044981685929666, 1.6256977615417367, 2.618638909309744, 1.4991464387869906, 5.003644607379958, 1.4991464387869906, 1.4991464387869906, 1.4991464387869906, 5.422237444184119, 4.692133659060584, 2.0832294668858187, 2.5407611722299004, 2.0832294668858187, 1.8982698413211896, 4.244336670851482, 1.4991464387869906, 1.4991464387869906, 1.5380853073269125, 6.6488118031916565, 1.4991464387869906, 1.4991464387869906, 1.4991464387869906, 1.4991464387869906, 5.149665364404665, 1.4991464387869906, 1.4991464387869906, 1.4991464387869906, 4.176193650906618, 1.4991464387869906, 1.4991464387869906, 1.5867588930018148, 8.040876353493864, 4.516908750630935, 1.528350590191932, 1.5770241758668342, 2.433679283745115, 1.4991464387869906, 4.477969882091013, 1.4991464387869906, 1.4991464387869906, 2.5504958893648806, 1.4991464387869906, 3.8062743997773607, 1.4991464387869906, 3.3195385430283375, 1.4991464387869906, 2.238984941045506, 1.4894117216520104, 6.035524623687887, 1.4991464387869906, 1.4991464387869906, 1.4991464387869906, 2.11243361829076, 1.6451671958116976, 6.0744634922278085, 1.4991464387869906, 1.4991464387869906, 1.4991464387869906, 1.9274739927261313, 1.528350590191932, 8.722306552942495, 4.984175173109997, 1.528350590191932, 1.5964936101367952, 2.131903052560721, 1.567289458731854, 5.081522344459801, 1.4991464387869906, 1.4991464387869906, 1.4991464387869906, 4.7408072447354845, 1.4991464387869906, 1.4991464387869906, 1.4991464387869906, 5.178869515809607, 1.4991464387869906, 1.4991464387869906, 1.4991464387869906, 4.3903574278761885, 1.4991464387869906, 1.4991464387869906, 1.6646366300816589, 5.704544241098552, 1.4991464387869906, 1.4991464387869906, 1.4991464387869906, 2.628373626444725, 1.6062283272717757, 3.8452132683172824, 1.5186158730569514, 4.176193650906619, 1.635432478676717, 2.073494749750838, 1.820392104241346, 3.5434370371328883, 1.6256977615417367, 3.942560439667087, 2.3850056980702132, 2.190311355370604, 1.5380853073269125, 5.7824219781783945, 1.4991464387869906, 1.4991464387869906, 1.4991464387869906, 4.283275539391403, 2.346066829530291, 2.131903052560721, 1.7230449328915411, 4.662929507655642, 1.4991464387869906, 1.4991464387869906, 3.893886853992185, 1.800922669971385, 2.404475132340174, 1.4991464387869906, 4.993909890244978, 1.4991464387869906, 1.4991464387869906, 4.049642328151872, 2.2487196581804865, 1.9372087098611115, 2.4726181522850377, 1.7814532357014243, 4.20539780231156, 1.4991464387869906, 1.4991464387869906, 3.202721937408572, 2.141637769695701, 2.2876585267204086, 1.508881155921971, 8.274509564733393, 6.045259340822868, 1.6062283272717757, 1.7327796500265218, 2.433679283745115, 1.508881155921971, 4.039907611016892, 1.4991464387869906, 1.4991464387869906, 3.4655593000530445, 1.4991464387869906, 1.6549019129466782, 4.1275200652317166, 1.4991464387869906, 1.5186158730569514, 3.8646827025872437, 1.4991464387869906, 1.820392104241346, 2.628373626444725, 1.90800455845617, 1.9566781441310728, 4.078846479556813, 1.4991464387869906, 1.4991464387869906, 2.219515506775545, 1.820392104241346, 4.8576238503552505, 1.4991464387869906, 1.4991464387869906, 1.4991464387869906, 4.82841969895031, 1.4991464387869906, 1.4991464387869906, 1.5186158730569514, 5.986851038012985, 5.188604232944586, 1.7814532357014243, 2.696516646389588, 1.9566781441310728, 2.3850056980702132, 2.2681890924504473, 1.5770241758668346, 4.672664224790623, 1.4991464387869906, 1.4991464387869906, 2.4434140008800957, 1.4991464387869906, 3.893886853992185, 1.4991464387869906, 3.202721937408572, 1.4991464387869906, 2.151372486830682, 1.5770241758668346, 6.639077086056676, 1.6549019129466782, 1.4991464387869906, 1.4991464387869906, 1.4991464387869906, 5.7240136753685125, 1.9761475784010334, 1.4991464387869906, 1.4991464387869906, 3.290334391623396, 1.8885351241862092, 1.6938407814866001, 3.708927228427556, 1.4991464387869906, 1.4991464387869906, 3.7868049655074, 1.5380853073269127, 4.312479690796345, 3.3974162801081818, 2.307127960990369, 1.5575547415968733, 5.772687261043414, 1.4991464387869906, 1.4991464387869906, 1.4991464387869906, 2.8035985348743733, 1.5575547415968733, 3.738131379832498, 1.508881155921971, 4.117785348096736, 1.8301268213763264, 2.3558015466652713, 1.4991464387869906, 4.935501587435095, 1.4991464387869906, 1.869065689916248, 1.6451671958116976, 3.6699883598876344, 2.569965323634842, 2.151372486830682, 1.8885351241862094, 5.558523484073843, 2.0150864469409555, 1.4991464387869906, 1.4991464387869906, 3.2221913716785333, 1.528350590191932, 2.647843060714686, 1.4991464387869906, 6.785097843081383, 4.964705738840036, 1.5964936101367952, 1.800922669971385, 3.3487426944332794, 1.4991464387869906, 1.4894117216520104, 5.480645746994001, 1.4991464387869906, 1.4991464387869906, 1.4991464387869906, 3.621314774212732, 1.4991464387869906, 1.4991464387869906, 3.971764591072029, 1.4991464387869906, 1.5186158730569514, 4.283275539391403, 1.5380853073269125, 1.9566781441310728, 2.0832294668858187, 1.9372087098611115, 5.071787627324822, 1.5380853073269125, 1.4991464387869906, 1.528350590191932, 4.156724216636658, 1.508881155921971, 4.1275200652317166, 1.7327796500265218, 1.7230449328915411, 3.0274970289789236, 1.4991464387869906, 4.925766870300114, 2.9788234433040217, 1.567289458731854, 3.58237590567281, 1.4991464387869906, 3.728396662697517, 1.567289458731854, 2.3168626781253496, 1.4991464387869906, 5.032848758784899, 1.4991464387869906, 1.4991464387869906, 3.183252503138611, 1.528350590191932, 2.2292502239105256, 1.4991464387869906, 7.680691819499585, 3.835478551182302, 1.5186158730569514, 1.5867588930018146, 2.5991694750397834, 1.4991464387869906, 3.280599674488416, 1.6062283272717757, 3.494763451457986, 1.528350590191932, 2.32659739526033, 1.4991464387869906, 5.412502727049138, 1.4991464387869906, 1.4991464387869906, 1.4991464387869906, 4.254071387986461, 1.5575547415968733, 1.820392104241346, 2.3363321123953105, 1.4991464387869906, 6.911649165836129, 2.5310264550949197, 1.4991464387869906, 1.4991464387869906, 1.528350590191932, 5.967381603743024, 1.4991464387869906, 1.4991464387869906, 1.4991464387869906, 1.6549019129466782, 5.616931786883727, 1.4991464387869906, 1.4991464387869906, 1.4991464387869906, 2.6089041921747635, 1.6159630444067563, 4.156724216636658, 1.567289458731854, 4.156724216636658, 2.054025315480877, 1.820392104241346, 2.8814762719542166, 1.528350590191932, 5.616931786883727, 2.900945706224178, 1.4991464387869906, 2.180576638235623, 1.985882295536014, 4.770011396140427, 1.4991464387869906, 1.4991464387869906, 1.4991464387869906, 5.509849898398943, 1.4991464387869906, 1.4991464387869906, 1.4991464387869906, 1.985882295536014, 3.3098038258933573, 2.482352869420018, 1.4991464387869906, 3.0956400489237867, 1.508881155921971, 4.604521204845758, 5.801891412448356, 2.5212917379599395, 1.8106573871063654, 4.614255921980739, 1.4991464387869906, 1.4991464387869906, 1.5380853073269125, 5.6364012211536885, 1.4991464387869906, 1.4991464387869906, 1.4991464387869906, 2.5699653236348423, 1.4991464387869906, 4.5071740334959545, 1.4991464387869906, 1.4991464387869906, 1.5380853073269125, 5.801891412448356, 1.4991464387869906, 1.4991464387869906, 1.4991464387869906, 2.9788234433040213, 1.5770241758668346, 3.3487426944332785, 1.4991464387869906, 3.9912340253419893, 2.6089041921747635, 2.0540253154808776, 2.1221683354257403, 2.7743943834694313, 1.4991464387869906, 3.7576008141024584, 1.4991464387869906, 3.8646827025872437, 2.32659739526033, 2.151372486830682, 1.8106573871063654, 5.110726495864743, 1.4991464387869906, 1.4991464387869906, 1.4991464387869906, 4.8576238503552505, 3.621314774212732, 1.966412861266053, 2.667312494984646, 1.7911879528364045, 3.290334391623396, 1.4991464387869906, 1.4991464387869906, 6.434648026222086, 1.9372087098611117, 1.4991464387869906, 1.4991464387869906, 1.4991464387869906, 6.2204842492525145, 1.4991464387869906, 1.4991464387869906, 1.4991464387869906, 1.7522490842964826, 3.3779468458382205, 1.4991464387869906, 1.4991464387869906, 6.327566137737302, 4.5363781849008955, 1.6062283272717757, 1.8009226699713852, 3.650518925617673, 1.4991464387869906, 1.4991464387869906, 4.487704599225994, 1.4991464387869906, 1.4991464387869906, 2.131903052560721, 1.5770241758668346, 5.762952543908433, 1.4991464387869906, 1.4991464387869906, 1.4991464387869906, 2.677047212119627, 1.5770241758668342, 3.816009116912341, 1.508881155921971, 4.098315913826775, 1.567289458731854, 2.1221683354257403, 1.7814532357014243, 3.7283966626975173, 1.508881155921971, 4.1275200652317166, 1.9664128612660532, 2.092964184020799, 1.6938407814866001, 4.750541961870466, 1.4991464387869906, 1.4991464387869906, 3.9133562882621464, 2.3558015466652713, 2.277923809585428, 1.5088811559219713, 5.7824219781783945, 1.4991464387869906, 1.4991464387869906, 1.4991464387869906, 4.2151325194465405, 2.4142098494751543, 2.054025315480877, 2.005351729805975, 3.1540483517336697, 1.4991464387869906, 2.706251363524568, 1.6256977615417367, 3.9620298739370483, 1.5478200244618927, 4.273540822256423, 2.5797000407698225, 2.0832294668858187, 2.0637600326158574, 3.1832525031386107, 1.4991464387869906, 1.4991464387869906, 7.807243142254332, 4.176193650906619, 1.5186158730569514, 1.5770241758668342, 2.190311355370604, 1.7230449328915411, 4.984175173109997, 1.4991464387869906, 1.4991464387869906, 1.4991464387869906, 4.799215547545368, 1.4991464387869906, 1.4991464387869906, 1.4991464387869906, 5.003644607379958, 1.4991464387869906, 1.4991464387869906, 1.4991464387869906, 4.974440455975016, 1.508881155921971, 1.4991464387869906, 1.7327796500265218, 3.3974162801081813, 1.7327796500265218, 2.852272120549275, 1.508881155921971, 3.475294017188025, 1.4991464387869906, 4.234601953716501, 2.862006837684256, 2.0637600326158574, 2.073494749750838, 3.280599674488416, 1.4991464387869906, 1.4991464387869906, 7.008996337185934, 3.5142328857279472, 1.5186158730569514, 1.567289458731854, 2.209780789640565, 1.6646366300816589, 5.6071970697487465, 1.4991464387869906, 1.4991464387869906, 1.4991464387869906, 2.5797000407698225, 1.4991464387869906, 3.747866096967478, 1.4991464387869906, 3.6407842084826925, 1.5380853073269125, 2.1221683354257403, 1.625697761541737, 5.422237444184117, 1.4991464387869906, 1.4991464387869906, 2.200046072505584, 1.4991464387869906, 5.003644607379958, 2.3168626781253496, 1.5186158730569514, 1.6062283272717757, 6.327566137737302, 3.8938868539921847, 1.528350590191932, 1.5770241758668346, 3.9912340253419893, 1.4991464387869906, 1.4991464387869906, 3.7868049655074, 1.4991464387869906, 1.4991464387869906, 3.9230910053971257, 1.4991464387869906, 1.5964936101367952, 3.3000691087583767, 1.508881155921971, 4.273540822256423, 1.5964936101367952, 2.1903113553706035, 1.6743713472166388, 3.8646827025872437, 1.5575547415968733, 4.039907611016892, 1.5770241758668342, 2.063760032615858, 1.8690656899162486, 3.202721937408572, 1.966412861266053, 1.4991464387869906, 6.94085331724107, 4.7700113961404265, 1.5867588930018146, 1.7425143671615024, 3.319538543028338, 1.4991464387869906, 1.6062283272717757, 5.5195846155339225, 1.4991464387869906, 1.4991464387869906, 1.4991464387869906, 3.3779468458382205, 1.4991464387869906, 1.4991464387869906, 4.974440455975016, 1.4991464387869906, 1.4991464387869906, 1.4991464387869906, 5.120461212999723, 1.5186158730569514, 1.4991464387869906, 1.7911879528364045, 2.7646596663344507, 2.297393243855389, 1.4991464387869906, 4.916032153165133, 1.4991464387869906, 1.4991464387869906, 3.416885714378142, 1.8788004070512287, 2.5018223036899787, 1.4991464387869906, 6.473586894762008, 4.468235164956033, 1.6062283272717757, 1.8106573871063654, 3.1443136345986895, 1.4991464387869906, 2.3558015466652713, 2.3168626781253496, 1.5964936101367952, 4.711603093330544, 1.4991464387869906, 1.4991464387869906, 2.9204151404941383, 1.4991464387869906, 2.8912109890891973, 1.4991464387869906, 5.110726495864743, 1.6256977615417367, 1.4991464387869906, 1.9956170126709945, 1.985882295536014, 4.049642328151872, 1.508881155921971, 1.5478200244618927, 3.5337023199979076, 1.508881155921971, 4.370887993606227, 2.6089041921747635, 2.1026989011557795, 1.9566781441310728, 3.4558245829180643, 1.4991464387869906, 1.5964936101367952, 5.88950386666318, 3.36821212870324, 1.5088811559219713, 1.7522490842964826, 4.322214407931326, 1.4991464387869906, 1.4991464387869906, 3.5337023199979076, 1.567289458731854, 2.5407611722299004, 1.4991464387869906, 4.750541961870465, 1.4991464387869906, 1.4991464387869906, 1.7717185185664437, 2.6770472121196267, 1.4991464387869906, 3.8549479854522635, 1.6062283272717757, 4.108050630961755, 2.433679283745115, 2.1026989011557795, 1.9761475784010336, 3.7186619455625367, 1.4991464387869906, 1.4991464387869906, 4.672664224790623, 3.319538543028338, 1.5964936101367952, 3.679723077022615, 1.508881155921971, 3.9230910053971257, 1.567289458731854, 2.1805766382356233, 1.6451671958116976, 4.516908750630935, 1.4991464387869906, 1.508881155921971, 4.01070345961195, 1.6062283272717757, 2.3265973952603303, 1.4991464387869906, 4.847889133220271, 1.4991464387869906, 1.6841060643516195, 3.5726411885378297, 1.625697761541737, 2.336332112395311, 1.4991464387869906, 5.889503866663179, 1.4991464387869906, 1.4991464387869906, 1.4991464387869906, 4.380622710741208, 3.436355148648103, 2.1611072039656625, 1.8885351241862092, 4.740807244735485, 1.4991464387869906, 1.4991464387869906, 1.4991464387869906, 6.123137077902711, 2.3558015466652713, 1.4991464387869906, 1.4991464387869906, 2.9204151404941383, 2.219515506775545, 1.4991464387869906, 4.721337810465524, 1.4991464387869906, 1.4991464387869906, 1.528350590191932, 6.10366764363275, 3.679723077022615, 1.5186158730569514, 1.8106573871063654, 4.088581196691794, 1.4991464387869906, 1.4991464387869906, 4.059377045286853, 1.5186158730569514, 1.9469434269960921, 2.054025315480877, 2.238984941045506, 2.2876585267204086, 1.6062283272717757, 5.295686121429372, 1.4991464387869906, 1.4991464387869906, 2.0637600326158574, 1.4991464387869906, 6.541729914706871, 3.9328257225321064, 1.5478200244618927, 1.625697761541737, 3.4947634514579864, 1.4991464387869906, 1.4991464387869906, 5.500115181263962, 1.4991464387869906, 1.4991464387869906, 1.4991464387869906, 3.261130240218455, 1.4991464387869906, 1.7327796500265218, 4.555847619170857, 1.4991464387869906, 1.4991464387869906, 3.3974162801081813, 1.5964936101367952, 2.6867819292546073, 1.4991464387869906, 5.25674725288945, 1.674371347216639, 1.4991464387869906, 1.4991464387869906, 4.030172893881911, 3.261130240218455, 2.365536263800252, 1.508881155921971, 6.337300854872281, 1.4991464387869906, 1.4991464387869906, 1.4991464387869906, 1.4991464387869906, 6.327566137737302, 2.297393243855389, 1.4991464387869906, 1.4991464387869906, 2.161107203965662, 4.234601953716501, 1.4991464387869906, 1.4991464387869906, 2.472618152285037, 2.131903052560721, 1.6256977615417367, 6.687750671731579, 2.7451902320644908, 1.4991464387869906, 1.528350590191932, 3.426620431513123, 1.5380853073269127, 2.5504958893648806, 1.4991464387869906, 5.120461212999723, 1.4991464387869906, 1.4991464387869906, 1.4991464387869906, 4.4195615792811305, 2.2584543753154667, 1.5575547415968733, 3.6991925112925754, 1.4991464387869906, 3.8646827025872437, 1.6256977615417367, 2.5212917379599395, 1.4991464387869906, 4.458500447821052, 1.4991464387869906, 1.5478200244618927, 4.234601953716501, 2.4434140008800957, 2.1805766382356238, 1.6841060643516195, 5.04258347591988, 1.4991464387869906, 1.4991464387869906, 2.005351729805975, 1.4991464387869906, 6.989526902915973, 4.555847619170857, 1.5867588930018146, 1.7133102157565612, 2.9009457062241775, 1.4991464387869906, 2.9301498576291194, 1.859330972781268, 1.635432478676717, 4.526643467765915, 1.4991464387869906, 1.4991464387869906, 1.4991464387869906, 6.376239723412203, 1.4991464387869906, 1.4991464387869906, 1.4991464387869906, 1.567289458731854, 5.285951404294392, 1.4991464387869906, 1.4991464387869906, 1.4991464387869906, 4.643460073385681, 1.9469434269960921, 1.8106573871063658, 2.628373626444725, 1.4991464387869906, 6.181545380712595, 2.5310264550949197, 1.4991464387869906, 1.4991464387869906, 2.4239445666101345, 2.6867819292546073, 1.528350590191932, 3.7283966626975173, 1.508881155921971, 4.108050630961755, 1.5964936101367952, 2.190311355370604, 1.6451671958116976, 4.40982686214615, 1.4991464387869906, 3.4071509972431615, 1.5380853073269125, 1.6938407814866001, 3.5044981685929666, 1.5478200244618927, 4.322214407931325, 2.842537403414295, 2.0929641840207993, 1.9956170126709945, 3.523967602862927, 1.4991464387869906, 1.4991464387869906, 6.113402360767731, 3.1637830688686503, 1.4991464387869906, 1.5380853073269125, 3.6894577941575952, 1.4991464387869906, 1.4991464387869906, 5.295686121429372, 1.508881155921971, 1.4991464387869906, 1.6256977615417365, 3.3974162801081818, 1.5186158730569514, 4.2151325194465405, 1.6062283272717757, 2.258454375315467, 1.5575547415968733, 4.3903574278761885, 1.4991464387869906, 3.9230910053971266, 1.528350590191932, 1.6256977615417367, 3.1637830688686495, 1.4991464387869906, 4.2735408222564235, 2.4726181522850377, 2.073494749750838, 1.9469434269960921, 3.202721937408572, 1.4991464387869906, 2.4531487180150764, 1.5867588930018148, 4.672664224790623, 1.5380853073269125, 4.088581196691794, 2.0442905983458965, 1.4991464387869906, 3.7283966626975173, 1.4991464387869906, 3.9133562882621464, 1.713310215756561, 2.472618152285037, 1.4991464387869906, 4.721337810465524, 1.4991464387869906, 1.508881155921971, 4.380622710741208, 2.385005698070213, 2.0150864469409555, 2.2292502239105256, 1.878800407051229, 4.867358567490231, 1.4991464387869906, 1.4991464387869906, 1.4991464387869906, 5.850564998123258, 4.516908750630935, 1.6062283272717757, 2.754924949199471, 1.8495962556462873, 2.784129100604412, 1.4991464387869906, 3.6894577941575952, 1.4991464387869906, 1.4991464387869906, 3.854947985452263, 1.4991464387869906, 1.8690656899162486, 1.9177392755911506, 3.095640048923787, 1.5186158730569514, 4.293010256526384, 1.7522490842964826, 2.238984941045506, 1.5575547415968733, 4.468235164956033, 1.4991464387869906, 3.981499308207009, 1.5867588930018148, 1.5964936101367952, 3.2124566545435527, 1.4991464387869906, 4.176193650906618, 2.462883435150057, 2.151372486830682, 1.7619838014314633, 4.672664224790623, 1.4991464387869906, 1.4991464387869906, 3.5921106228077906, 1.6549019129466782, 2.569965323634842, 1.4991464387869906, 5.100991778729763, 1.4991464387869906, 1.4991464387869906, 1.8982698413211896, 1.5867588930018146, 7.427589173990093, 6.580668783246794, 1.8495962556462873, 1.7911879528364048, 2.706251363524568, 1.4991464387869906, 3.59211062280779, 1.4991464387869906, 1.6062283272717757, 3.9328257225321064, 1.4991464387869906, 1.4991464387869906, 3.1637830688686503, 1.4991464387869906, 2.511557020824959, 1.4991464387869906, 3.8841521368572045, 1.4991464387869906, 2.9301498576291194, 1.4991464387869906, 2.4920875865549985, 1.5380853073269125, 6.045259340822867, 1.4991464387869906, 1.4991464387869906, 1.4991464387869906, 1.6062283272717757, 5.792156695313375, 1.4991464387869906, 1.4991464387869906, 1.4991464387869906, 2.3265973952603307, 1.7327796500265218, 4.604521204845759, 1.4991464387869906, 1.4991464387869906, 4.088581196691794, 2.8328026862793143, 2.277923809585428, 1.5770241758668342, 5.821360846718317, 1.4991464387869906, 1.4991464387869906, 1.4991464387869906, 3.1248442003287282, 1.5867588930018148, 3.144313634598689, 1.4991464387869906, 4.185928368041599, 3.0274970289789236, 2.1611072039656625, 1.8106573871063654, 5.130195930134704, 1.4991464387869906, 1.4991464387869906, 1.4991464387869906, 4.468235164956033, 2.034555881210916, 1.7035754986215803, 3.0080275947089623, 1.4991464387869906, 4.711603093330544, 2.054025315480877, 1.567289458731854, 3.231926088813514, 1.4991464387869906, 3.7965396826423805, 1.6062283272717757, 2.4434140008800957, 1.4991464387869906, 4.877093284625213, 1.4991464387869906, 1.4991464387869906, 3.9328257225321064, 2.1319030525607205, 2.1611072039656625, 1.5964936101367952, 5.6364012211536885, 1.4991464387869906, 1.4991464387869906, 1.5380853073269125, 4.312479690796344, 2.628373626444725, 2.0832294668858187, 2.0442905983458965, 3.0859053317888065, 1.4991464387869906, 2.3752709809352326, 1.7717185185664437, 4.5363781849008955, 1.4991464387869906, 1.4991464387869906, 4.00096874247697, 4.078846479556813, 2.238984941045506, 2.1708419211006427, 3.971764591072029, 1.4991464387869906, 1.4991464387869906, 2.6089041921747635, 3.0664358975188453, 1.528350590191932, 2.881476271954216, 1.4991464387869906, 4.974440455975016, 2.4434140008800957, 1.4991464387869906, 2.2292502239105256, 1.9080045584561702, 4.896562718895172, 1.4991464387869906, 1.4991464387869906, 1.4991464387869906, 5.431972161319098, 3.319538543028338, 1.508881155921971, 2.4531487180150764, 1.8495962556462875, 3.5044981685929666, 1.4991464387869906, 2.141637769695701, 1.4991464387869906, 6.201014814982554, 1.508881155921971, 1.4991464387869906, 1.4991464387869906, 1.48941172165201, 6.658546520326637, 3.290334391623396, 1.4991464387869906, 1.5380853073269125, 2.9788234433040217, 1.4991464387869906, 4.010703459611951, 1.4991464387869906, 1.4991464387869906, 2.4823528694200174, 1.4991464387869906, 5.704544241098551, 1.4991464387869906, 1.4991464387869906, 1.4991464387869906, 3.15404835173367, 1.7035754986215803, 2.910680423359158, 1.4991464387869906, 5.042583475919879, 3.9912340253419902, 1.6062283272717757, 3.105374766058768, 1.6841060643516195, 2.8814762719542166, 1.4991464387869906, 3.085905331788806, 1.5867588930018146, 4.185928368041599, 1.5380853073269125, 1.9566781441310728, 2.0832294668858187, 1.8495962556462873, 6.0744634922278085, 2.11243361829076, 1.4991464387869906, 1.4991464387869906, 1.761983801431463, 6.016055189417926, 1.674371347216639, 1.4991464387869906, 1.4991464387869906, 1.4991464387869906, 7.184221245615582, 2.3071279609903694, 1.4991464387869906, 1.4991464387869906, 1.528350590191932, 5.431972161319098, 1.508881155921971, 1.4991464387869906, 1.508881155921971, 3.36821212870324, 1.5380853073269125, 4.146989499501677, 1.625697761541737, 2.3558015466652713, 1.4991464387869906, 4.477969882091013, 1.4991464387869906, 3.8354785511823017, 1.5575547415968733, 1.5867588930018146, 3.3000691087583762, 1.4991464387869906, 4.176193650906618, 2.5797000407698225, 1.9566781441310728, 2.3558015466652713, 1.8495962556462873, 4.156724216636658, 1.4991464387869906, 1.508881155921971, 4.234601953716501, 2.6673124949846465, 2.0442905983458965, 2.1026989011557795, 2.725720797794529, 1.4991464387869906, 4.896562718895172, 1.4991464387869906, 1.4991464387869906, 1.4991464387869906, 5.724013675368512, 5.110726495864743, 1.7814532357014243, 2.8133332520093535, 1.8106573871063654, 2.754924949199471, 1.4991464387869906, 3.6407842084826925, 1.4991464387869906, 1.4991464387869906, 4.030172893881912, 1.4991464387869906, 1.4991464387869906, 2.3265973952603303, 1.5380853073269127, 5.208073667214547, 1.4991464387869906, 1.4991464387869906, 1.6841060643516195, 2.7646596663344516, 1.5867588930018146, 3.7965396826423805, 1.508881155921971, 4.224867236581521, 2.346066829530291, 2.209780789640565, 1.625697761541737, 5.315155555699333, 1.4991464387869906, 1.4991464387869906, 1.9566781441310728, 1.4991464387869906, 7.106343508535738, 4.614255921980739, 1.5770241758668346, 1.6549019129466782, 3.2611302402184545, 1.4991464387869906, 1.9566781441310728, 3.7965396826423805, 1.4991464387869906, 1.4991464387869906, 3.4363551486481034, 1.4991464387869906, 1.4991464387869906, 4.740807244735485, 1.4991464387869906, 1.4991464387869906, 2.394740415205194, 1.4991464387869906, 4.234601953716501, 1.4991464387869906, 2.3071279609903694, 1.4991464387869906, 4.283275539391403, 1.4991464387869906, 1.4991464387869906, 1.567289458731854, 8.255040130463433, 6.239953683522478, 1.6159630444067563, 1.752249084296483, 2.3752709809352326, 1.4991464387869906, 4.546112902035877, 1.4991464387869906, 1.4991464387869906, 2.1611072039656625, 1.8106573871063654, 4.380622710741208, 1.4991464387869906, 1.4991464387869906, 1.9469434269960921, 3.1053747660587674, 1.4991464387869906, 3.1151094831937476, 1.5088811559219713, 2.803598534874373, 1.4991464387869906, 4.974440455975016, 1.4991464387869906, 1.4991464387869906, 1.5867588930018148, 4.195663085176579, 1.4991464387869906, 2.5797000407698225, 1.4991464387869906, 2.5797000407698225, 2.9788234433040217, 1.567289458731854, 2.988558160439002, 1.4991464387869906, 4.760276679005446, 3.0274970289789236, 1.615963044406756, 3.5434370371328883, 1.508881155921971, 3.8841521368572045, 1.567289458731854, 2.2487196581804865, 1.5380853073269127, 4.808950264680349, 1.4991464387869906, 1.4991464387869906, 3.932825722532107, 1.5867588930018148, 2.1805766382356238, 1.6062283272717757, 4.838154416085289, 1.4991464387869906, 1.5380853073269127, 4.137254782366696, 1.985882295536014, 2.11243361829076, 1.6159630444067563, 5.130195930134704, 1.4991464387869906, 1.4991464387869906, 3.5726411885378297, 1.7717185185664437, 2.015086446940955, 1.985882295536014, 3.7965396826423805, 1.4991464387869906, 1.4991464387869906, 3.9620298739370483, 1.4991464387869906, 1.4991464387869906, 3.9328257225321064, 8.245305413328452, 3.241660805948494, 1.4991464387869906, 2.930149857629119, 1.4991464387869906, 2.9398845747641, 1.4991464387869906, 2.6478430607146852, 1.9956170126709945, 1.5186158730569514, 5.65587065542365, 1.4991464387869906, 1.4991464387869906, 1.4991464387869906, 3.105374766058768, 1.4991464387869906, 1.4991464387869906, 5.996585755147966, 1.4991464387869906, 1.4991464387869906, 1.4991464387869906, 1.7327796500265218, 4.468235164956033, 1.4991464387869906, 1.4991464387869906, 2.054025315480877, 1.6159630444067563, 7.602814082419742, 4.030172893881911, 1.5186158730569514, 1.5770241758668342, 2.4239445666101345, 1.4991464387869906, 4.351418559336267, 1.4991464387869906, 1.4991464387869906, 3.416885714378142, 1.5380853073269127, 2.5212917379599395, 1.4991464387869906, 5.100991778729763, 1.4991464387869906, 1.4991464387869906, 1.4991464387869906, 4.750541961870465, 1.508881155921971, 1.4991464387869906, 1.8885351241862096, 2.9593540090340604, 2.6381083435797055, 1.4991464387869906, 2.832802686279314, 2.2292502239105256, 1.4991464387869906, 6.025789906552906, 2.433679283745115, 1.5186158730569514, 1.8106573871063654, 2.433679283745115, 1.4991464387869906, 4.750541961870466, 1.4991464387869906, 3.231926088813514, 1.5186158730569514, 1.5867588930018148, 4.526643467765915, 1.5380853073269127, 4.059377045286853, 2.4726181522850377, 1.5575547415968736, 4.010703459611951, 1.4991464387869906, 3.9230910053971266, 1.5770241758668346, 2.1805766382356238, 1.6451671958116976, 4.740807244735485, 1.4991464387869906, 1.5186158730569514, 4.283275539391403, 2.11243361829076, 2.131903052560721, 1.6938407814866001, 4.740807244735485, 1.4991464387869906, 1.4991464387869906, 3.9620298739370483, 2.0345558812109164, 2.219515506775545, 1.508881155921971, 5.5195846155339225, 1.4991464387869906, 1.4991464387869906, 2.891210989089197, 1.508881155921971, 1.9372087098611115, 3.387681562973201, 1.4991464387869906, 1.508881155921971, 7.184221245615582, 6.999261620050953, 1.820392104241346, 2.015086446940955, 2.939884574764099, 1.4991464387869906, 2.930149857629119, 1.4991464387869906, 2.492087586554998, 1.4991464387869906, 4.458500447821052, 1.4991464387869906, 1.4991464387869906, 2.238984941045506, 1.567289458731854, 4.7700113961404265, 1.4991464387869906, 1.4991464387869906, 2.151372486830682, 1.4991464387869906, 5.568258201208824, 1.4991464387869906, 1.4991464387869906, 1.4991464387869906, 3.0177623118439434, 1.4991464387869906, 2.8425374034142945, 1.4991464387869906, 5.276216687159411, 1.8690656899162486, 1.4991464387869906, 1.9664128612660532, 2.258454375315467, 3.280599674488416, 1.5770241758668342, 2.9788234433040213, 1.4991464387869906, 4.351418559336267, 2.0345558812109164, 1.4991464387869906, 3.6602536427526537, 1.508881155921971, 4.137254782366696, 1.859330972781268, 2.3265973952603303, 1.4991464387869906, 5.0328487587849, 1.4991464387869906, 1.9177392755911506, 1.5478200244618927, 4.6823989419256025, 3.076170614653826, 1.9274739927261313, 2.462883435150057, 1.6841060643516195, 5.539054049803883, 1.4991464387869906, 1.4991464387869906, 1.4991464387869906, 2.141637769695701, 2.618638909309744, 2.930149857629119, 1.6256977615417367, 3.3000691087583767, 1.4991464387869906, 4.254071387986461, 3.5337023199979076, 2.005351729805975, 2.618638909309744, 2.092964184020799, 1.6451671958116976, 6.269157834927418, 1.508881155921971, 1.4991464387869906, 1.4991464387869906, 1.4991464387869906, 6.454117460492047, 2.8912109890891973, 1.4991464387869906, 1.508881155921971, 2.75492494919947, 1.4991464387869906, 6.0744634922278085, 1.4991464387869906, 1.4991464387869906, 1.4991464387869906, 1.6062283272717757, 5.762952543908433, 1.4991464387869906, 1.4991464387869906, 1.4991464387869906, 2.5310264550949197, 1.5964936101367952, 4.185928368041599, 1.5575547415968736, 4.1275200652317166, 2.0832294668858187, 1.820392104241346, 2.8328026862793143, 1.528350590191932, 5.792156695313375, 3.095640048923787, 1.4991464387869906, 2.0150864469409555, 2.969088726169041, 1.4991464387869906, 4.682398941925603, 1.5186158730569514, 1.567289458731854, 2.6478430607146852, 1.4991464387869906, 5.285951404294392, 1.4991464387869906, 1.4991464387869906, 1.4991464387869906, 3.017762311843943, 1.4991464387869906, 3.0567011803838655, 1.8398615385113066, 2.784129100604412, 1.4991464387869906, 6.356770289142242, 5.801891412448356, 1.7425143671615024, 2.151372486830682, 3.0274970289789236, 1.4991464387869906, 2.200046072505584, 1.7327796500265218, 5.003644607379957, 1.4991464387869906, 1.4991464387869906, 1.4991464387869906, 4.789480830410388, 1.4991464387869906, 1.4991464387869906, 1.4991464387869906, 5.149665364404665, 1.4991464387869906, 1.4991464387869906, 1.4991464387869906, 4.224867236581521, 1.4991464387869906, 1.4991464387869906, 2.2973932438553883, 2.657577777849666, 1.6159630444067563, 3.835478551182302, 1.5380853073269125, 4.166458933771638, 1.7717185185664437, 2.044290598345897, 1.9080045584561702, 3.3195385430283375, 1.4991464387869906, 4.4195615792811305, 2.6478430607146852, 2.11243361829076, 1.9274739927261313, 3.5337023199979076, 1.4991464387869906, 1.4991464387869906, 5.840830280988278, 3.0372317461139042, 1.4991464387869906, 1.8885351241862092, 3.4558245829180643, 1.4991464387869906, 3.36821212870324, 1.5575547415968733, 2.6575777778496663, 1.4991464387869906, 4.984175173109997, 1.4991464387869906, 1.4991464387869906, 1.4991464387869906, 4.653194790520661, 1.8301268213763267, 1.4991464387869906, 1.800922669971385, 4.273540822256423, 1.4991464387869906, 1.4991464387869906, 3.4558245829180643, 2.7354555149295097, 2.1903113553706035, 1.7133102157565612, 6.95058803437605, 3.7868049655074, 1.5186158730569514, 1.5770241758668342, 2.910680423359158, 1.4991464387869906, 3.2124566545435527, 1.6646366300816584, 2.969088726169041, 1.5088811559219713, 3.017762311843943, 1.4991464387869906, 4.526643467765915, 1.528350590191932, 1.6062283272717757, 2.7938638177393926, 1.4991464387869906, 4.779746113275408, 1.4991464387869906, 1.4991464387869906, 1.4991464387869906, 5.100991778729762, 1.4991464387869906, 1.4991464387869906, 3.2416608059484937, 1.5770241758668342, 2.170841921100643, 1.5088811559219713, 8.41079560462312, 5.6071970697487465, 1.625697761541737, 1.713310215756561, 2.433679283745115, 1.4991464387869906, 3.621314774212732, 1.4991464387869906, 1.7327796500265218, 3.1832525031386107, 1.4991464387869906, 1.6938407814866001, 4.916032153165133, 1.4991464387869906, 1.4991464387869906, 1.4991464387869906, 5.285951404294392, 1.4991464387869906, 1.4991464387869906, 1.4991464387869906, 3.6797230770226146, 1.4991464387869906, 3.3000691087583767, 1.508881155921971, 2.2584543753154667, 1.4991464387869906, 6.2496884006574565, 1.4991464387869906, 1.4991464387869906, 1.4991464387869906, 1.6549019129466782, 4.273540822256423, 1.4991464387869906, 1.4991464387869906, 1.5186158730569514, 8.177162393383588, 5.130195930134704, 1.6159630444067563, 1.713310215756561, 2.4336792837451156, 1.4991464387869906, 3.738131379832498, 1.4991464387869906, 1.6938407814866001, 3.0664358975188453, 1.4991464387869906, 2.180576638235623, 2.6575777778496663, 1.4991464387869906, 3.5337023199979076, 1.528350590191932, 3.9230910053971257, 1.5478200244618932, 2.1611072039656625, 1.6743713472166388, 4.4195615792811305, 1.4991464387869906, 1.4991464387869906, 3.9912340253419893, 1.6062283272717757, 2.385005698070213, 1.4991464387869906, 4.555847619170857, 1.4991464387869906, 2.8133332520093535, 1.4991464387869906, 1.5964936101367952, 5.957646886608043, 1.7230449328915411, 1.4991464387869906, 1.4991464387869906, 3.3000691087583767, 1.7327796500265218, 2.7646596663344507, 1.4991464387869906, 5.772687261043414, 4.692133659060584, 1.6938407814866001, 2.054025315480877, 3.416885714378142, 1.4991464387869906, 1.4991464387869906, 5.042583475919881, 1.4991464387869906, 1.4991464387869906, 1.4991464387869906, 4.6239906391157195, 1.4991464387869906, 1.4991464387869906, 1.4991464387869906, 5.65587065542365, 1.4991464387869906, 1.4991464387869906, 1.4991464387869906, 2.8814762719542166, 1.5770241758668346, 3.679723077022615, 1.508881155921971, 4.137254782366696, 2.297393243855389, 2.1805766382356233, 1.5867588930018148, 5.354094424239254, 1.4991464387869906, 1.4991464387869906, 2.7743943834694313, 1.4991464387869906, 2.238984941045506, 2.550495889364881, 1.8009226699713852, 3.640784208482693, 1.985882295536014, 1.5478200244618927, 6.561199348976832, 6.259423117792437, 1.9664128612660527, 1.9956170126709945, 3.358477411568259, 1.4991464387869906, 1.5478200244618927, 5.149665364404665, 1.4991464387869906, 1.4991464387869906, 1.4991464387869906, 4.234601953716502, 1.4991464387869906, 1.4991464387869906, 2.1221683354257403, 1.9177392755911506, 4.156724216636658, 1.4991464387869906, 1.4991464387869906, 1.9956170126709945, 4.20539780231156, 1.4991464387869906, 1.4991464387869906, 2.628373626444725, 1.839861538511307, 1.878800407051229, 5.159400081539646, 1.4991464387869906, 1.4991464387869906, 1.4991464387869906, 3.6602536427526533, 2.0442905983458965, 2.5602306064998617, 1.4991464387869906, 6.473586894762008, 4.61425592198074, 1.5867588930018146, 1.7814532357014243, 3.329273260163318, 1.4991464387869906, 1.6743713472166388, 4.799215547545368, 1.4991464387869906, 1.4991464387869906, 1.7035754986215805, 3.4266204315131223, 1.4991464387869906, 1.4991464387869906, 4.808950264680349, 1.4991464387869906, 1.4991464387869906, 1.508881155921971, 5.733748392503493, 2.11243361829076, 1.4991464387869906, 1.5575547415968733, 3.9912340253419902, 1.508881155921971, 3.9912340253419893, 1.528350590191932, 1.985882295536014, 2.073494749750838, 1.966412861266053, 5.577992918343805, 2.1416377696957016, 1.4991464387869906, 1.4991464387869906, 3.601845339942771, 1.4991464387869906, 3.816009116912341, 1.6159630444067563, 2.3947404152051934, 1.4991464387869906, 4.877093284625212, 1.4991464387869906, 1.4991464387869906, 4.293010256526384, 2.1319030525607205, 2.015086446940955, 2.054025315480877, 2.7646596663344507, 1.4991464387869906, 6.162075946442633, 3.4558245829180643, 1.5186158730569514, 1.5964936101367952, 4.3319491250663065, 1.4991464387869906, 1.4991464387869906, 3.046966463248885, 1.528350590191932, 2.998292877573982, 1.4991464387869906, 4.3611532764712475, 1.5380853073269125, 1.6743713472166388, 2.784129100604412, 1.4991464387869906, 5.393033292779177, 2.2876585267204086, 1.4991464387869906, 1.4991464387869906, 4.565582336305837, 1.4991464387869906, 1.508881155921971, 4.20539780231156, 1.6062283272717757, 2.200046072505584, 1.6256977615417367, 4.283275539391403, 1.4991464387869906, 3.981499308207009, 1.5867588930018148, 1.7230449328915411, 2.930149857629119, 1.4991464387869906, 5.26648197002443, 3.36821212870324, 1.4991464387869906, 3.2124566545435527, 1.5186158730569514, 4.341683842201286, 1.528350590191932, 1.7619838014314633, 2.5894347579048023, 1.4991464387869906, 5.879769149528201, 1.508881155921971, 1.4991464387869906, 1.4991464387869906, 1.6743713472166388, 5.831095563853297, 1.5964936101367952, 1.4991464387869906, 1.4991464387869906, 1.5867588930018146, 6.960322751511031, 3.9717645910720285, 1.528350590191932, 1.5867588930018146, 2.998292877573982, 1.4991464387869906, 2.8717415548192364, 2.0053517298059744, 1.4991464387869906, 5.8116261295833365, 1.4991464387869906, 1.4991464387869906, 1.4991464387869906, 1.8203921042413458, 4.954971021705055, 1.4991464387869906, 1.4991464387869906, 1.4991464387869906, 4.974440455975016, 1.7619838014314633, 1.4991464387869906, 1.6743713472166388, 4.146989499501677, 1.4991464387869906, 3.8257438340473215, 1.6354324786767174, 1.8495962556462873, 2.647843060714686, 1.528350590191932, 6.785097843081383, 4.42929629641611, 1.567289458731854, 1.6451671958116976, 3.58237590567281, 1.4991464387869906, 1.4991464387869906, 5.071787627324822, 1.4991464387869906, 1.4991464387869906, 1.4991464387869906, 4.585051770575798, 1.4991464387869906, 1.4991464387869906, 1.4991464387869906, 5.626666504018708, 1.4991464387869906, 1.4991464387869906, 1.4991464387869906, 2.939884574764099, 1.5380853073269125, 3.36821212870324, 1.4991464387869906, 4.078846479556813, 1.8982698413211896, 2.277923809585428, 1.4991464387869906, 5.110726495864743, 1.4991464387869906, 1.508881155921971, 4.263806105121442, 1.8690656899162486, 1.9469434269960921, 2.238984941045506, 1.5575547415968733, 7.836447293659273, 4.2443366708514825, 1.5186158730569514, 1.567289458731854, 2.1611072039656625, 1.6159630444067563, 5.227543101484508, 1.4991464387869906, 1.4991464387869906, 1.4991464387869906, 4.263806105121442, 1.4991464387869906, 1.4991464387869906, 1.752249084296483, 5.26648197002443, 1.4991464387869906, 1.4991464387869906, 1.4991464387869906, 3.6115800570777514, 1.4991464387869906, 1.4991464387869906, 4.906297436030153, 1.878800407051229, 1.4991464387869906, 2.2973932438553883, 1.4991464387869906, 7.252364265560445, 3.1053747660587674, 1.4991464387869906, 1.4991464387869906, 1.7230449328915416, 4.711603093330544, 1.4991464387869906, 1.4991464387869906, 1.4991464387869906, 5.4027680099141575, 1.4991464387869906, 1.4991464387869906, 1.4991464387869906, 2.7257207977945295, 1.4991464387869906, 2.696516646389588, 2.9593540090340604, 1.5380853073269125, 2.988558160439002, 1.4991464387869906, 5.023114041649919, 3.738131379832498, 1.7619838014314633, 3.231926088813513, 1.5380853073269125, 4.263806105121443, 1.528350590191932, 1.820392104241346, 2.4239445666101345, 1.4991464387869906, 6.463852177627028, 1.508881155921971, 1.4991464387869906, 1.4991464387869906, 1.508881155921971, 5.451441595589059, 1.4991464387869906, 1.4991464387869906, 1.4991464387869906, 4.02043817674693, 1.8885351241862092, 2.2681890924504473, 1.4991464387869906, 5.198338950079567, 1.4991464387869906, 1.4991464387869906, 4.156724216636658, 1.9080045584561702, 1.8885351241862092, 2.6381083435797055, 1.528350590191932, 6.502791046166949, 3.6115800570777514, 1.4991464387869906, 1.5478200244618932, 3.5921106228077906, 1.4991464387869906, 1.4991464387869906, 5.90897330093314, 1.4991464387869906, 1.4991464387869906, 1.4991464387869906, 1.8009226699713852, 4.779746113275407, 1.4991464387869906, 1.4991464387869906, 1.4991464387869906, 5.285951404294392, 1.4991464387869906, 1.4991464387869906, 1.4991464387869906, 3.5434370371328883, 1.528350590191932, 2.3947404152051934, 1.4991464387869906, 7.106343508535738, 4.993909890244977, 1.6646366300816589, 1.8495962556462873, 2.715986080659549, 1.4991464387869906, 3.2611302402184545, 1.6062283272717757, 3.270864957353435, 1.4991464387869906, 2.5018223036899783, 1.4991464387869906, 5.431972161319098, 1.4991464387869906, 1.4991464387869906, 1.4991464387869906, 3.1540483517336697, 1.4991464387869906, 1.4991464387869906, 6.639077086056676, 1.771718518566444, 1.4991464387869906, 1.4991464387869906, 1.4991464387869906, 5.354094424239254, 1.4991464387869906, 1.4991464387869906, 1.4991464387869906, 3.650518925617673, 1.528350590191932, 2.3168626781253496, 1.4991464387869906, 6.220484249252516, 1.9469434269960921, 1.4991464387869906, 1.4991464387869906, 3.874417419722224, 1.820392104241346, 2.3850056980702132, 1.4991464387869906, 5.159400081539646, 1.4991464387869906, 1.4991464387869906, 3.7868049655074, 2.180576638235623, 1.9080045584561702, 2.5602306064998617, 1.820392104241346, 2.842537403414295, 1.5186158730569514, 4.84788913322027, 4.039907611016892, 2.1221683354257403, 2.2876585267204086, 2.51155702082496, 1.4991464387869906, 4.458500447821052, 1.4991464387869906, 1.508881155921971, 3.9133562882621464, 1.5964936101367952, 2.238984941045506, 1.567289458731854, 4.6337253562507, 1.4991464387869906, 1.508881155921971, 4.137254782366696, 1.6062283272717757, 2.219515506775545, 1.5575547415968733, 4.81868498181533, 1.4991464387869906, 3.1053747660587674, 1.508881155921971, 1.567289458731854, 4.740807244735485, 1.4991464387869906, 1.6159630444067563, 4.098315913826775, 3.0567011803838655, 2.2487196581804865, 1.6549019129466782, 5.68507480682859, 1.4991464387869906, 1.4991464387869906, 1.4991464387869906, 2.9204151404941388, 1.5770241758668346, 3.621314774212732, 1.4991464387869906, 4.20539780231156, 2.5407611722299004, 2.170841921100643, 1.8106573871063654, 4.497439316360973, 1.4991464387869906, 1.4991464387869906, 3.4266204315131223, 1.6159630444067563, 2.7938638177393926, 1.4991464387869906, 4.984175173109997, 1.966412861266053, 1.4991464387869906, 1.4991464387869906, 6.210749532117536, 4.808950264680349, 1.5770241758668342, 2.0832294668858187, 3.3098038258933573, 1.4991464387869906, 1.5478200244618927, 5.509849898398943, 1.4991464387869906, 1.4991464387869906, 1.4991464387869906, 3.1053747660587674, 1.4991464387869906, 1.567289458731854, 5.840830280988278, 1.4991464387869906, 1.4991464387869906, 1.4991464387869906, 1.5478200244618932, 7.193955962750562, 1.8398615385113073, 1.4991464387869906, 1.4991464387869906, 1.4991464387869906, 4.312479690796345, 1.4991464387869906, 1.4991464387869906, 1.528350590191932, 7.320507285505308, 3.1832525031386107, 1.4991464387869906, 1.4991464387869906, 1.752249084296483, 4.954971021705055, 1.4991464387869906, 1.4991464387869906, 1.4991464387869906, 4.731072527600505, 1.4991464387869906, 1.4991464387869906, 1.4991464387869906, 5.753217826773454, 1.508881155921971, 1.4991464387869906, 1.4991464387869906, 1.5478200244618927, 7.466528042530015, 3.046966463248885, 1.4991464387869906, 1.4991464387869906, 1.752249084296483, 4.526643467765915, 1.4991464387869906, 1.4991464387869906, 1.5380853073269125, 5.743483109638473, 1.4991464387869906, 1.4991464387869906, 1.4991464387869906, 2.900945706224178, 1.5478200244618932, 3.58237590567281, 1.4991464387869906, 4.02043817674693, 1.7911879528364045, 2.3558015466652713, 1.4991464387869906, 4.916032153165133, 1.4991464387869906, 2.180576638235623, 1.4991464387869906, 4.283275539391404, 2.433679283745115, 1.8495962556462875, 2.8230679691443337, 1.5770241758668346, 5.577992918343805, 2.706251363524568, 1.4991464387869906, 2.005351729805975, 2.647843060714686, 2.3850056980702132, 1.4991464387869906, 4.5071740334959545, 1.4991464387869906, 1.5575547415968733, 4.156724216636658, 1.6451671958116976, 2.336332112395311, 1.4991464387869906, 4.6823989419256025, 1.4991464387869906, 3.650518925617673, 1.5867588930018148, 1.567289458731854, 3.36821212870324, 1.4991464387869906, 4.234601953716501, 2.5894347579048027, 2.0929641840207993, 1.9761475784010334, 3.4558245829180643, 1.4991464387869906, 1.5478200244618927, 6.239953683522478, 3.57264118853783, 1.5088811559219713, 1.6062283272717757, 4.059377045286853, 1.4991464387869906, 1.4991464387869906, 4.039907611016892, 1.5380853073269125, 1.8982698413211896, 2.2779238095854275, 1.6743713472166388, 5.626666504018708, 1.4991464387869906, 1.4991464387869906, 1.4991464387869906, 2.4142098494751543, 1.7425143671615024, 4.565582336305837, 1.4991464387869906, 1.4991464387869906, 4.088581196691794, 2.803598534874373, 2.2681890924504473, 1.567289458731854, 5.870034432393218, 1.4991464387869906, 1.4991464387869906, 1.4991464387869906, 3.1443136345986895, 1.5867588930018148, 3.134578917463709, 1.4991464387869906, 4.1275200652317166, 2.94961929189908, 2.170841921100643, 1.7814532357014243, 5.295686121429372, 1.4991464387869906, 1.4991464387869906, 1.4991464387869906, 4.049642328151872, 1.9177392755911509, 2.054025315480877, 1.7425143671615022, 4.555847619170857, 1.4991464387869906, 1.4991464387869906, 4.010703459611951, 2.511557020824959, 2.219515506775545, 1.6451671958116976, 5.480645746994001, 1.4991464387869906, 1.4991464387869906, 1.4991464387869906, 4.497439316360973, 2.4726181522850377, 2.0929641840207993, 1.966412861266053, 3.017762311843943, 1.4991464387869906, 4.760276679005447, 2.0637600326158574, 1.839861538511307, 2.5018223036899783, 1.508881155921971, 6.580668783246792, 2.599169475039783, 1.4991464387869906, 1.4991464387869906, 1.6159630444067563, 6.045259340822867, 1.4991464387869906, 1.4991464387869906, 1.4991464387869906, 1.508881155921971, 6.7948325602163635, 1.7035754986215805, 1.4991464387869906, 1.4991464387869906, 1.4991464387869906, 5.266481970024431, 1.4991464387869906, 1.4991464387869906, 1.4991464387869906, 2.94961929189908, 1.4991464387869906, 1.508881155921971, 8.839123158562261, 5.480645746994001, 1.5770241758668346, 1.6354324786767174, 2.131903052560721, 1.5867588930018148, 4.799215547545368, 1.4991464387869906, 1.4991464387869906, 1.5478200244618927, 5.110726495864743, 1.4991464387869906, 1.4991464387869906, 1.4991464387869906, 4.351418559336267, 1.4991464387869906, 1.4991464387869906, 2.0345558812109164, 2.5407611722299004, 2.5602306064998617, 1.4991464387869906, 3.6991925112925754, 1.5186158730569514, 3.9620298739370483, 1.5380853073269125, 2.1026989011557795, 1.7717185185664437, 3.9230910053971257, 1.4991464387869906, 1.5867588930018148, 4.4195615792811305, 1.8690656899162486, 2.054025315480877, 1.7717185185664437, 3.5434370371328883, 1.820392104241346, 1.9372087098611115, 1.4991464387869906, 8.19663182765355, 4.61425592198074, 1.528350590191932, 1.5867588930018146, 2.200046072505584, 1.5478200244618932, 5.354094424239255, 1.4991464387869906, 1.4991464387869906, 1.4991464387869906, 4.039907611016892, 1.4991464387869906, 1.4991464387869906, 2.346066829530291, 2.054025315480877, 2.092964184020799, 3.387681562973201, 1.4991464387869906, 1.8982698413211896, 2.969088726169041, 1.9566781441310728, 1.4991464387869906, 6.872710297296207, 2.8717415548192364, 1.4991464387869906, 1.4991464387869906, 1.859330972781268, 5.091257061594781, 1.4991464387869906, 1.4991464387869906, 1.4991464387869906, 4.19566308517658, 1.4991464387869906, 1.4991464387869906, 1.5186158730569514, 7.8364472936592735, 3.2221913716785333, 1.4991464387869906, 1.4991464387869906, 1.5867588930018148, 4.896562718895172, 1.4991464387869906, 1.4991464387869906, 1.5478200244618927, 4.662929507655642, 1.4991464387869906, 1.4991464387869906, 2.910680423359158, 1.5088811559219713, 3.017762311843943, 1.4991464387869906, 4.555847619170856, 1.6062283272717757, 1.6938407814866001, 2.7646596663344516, 1.4991464387869906, 5.509849898398943, 2.151372486830682, 1.4991464387869906, 1.4991464387869906, 3.708927228427556, 1.4991464387869906, 1.5964936101367952, 4.273540822256423, 2.385005698070213, 1.9177392755911509, 2.4434140008800957, 1.6841060643516195, 5.6656053725586295, 1.7230449328915411, 1.4991464387869906, 1.4991464387869906, 2.141637769695701, 2.4142098494751543, 2.8328026862793143, 1.7911879528364045, 3.1540483517336697, 1.508881155921971, 5.081522344459801, 5.315155555699333, 2.5212917379599395, 1.674371347216639, 4.993909890244978, 1.4991464387869906, 1.4991464387869906, 1.4991464387869906, 4.81868498181533, 1.4991464387869906, 1.4991464387869906, 1.4991464387869906, 4.906297436030153, 1.4991464387869906, 1.4991464387869906, 1.5186158730569514, 5.324890272834313, 1.508881155921971, 1.4991464387869906, 1.5964936101367952, 3.436355148648103, 1.5186158730569514, 4.224867236581521, 1.5964936101367952, 2.219515506775545, 1.5964936101367952, 4.3027449736613645, 1.4991464387869906, 3.9522951568020677, 1.528350590191932, 1.6938407814866001, 2.930149857629119, 1.4991464387869906, 5.1983389500795685, 3.1735177860036305, 1.4991464387869906, 3.1832525031386107, 1.5186158730569514, 4.4487657306860715, 1.528350590191932, 1.7035754986215803, 2.715986080659549, 1.4991464387869906, 5.295686121429372, 1.4991464387869906, 1.4991464387869906, 1.4991464387869906, 3.15404835173367, 2.2876585267204086, 1.4991464387869906, 4.487704599225993, 1.4991464387869906, 1.4991464387869906, 1.5770241758668342, 7.417854456855112, 6.366505006277222, 1.6841060643516197, 1.8982698413211896, 2.7743943834694313, 1.4991464387869906, 3.4558245829180643, 1.4991464387869906, 1.7035754986215805, 3.514232885727947, 1.4991464387869906, 1.4991464387869906, 4.468235164956033, 1.4991464387869906, 1.4991464387869906, 1.7035754986215803, 4.4487657306860715, 1.4991464387869906, 1.4991464387869906, 1.9177392755911504, 2.696516646389588, 1.7230449328915411, 2.5797000407698225, 1.5380853073269125, 4.20539780231156, 1.508881155921971, 3.932825722532107, 1.528350590191932, 1.7327796500265218, 2.939884574764099, 1.4991464387869906, 5.052318193054861, 2.706251363524568, 1.4991464387869906, 3.1637830688686503, 1.508881155921971, 4.312479690796345, 1.528350590191932, 1.839861538511307, 2.2681890924504473, 1.4991464387869906, 7.174486528480602, 2.6770472121196267, 1.4991464387869906, 1.4991464387869906, 1.528350590191932, 5.65587065542365, 1.4991464387869906, 1.4991464387869906, 1.4991464387869906, 2.385005698070213, 2.8230679691443346, 1.528350590191932, 3.621314774212732, 1.508881155921971, 4.078846479556813, 1.625697761541737, 2.307127960990369, 1.4991464387869906, 4.750541961870465, 1.4991464387869906, 3.280599674488416, 1.508881155921971, 1.567289458731854, 3.913356288262146, 1.5964936101367952, 4.088581196691794, 2.2487196581804865, 2.0248211640759357, 2.131903052560721, 2.492087586554998, 1.4991464387869906, 6.317831420602321, 2.0832294668858187, 1.4991464387869906, 1.4991464387869906, 3.601845339942771, 1.6062283272717757, 2.5894347579048023, 1.4991464387869906, 4.847889133220271, 1.4991464387869906, 1.4991464387869906, 2.725720797794529, 1.5478200244618927, 3.6115800570777514, 1.7327796500265218, 3.6699883598876344, 4.283275539391403, 2.219515506775545, 2.657577777849666, 1.4991464387869906, 5.6071970697487465, 1.4991464387869906, 1.4991464387869906, 1.4991464387869906, 2.6478430607146852, 2.8328026862793148, 1.528350590191932, 3.3779468458382205, 1.4991464387869906, 4.312479690796345, 2.462883435150057, 2.151372486830682, 1.7814532357014243, 4.439031013551091, 1.4991464387869906, 1.4991464387869906, 4.059377045286853, 1.966412861266053, 2.238984941045506, 1.4991464387869906, 5.315155555699333, 1.4991464387869906, 1.4991464387869906, 3.942560439667087, 1.8885351241862094, 1.859330972781268, 2.647843060714686, 1.528350590191932, 6.687750671731579, 3.942560439667087, 1.528350590191932, 1.5770241758668346, 3.5337023199979076, 1.4991464387869906, 1.6451671958116976, 4.575317053440817, 1.4991464387869906, 1.4991464387869906, 1.4991464387869906, 5.8116261295833365, 1.4991464387869906, 1.4991464387869906, 1.4991464387869906, 1.6451671958116976, 5.792156695313375, 1.4991464387869906, 1.4991464387869906, 1.4991464387869906, 2.1416377696957016, 1.7814532357014243, 5.334624989969294, 2.005351729805975, 1.4991464387869906, 1.4991464387869906, 4.701868376195565, 3.0567011803838655, 1.6256977615417367, 3.6115800570777514, 1.5186158730569514, 3.9230910053971257, 1.567289458731854, 2.238984941045506, 1.5964936101367952, 4.555847619170857, 1.4991464387869906, 1.508881155921971, 4.224867236581521, 1.6062283272717757, 2.2097807896405643, 1.6159630444067563, 4.293010256526384, 1.4991464387869906, 3.9912340253419893, 1.6062283272717757, 1.7230449328915411, 2.939884574764099, 1.4991464387869906, 5.24701253575447, 3.36821212870324, 1.4991464387869906, 3.280599674488416, 1.5186158730569514, 4.224867236581521, 1.528350590191932, 1.859330972781268, 2.3363321123953105, 1.4991464387869906, 6.862975580161226, 1.7425143671615024, 1.4991464387869906, 1.4991464387869906, 1.4991464387869906, 4.731072527600505, 1.4991464387869906, 1.4991464387869906, 1.4991464387869906, 6.230218966387497, 2.7938638177393926, 1.4991464387869906, 1.4991464387869906, 3.2124566545435527, 1.4991464387869906, 4.030172893881911, 1.567289458731854, 2.11243361829076, 1.7814532357014243, 3.7868049655074, 1.4991464387869906, 2.988558160439002, 1.508881155921971, 2.4726181522850377, 1.4991464387869906, 7.2036906798855425, 4.00096874247697, 1.5186158730569514, 1.5770241758668342, 2.550495889364881, 1.4991464387869906, 4.6239906391157195, 1.4991464387869906, 1.4991464387869906, 1.90800455845617, 1.9469434269960921, 4.954971021705055, 1.4991464387869906, 1.4991464387869906, 1.4991464387869906, 4.565582336305837, 1.4991464387869906, 1.4991464387869906, 1.8009226699713852, 2.346066829530291, 1.4991464387869906, 7.846182010794254, 4.808950264680349, 1.567289458731854, 1.6062283272717757, 2.492087586554998, 1.4991464387869906, 4.40982686214615, 1.4991464387869906, 1.4991464387869906, 2.696516646389588, 1.4991464387869906, 3.465559300053044, 1.508881155921971, 3.835478551182302, 1.528350590191932, 2.131903052560721, 1.7425143671615024, 3.9036215711271653, 1.4991464387869906, 1.508881155921971, 4.312479690796345, 1.528350590191932, 1.8885351241862094, 2.151372486830682, 1.5575547415968733, 7.301037851235347, 2.492087586554998, 1.4991464387869906, 1.4991464387869906, 1.5186158730569514, 5.315155555699333, 1.4991464387869906, 1.4991464387869906, 1.508881155921971, 3.416885714378142, 1.528350590191932, 4.176193650906619, 1.5964936101367952, 2.1416377696957016, 1.7425143671615024, 3.7576008141024584, 1.508881155921971, 4.098315913826775, 1.5770241758668342, 2.044290598345897, 1.8690656899162486, 3.222191371678533, 1.9080045584561702, 1.5964936101367952, 5.996585755147966, 4.643460073385681, 1.6451671958116976, 1.9664128612660527, 3.816009116912341, 1.4991464387869906, 1.4991464387869906, 3.8646827025872437, 1.4991464387869906, 1.4991464387869906, 3.202721937408572, 1.4991464387869906, 1.4991464387869906, 6.054994057957848, 1.4991464387869906, 1.4991464387869906, 1.4991464387869906, 1.4991464387869906, 6.960322751511031, 2.3558015466652713, 1.4991464387869906, 1.4991464387869906, 1.508881155921971, 5.977116320878005, 1.4991464387869906, 1.4991464387869906, 1.4991464387869906, 1.4991464387869906, 7.125812942805699, 2.1611072039656625, 1.4991464387869906, 1.4991464387869906, 1.4991464387869906, 5.237277818619489, 1.4991464387869906, 1.4991464387869906, 1.4991464387869906, 3.36821212870324, 1.4991464387869906, 1.4991464387869906, 6.317831420602321, 3.7673355312374386, 1.5186158730569514, 1.5867588930018148, 3.9814993082070096, 1.4991464387869906, 1.4991464387869906, 3.436355148648103, 1.4991464387869906, 1.6159630444067563, 4.4487657306860715, 1.4991464387869906, 1.508881155921971, 3.942560439667087, 1.6062283272717757, 2.336332112395311, 1.4991464387869906, 4.81868498181533, 1.4991464387869906, 1.508881155921971, 4.1275200652317166, 1.6062283272717757, 2.1611072039656625, 1.7133102157565607, 4.380622710741208, 1.4991464387869906, 3.708927228427556, 1.8495962556462875, 1.6743713472166388, 3.3876815629732007, 1.508881155921971, 4.351418559336267, 2.3752709809352326, 2.170841921100643, 1.7230449328915411, 4.682398941925603, 1.4991464387869906, 1.4991464387869906, 3.942560439667087, 1.7814532357014243, 2.3752709809352326, 1.4991464387869906, 4.867358567490231, 1.4991464387869906, 1.4991464387869906, 4.3027449736613645, 2.151372486830682, 2.005351729805975, 2.073494749750838, 2.433679283745115, 1.8885351241862092, 3.631049491347712, 1.508881155921971, 4.166458933771638, 2.706251363524568, 2.277923809585428, 1.567289458731854, 5.6948095239635705, 1.4991464387869906, 1.4991464387869906, 1.4991464387869906, 3.7965396826423805, 1.9372087098611115, 2.3265973952603303, 1.4991464387869906, 5.46117631272404, 1.4991464387869906, 1.4991464387869906, 2.852272120549275, 1.528350590191932, 2.073494749750838, 2.8717415548192364, 1.4991464387869906, 3.9230910053971266, 1.6743713472166388, 4.078846479556814, 4.838154416085291, 2.6867819292546073, 1.5186158730569514, 5.8116261295833365, 1.4991464387869906, 1.4991464387869906, 1.4991464387869906, 2.1026989011557795, 2.404475132340174, 1.635432478676717, 5.704544241098551, 1.4991464387869906, 1.4991464387869906, 1.4991464387869906, 1.946943426996092, 3.1248442003287282, 2.4531487180150764, 1.4991464387869906, 3.1248442003287282, 2.0248211640759357, 1.4991464387869906, 7.388650305450172, 5.587727635478785, 1.6646366300816584, 1.7814532357014243, 2.75492494919947, 1.4991464387869906, 3.640784208482693, 1.4991464387869906, 1.567289458731854, 4.185928368041599, 1.4991464387869906, 1.4991464387869906, 2.6867819292546073, 2.1611072039656625, 1.4991464387869906, 5.217808384349528, 1.4991464387869906, 1.4991464387869906, 1.4991464387869906, 4.604521204845758, 1.4991464387869906, 1.4991464387869906, 2.1611072039656625, 1.5380853073269125, 7.5736099310148, 2.4142098494751543, 1.4991464387869906, 1.4991464387869906, 1.4991464387869906, 4.701868376195564, 1.4991464387869906, 1.4991464387869906, 1.4991464387869906, 5.354094424239255, 1.4991464387869906, 1.4991464387869906, 1.4991464387869906, 4.351418559336267, 1.8106573871063654, 2.0248211640759357, 1.9372087098611117, 2.862006837684256, 2.647843060714686, 1.4991464387869906, 3.1929872202735914, 1.5575547415968733, 4.3903574278761885, 3.290334391623396, 1.966412861266053, 2.4434140008800957, 2.054025315480877, 2.4823528694200174, 2.9593540090340604, 1.567289458731854, 3.2611302402184545, 1.4991464387869906, 3.9620298739370483, 2.1026989011557795, 2.1221683354257403, 1.6159630444067563, 5.149665364404665, 1.4991464387869906, 1.4991464387869906, 3.4071509972431615, 1.6159630444067563, 2.0637600326158574, 1.8106573871063654, 5.227543101484508, 2.7451902320644908, 1.5186158730569514, 1.878800407051229, 3.913356288262146, 1.4991464387869906, 1.4991464387869906, 2.5310264550949197, 3.280599674488416, 1.8398615385113066, 2.5602306064998617, 1.4991464387869906, 6.580668783246792, 5.412502727049136, 1.7327796500265218, 1.9274739927261313, 3.0080275947089623, 1.4991464387869906, 2.4823528694200174, 2.394740415205194, 1.4991464387869906, 4.2151325194465405, 1.4991464387869906, 1.5186158730569514, 3.9230910053971257, 1.508881155921971, 2.054025315480877, 1.859330972781268, 3.4460898657830836, 1.4991464387869906, 1.761983801431463, 2.7451902320644903, 1.4991464387869906, 3.0956400489237867, 1.7327796500265218, 2.715986080659549, 1.5380853073269125, 3.942560439667087, 1.508881155921971, 4.176193650906619, 2.287658526720408, 2.063760032615858, 2.005351729805975, 3.280599674488416, 1.4991464387869906, 1.6451671958116976, 5.8992385837981605, 3.9912340253419893, 1.5867588930018146, 1.839861538511307, 4.059377045286853, 1.4991464387869906, 1.4991464387869906, 2.784129100604412, 1.4991464387869906, 2.9301498576291194, 1.4991464387869906, 2.5894347579048023, 1.5380853073269125, 4.263806105121442, 1.508881155921971, 4.000968742476971, 1.5478200244618927, 1.7425143671615024, 2.939884574764099, 1.4991464387869906, 5.2080736672145465, 3.3000691087583767, 1.4991464387869906, 3.2221913716785333, 1.5186158730569514, 4.351418559336267, 1.528350590191932, 1.7911879528364048, 2.4239445666101345, 1.4991464387869906, 6.463852177627028, 1.6646366300816589, 1.4991464387869906, 1.4991464387869906, 1.4991464387869906, 5.704544241098551, 1.4991464387869906, 1.4991464387869906, 1.4991464387869906, 2.5018223036899783, 1.7230449328915411, 3.854947985452263, 1.713310215756561, 3.6310494913477127, 2.258454375315467, 2.238984941045506, 1.4991464387869906, 6.8240367116213045, 2.5212917379599395, 1.4991464387869906, 1.4991464387869906, 2.969088726169041, 1.4991464387869906, 2.8328026862793143, 1.4991464387869906, 5.25674725288945, 1.9080045584561702, 1.4991464387869906, 1.6841060643516195, 3.6894577941575952, 1.5672894587318538, 3.9912340253419893, 1.6062283272717757, 2.3265973952603303, 1.4991464387869906, 4.82841969895031, 1.4991464387869906, 2.6478430607146852, 1.4991464387869906, 1.5380853073269125, 7.271833699830406, 4.117785348096736, 1.5770241758668346, 1.6549019129466782, 2.550495889364881, 1.4991464387869906, 4.20539780231156, 1.4991464387869906, 1.5186158730569514, 3.9522951568020677, 1.5186158730569514, 2.0248211640759357, 1.985882295536014, 2.5018223036899787, 1.4991464387869906, 6.2204842492525145, 1.7035754986215805, 1.4991464387869906, 1.4991464387869906, 1.6256977615417367, 5.6948095239635705, 1.4991464387869906, 1.4991464387869906, 1.4991464387869906, 2.6770472121196267, 1.5964936101367952, 3.942560439667087, 1.508881155921971, 4.312479690796344, 2.2487196581804865, 1.985882295536014, 2.2487196581804865, 1.8301268213763264, 5.4903804641289815, 1.5575547415968733, 1.4991464387869906, 1.4991464387869906, 2.715986080659549, 1.6841060643516195, 3.8646827025872437, 1.6062283272717757, 4.19566308517658, 3.7965396826423805, 2.394740415205194, 1.5478200244618927, 6.054994057957847, 1.4991464387869906, 1.4991464387869906, 1.4991464387869906, 1.5575547415968733, 5.89923858379816, 1.508881155921971, 1.4991464387869906, 1.4991464387869906, 1.4991464387869906, 7.4081197397201315, 3.1540483517336697, 1.4991464387869906, 1.5186158730569514, 1.8690656899162486, 3.893886853992185, 1.4991464387869906, 1.4991464387869906, 3.36821212870324, 1.4991464387869906, 1.6159630444067563, 5.315155555699333, 1.7327796500265218, 1.4991464387869906, 1.5088811559219713, 3.8841521368572045, 1.528350590191932, 4.088581196691794, 1.567289458731854, 2.0345558812109164, 1.9177392755911509, 2.9593540090340604, 2.2487196581804865, 1.4991464387869906, 4.740807244735485, 1.4991464387869906, 1.4991464387869906, 1.7619838014314633, 3.0567011803838655, 1.528350590191932, 3.6894577941575957, 1.508881155921971, 4.779746113275407, 6.892179731566168, 2.618638909309744, 1.8009226699713852, 4.293010256526384, 1.4991464387869906, 1.4991464387869906, 2.209780789640565, 1.7425143671615024, 4.945236304570075, 1.4991464387869906, 1.4991464387869906, 1.4991464387869906, 4.896562718895173, 1.4991464387869906, 1.4991464387869906, 1.4991464387869906, 4.7700113961404265, 1.4991464387869906, 1.4991464387869906, 1.5186158730569514, 5.8992385837981605, 1.8009226699713854, 1.4991464387869906, 1.4991464387869906, 3.076170614653826, 1.7133102157565607, 2.6089041921747635, 1.5867588930018146, 3.9522951568020677, 1.5186158730569514, 4.185928368041599, 1.7522490842964826, 1.9761475784010334, 2.1416377696957016, 1.7230449328915411, 7.106343508535738, 3.9230910053971257, 1.528350590191932, 1.5867588930018146, 2.550495889364881, 1.4991464387869906, 4.682398941925603, 1.4991464387869906, 1.4991464387869906, 2.073494749750838, 1.4991464387869906, 6.113402360767731, 1.4991464387869906, 1.4991464387869906, 1.4991464387869906, 1.9469434269960921, 2.131903052560721, 4.069111762421834, 1.5575547415968733, 1.9274739927261315, 2.1416377696957016, 1.615963044406756, 7.846182010794253, 4.293010256526384, 1.528350590191932, 1.5770241758668342, 2.1903113553706035, 1.5575547415968733, 5.373563858509216, 1.4991464387869906, 1.4991464387869906, 1.4991464387869906, 3.9814993082070096, 1.4991464387869906, 1.4991464387869906, 2.862006837684256, 1.8690656899162486, 1.5380853073269125, 6.210749532117536, 1.4991464387869906, 1.4991464387869906, 1.4991464387869906, 1.5770241758668342, 5.792156695313375, 1.4991464387869906, 1.4991464387869906, 1.4991464387869906, 2.618638909309744, 1.567289458731854, 4.098315913826775, 1.508881155921971, 4.254071387986462, 2.151372486830682, 1.839861538511307, 2.73545551492951, 1.528350590191932, 6.123137077902711, 3.046966463248885, 1.4991464387869906, 1.508881155921971, 4.224867236581521, 1.4991464387869906, 1.5186158730569514, 4.049642328151872, 1.567289458731854, 2.11243361829076, 1.7911879528364045, 3.553171754267869, 1.4991464387869906, 3.5726411885378297, 1.5575547415968733, 2.404475132340173, 1.4991464387869906, 5.295686121429372, 1.4991464387869906, 1.4991464387869906, 1.6159630444067563, 3.8841521368572045, 3.0372317461139042, 1.8301268213763267, 3.1540483517336697, 1.6451671958116976, 3.290334391623396, 1.5867588930018148, 2.9788234433040213, 1.4991464387869906, 4.234601953716502, 1.8398615385113073, 1.4991464387869906, 3.387681562973201, 1.5964936101367952, 4.2151325194465405, 2.988558160439001, 2.0248211640759357, 2.2681890924504478, 2.2487196581804865, 1.6938407814866001, 5.276216687159412, 1.4991464387869906, 1.4991464387869906, 1.4991464387869906, 4.283275539391403, 3.0761706146538255, 2.141637769695701, 1.9372087098611115, 4.108050630961755, 1.4991464387869906, 1.4991464387869906, 2.7743943834694313, 1.567289458731854, 3.9230910053971266, 1.508881155921971, 4.156724216636658, 1.985882295536014, 2.0832294668858187, 1.713310215756561, 4.653194790520661, 1.4991464387869906, 1.4991464387869906, 3.9814993082070096, 2.394740415205194, 2.2487196581804865, 1.5186158730569514, 5.733748392503492, 1.4991464387869906, 1.4991464387869906, 1.4991464387869906, 4.458500447821052, 2.414209849475155, 2.1026989011557795, 1.8690656899162486, 3.6797230770226146, 1.4991464387869906, 2.6867819292546073, 1.5186158730569514, 3.1832525031386107, 1.528350590191932, 4.585051770575798, 3.2124566545435527, 2.0832294668858187, 2.092964184020799, 2.9106804233591577, 1.4991464387869906, 2.7451902320644908, 1.4991464387869906, 2.9982928775739817, 1.4991464387869906, 1.567289458731854, 8.644428815862652, 5.1691347986746266, 1.567289458731854, 1.6159630444067563, 2.1611072039656625, 1.5186158730569514, 5.0328487587849, 1.4991464387869906, 1.4991464387869906, 1.4991464387869906, 4.82841969895031, 1.4991464387869906, 1.4991464387869906, 1.4991464387869906, 4.964705738840036, 1.4991464387869906, 1.4991464387869906, 1.4991464387869906, 5.276216687159412, 1.4991464387869906, 1.4991464387869906, 1.5186158730569514, 3.640784208482693, 1.508881155921971, 3.854947985452263, 1.5575547415968733, 2.151372486830682, 1.6938407814866001, 4.42929629641611, 1.4991464387869906, 1.4991464387869906, 3.9717645910720285, 1.6159630444067563, 2.423944566610135, 1.4991464387869906, 4.585051770575798, 1.4991464387869906, 2.1611072039656625, 1.4991464387869906, 4.799215547545368, 2.5699653236348423, 1.5186158730569514, 3.475294017188025, 1.508881155921971, 4.166458933771637, 1.6354324786767174, 2.3265973952603303, 1.4991464387869906, 4.4195615792811305, 1.4991464387869906, 3.9814993082070096, 1.5478200244618927, 1.6549019129466782, 3.0956400489237867, 1.4991464387869906, 4.477969882091013, 2.6089041921747635, 1.8690656899162486, 2.628373626444725, 1.5964936101367952, 5.996585755147966, 2.073494749750838, 1.4991464387869906, 1.4991464387869906, 2.404475132340174, 3.076170614653826, 1.5770241758668342, 3.1637830688686495, 1.4991464387869906, 3.991234025341989, 1.7717185185664437, 2.1611072039656625, 1.5867588930018148, 4.993909890244978, 1.4991464387869906, 1.508881155921971, 4.283275539391403, 2.0248211640759357, 2.005351729805975, 2.1708419211006427, 1.859330972781268, 5.938177452338082, 2.4434140008800957, 1.4991464387869906, 1.4991464387869906, 3.202721937408572, 1.4991464387869906, 2.4142098494751543, 1.9372087098611115, 2.2487196581804865, 3.9912340253419902, 2.6673124949846465, 2.0637600326158574, 2.1026989011557795, 2.94961929189908, 1.4991464387869906, 2.2779238095854275, 3.6505189256176735, 2.336332112395311, 2.131903052560721, 1.6062283272717757, 6.415178591952125, 1.9080045584561702, 1.4991464387869906, 1.4991464387869906, 3.36821212870324, 1.5964936101367952, 2.462883435150057, 1.4991464387869906, 6.0452593408228665, 2.472618152285037, 1.4991464387869906, 1.528350590191932, 3.8646827025872437, 1.6062283272717757, 2.5018223036899787, 1.4991464387869906, 4.555847619170857, 1.4991464387869906, 1.508881155921971, 4.331949125066306, 2.151372486830682, 2.170841921100643, 1.5770241758668342, 5.052318193054861, 1.4991464387869906, 1.4991464387869906, 3.971764591072029, 1.7814532357014243, 2.005351729805975, 2.1221683354257403, 1.9177392755911509, 5.8408302809882775, 2.7743943834694313, 1.5186158730569514, 1.567289458731854, 3.7283966626975173, 1.4991464387869906, 1.5964936101367955, 4.351418559336267, 1.4991464387869906, 1.9566781441310728, 1.508881155921971, 6.639077086056676, 3.6894577941575952, 1.5186158730569514, 1.567289458731854, 3.6991925112925754, 1.4991464387869906, 1.6549019129466782, 4.000968742476971, 1.4991464387869906, 1.4991464387869906, 2.8328026862793143, 2.4142098494751543, 1.4991464387869906, 3.7770702483724192, 1.4991464387869906, 3.475294017188025, 1.528350590191932, 2.258454375315467, 1.4991464387869906, 6.132871795037691, 1.4991464387869906, 1.4991464387869906, 1.4991464387869906, 4.078846479556814, 2.5407611722299004, 2.200046072505584, 1.7522490842964826, 5.139930647269685, 1.4991464387869906, 1.4991464387869906, 1.4991464387869906, 5.091257061594781, 2.8717415548192364, 1.7230449328915411, 3.134578917463709, 1.4991464387869906, 4.312479690796345, 1.528350590191932, 1.7327796500265218, 2.7451902320644903, 1.4991464387869906, 5.412502727049138, 1.8885351241862094, 1.4991464387869906, 1.4991464387869906, 3.708927228427556, 1.5186158730569514, 4.1275200652317166, 1.567289458731854, 2.1416377696957016, 1.761983801431463, 3.913356288262146, 1.4991464387869906, 3.942560439667087, 1.859330972781268, 1.9566781441310728, 2.346066829530291, 1.6159630444067563, 7.466528042530015, 4.370887993606227, 1.528350590191932, 1.5867588930018146, 2.6673124949846465, 1.4991464387869906, 4.069111762421834, 1.4991464387869906, 1.4991464387869906, 3.8841521368572045, 1.4991464387869906, 1.9956170126709945, 2.044290598345897, 2.7159860806595484, 1.4991464387869906, 3.329273260163318, 1.4991464387869906, 2.900945706224178, 1.5380853073269127, 3.1637830688686495, 1.4991464387869906, 4.254071387986463, 1.839861538511307, 2.0832294668858187, 1.820392104241346, 3.436355148648103, 1.9274739927261313, 1.508881155921971, 6.259423117792437, 3.58237590567281, 1.528350590191932, 1.5964936101367952, 4.185928368041599, 1.4991464387869906, 1.4991464387869906, 3.7478660969674773, 1.5575547415968733, 2.2292502239105256, 1.5964936101367952, 4.964705738840036, 1.4991464387869906, 1.4991464387869906, 2.5115570208249594, 1.4991464387869906, 3.36821212870324, 1.9177392755911509, 1.6062283272717757, 5.04258347591988, 2.939884574764099, 1.4991464387869906, 2.3558015466652713, 2.365536263800252, 1.5380853073269127, 5.315155555699333, 1.4991464387869906, 1.4991464387869906, 2.4142098494751543, 1.4991464387869906, 3.426620431513123, 1.4991464387869906, 3.601845339942771, 2.433679283745115, 2.550495889364881, 1.4991464387869906, 5.986851038012985, 2.852272120549275, 1.4991464387869906, 1.508881155921971, 3.806274399777361, 1.508881155921971, 1.7619838014314633, 2.939884574764099, 2.1319030525607205, 1.4991464387869906, 5.65587065542365, 1.7230449328915411, 1.4991464387869906, 1.4991464387869906, 2.1708419211006427, 2.4531487180150764, 3.085905331788806, 1.839861538511307, 2.6478430607146852, 1.4991464387869906, 7.018731054320914, 6.347035572007263, 1.820392104241346, 1.8982698413211896, 3.0177623118439434, 1.4991464387869906, 2.569965323634842, 1.635432478676717, 4.010703459611951, 1.4991464387869906, 1.4991464387869906, 2.910680423359158, 1.4991464387869906, 2.3558015466652713, 1.4991464387869906, 5.47091102985902, 1.4991464387869906, 1.4991464387869906, 1.4991464387869906, 3.416885714378142, 1.4991464387869906, 1.8009226699713852, 3.1929872202735914, 1.5964936101367952, 3.7576008141024584, 1.6062283272717757, 2.3947404152051934, 1.4991464387869906, 4.867358567490231, 1.4991464387869906, 1.4991464387869906, 3.747866096967478, 1.6549019129466782, 2.219515506775545, 1.4991464387869906, 5.792156695313375, 1.4991464387869906, 1.4991464387869906, 3.553171754267869, 1.839861538511307, 1.6062283272717757, 3.835478551182302, 1.508881155921971, 4.283275539391403, 2.2292502239105256, 2.1221683354257403, 1.7717185185664437, 4.516908750630935, 1.4991464387869906, 1.4991464387869906, 3.981499308207009, 2.209780789640565, 2.151372486830682, 1.5964936101367952, 5.393033292779177, 1.4991464387869906, 1.4991464387869906, 2.492087586554998, 1.4991464387869906, 2.618638909309744, 3.59211062280779, 2.7938638177393926, 2.297393243855389, 1.5380853073269127, 7.174486528480602, 3.0956400489237867, 1.4991464387869906, 1.4991464387869906, 2.365536263800252, 1.4991464387869906, 4.701868376195565, 1.4991464387869906, 1.4991464387869906, 2.9885581604390024, 1.508881155921971, 2.8230679691443337, 1.4991464387869906, 5.26648197002443, 1.8690656899162486, 1.4991464387869906, 1.6451671958116976, 3.6894577941575952, 1.5478200244618927, 4.069111762421834, 1.5964936101367952, 2.2097807896405643, 1.5867588930018148, 4.6337253562507, 1.4991464387869906, 3.3000691087583767, 1.5186158730569514, 1.5867588930018148, 3.9814993082070096, 1.567289458731854, 4.156724216636658, 2.200046072505584, 1.9664128612660532, 2.2292502239105256, 2.054025315480877, 2.998292877573982, 2.754924949199471, 1.4991464387869906, 2.7743943834694313, 2.3071279609903694, 1.4991464387869906, 6.132871795037691, 1.4991464387869906, 1.5088811559219713, 2.832802686279314, 1.4991464387869906, 1.6451671958116976, 7.9824680506839805, 6.716954823136519, 1.839861538511307, 1.7619838014314633, 2.4726181522850377, 1.508881155921971, 4.02043817674693, 1.4991464387869906, 1.5186158730569514, 3.4850287343230058, 1.4991464387869906, 1.6451671958116976, 4.137254782366696, 1.4991464387869906, 1.5186158730569514, 3.5921106228077906, 1.4991464387869906, 1.9372087098611115, 2.569965323634842, 2.4726181522850377, 1.4991464387869906, 3.7673355312374386, 1.4991464387869906, 3.4071509972431615, 1.4991464387869906, 2.2097807896405643, 1.5770241758668346, 5.870034432393219, 1.4991464387869906, 1.4991464387869906, 1.4991464387869906, 2.4920875865549985, 1.5380853073269125, 4.4779698820910125, 1.508881155921971, 4.010703459611951, 1.6743713472166388, 1.5770241758668346, 3.3779468458382205, 1.4991464387869906, 3.9912340253419893, 2.3265973952603303, 2.1611072039656625, 1.625697761541737, 5.334624989969294, 1.4991464387869906, 1.4991464387869906, 1.9566781441310728, 1.4991464387869906, 7.0868740742657765, 4.779746113275407, 1.5867588930018146, 1.6938407814866001, 3.2513955230834743, 1.4991464387869906, 2.0345558812109164, 3.222191371678533, 1.4991464387869906, 1.4991464387869906, 5.597462352613766, 1.4991464387869906, 1.4991464387869906, 1.4991464387869906, 2.628373626444725, 1.4991464387869906, 3.9814993082070096, 1.4991464387869906, 1.4991464387869906, 3.0080275947089627, 1.5575547415968733, 3.290334391623396, 1.4991464387869906, 4.156724216636658, 2.3752709809352326, 2.11243361829076, 1.8106573871063654, 4.224867236581521, 1.4991464387869906, 1.4991464387869906, 4.224867236581521, 2.3947404152051934, 2.054025315480877, 2.0150864469409555, 3.0567011803838646, 1.4991464387869906, 2.969088726169041, 1.5770241758668346, 3.601845339942771, 1.4991464387869906, 4.088581196691794, 3.241660805948494, 1.859330972781268, 3.1151094831937476, 1.6549019129466782, 3.1832525031386107, 1.567289458731854, 3.0274970289789236, 1.4991464387869906, 4.263806105121442, 2.0832294668858187, 1.6451671958116976, 3.4558245829180643, 1.508881155921971, 4.156724216636658, 1.8301268213763264, 2.3558015466652713, 1.4991464387869906, 4.731072527600505, 1.4991464387869906, 3.241660805948494, 1.508881155921971, 1.5770241758668342, 4.2151325194465405, 1.4991464387869906, 4.156724216636658, 2.180576638235623, 1.713310215756561, 3.4168857143781417, 1.508881155921971, 4.195663085176579, 1.8495962556462873, 2.3558015466652713, 1.4991464387869906, 4.701868376195564, 1.4991464387869906, 3.2513955230834743, 1.508881155921971, 1.5770241758668342, 4.069111762421834, 1.5478200244618932, 4.2151325194465405, 2.1903113553706035, 1.8301268213763267, 2.8035985348743733, 1.528350590191932, 5.8408302809882775, 2.9204151404941383, 1.4991464387869906, 1.7814532357014243, 3.932825722532107, 1.4991464387869906, 2.394740415205194, 1.4991464387869906, 3.4460898657830836, 1.4991464387869906, 3.0080275947089627, 1.567289458731854, 2.8230679691443337, 1.4991464387869906, 5.646135938288669, 3.202721937408572, 1.4991464387869906, 1.7230449328915411, 4.5655823363058365, 1.4991464387869906, 1.4991464387869906, 2.5310264550949197, 1.4991464387869906, 3.7576008141024584, 1.508881155921971, 4.088581196691794, 1.5867588930018148, 2.131903052560721, 1.7425143671615024, 4.030172893881911, 1.4991464387869906, 3.8354785511823017, 1.6646366300816589, 1.9177392755911506, 2.462883435150057, 1.528350590191932, 7.398385022585153, 4.565582336305837, 1.5380853073269127, 1.5964936101367952, 2.8912109890891973, 1.4991464387869906, 3.436355148648103, 1.4991464387869906, 2.297393243855389, 1.4991464387869906, 4.5071740334959545, 1.4991464387869906, 1.4991464387869906, 3.0372317461139042, 1.5088811559219713, 3.0080275947089623, 1.4991464387869906, 4.380622710741208, 1.528350590191932, 1.6549019129466782, 2.8133332520093535, 1.4991464387869906, 5.237277818619488, 1.9080045584561702, 1.4991464387869906, 1.5186158730569514, 4.273540822256423, 1.4991464387869906, 3.854947985452263, 1.528350590191932, 1.7230449328915411, 2.9106804233591577, 1.4991464387869906, 5.373563858509216, 3.134578917463709, 1.4991464387869906, 2.891210989089197, 1.528350590191932, 5.07178762732482, 1.508881155921971, 1.4991464387869906, 1.7717185185664437, 2.8814762719542166, 2.2097807896405643, 1.4991464387869906, 5.032848758784899, 1.4991464387869906, 1.4991464387869906, 1.4991464387869906, 4.808950264680349, 3.1832525031386107, 1.5380853073269127, 3.523967602862927, 1.5186158730569514, 3.9328257225321064, 1.567289458731854, 2.219515506775545, 1.6062283272717757, 4.516908750630935, 1.4991464387869906, 1.508881155921971, 4.195663085176579, 1.6062283272717757, 2.238984941045506, 1.625697761541737, 4.2443366708514825, 1.4991464387869906, 4.00096874247697, 1.6062283272717757, 1.7230449328915411, 2.930149857629119, 1.4991464387869906, 5.159400081539646, 3.2416608059484937, 1.4991464387869906, 3.3195385430283375, 1.5186158730569514, 4.039907611016892, 1.5380853073269125, 2.0442905983458965, 1.8690656899162486, 3.15404835173367, 1.508881155921971, 4.059377045286853, 1.6062283272717757, 2.3947404152051934, 1.4991464387869906, 4.42929629641611, 1.4991464387869906, 3.4850287343230058, 1.528350590191932, 1.6549019129466782, 3.3779468458382205, 1.508881155921971, 4.439031013551091, 2.511557020824959, 2.0832294668858187, 2.005351729805975, 2.969088726169041, 1.4991464387869906, 4.3903574278761885, 2.054025315480877, 1.8301268213763267, 2.677047212119627, 1.528350590191932, 6.191280097847575, 2.988558160439002, 1.4991464387869906, 1.508881155921971, 3.4850287343230053, 1.4991464387869906, 2.238984941045506, 1.4991464387869906, 5.324890272834313, 1.4991464387869906, 1.4991464387869906, 1.508881155921971, 4.614255921980739, 1.859330972781268, 1.9761475784010334, 2.0929641840207993, 1.761983801431463, 6.337300854872281, 2.5407611722299004, 1.4991464387869906, 1.4991464387869906, 2.054025315480877, 3.1248442003287282, 1.4991464387869906, 3.494763451457986, 1.5964936101367955, 2.74519023206449, 1.4991464387869906, 4.565582336305837, 1.4991464387869906, 1.4991464387869906, 1.4991464387869906, 7.1160782256707185, 4.993909890244978, 1.5867588930018146, 1.7717185185664437, 3.3098038258933573, 1.4991464387869906, 1.567289458731854, 5.597462352613767, 1.4991464387869906, 1.4991464387869906, 1.4991464387869906, 3.2513955230834743, 1.4991464387869906, 1.4991464387869906, 5.25674725288945, 1.4991464387869906, 1.4991464387869906, 1.4991464387869906, 4.137254782366696, 1.4991464387869906, 1.4991464387869906, 2.7938638177393926, 1.7133102157565607, 3.6018453399427712, 1.508881155921971, 1.8982698413211896, 2.5602306064998612, 2.8230679691443346, 1.6256977615417367, 3.514232885727947, 1.4991464387869906, 4.312479690796345, 3.816009116912342, 2.151372486830682, 2.365536263800252, 2.6867819292546073, 1.5380853073269125, 3.835478551182302, 1.508881155921971, 4.049642328151872, 1.5575547415968733, 2.0832294668858187, 1.8009226699713852, 3.7186619455625363, 1.4991464387869906, 3.932825722532107, 1.6062283272717757, 2.1805766382356238, 1.625697761541737, 4.8576238503552505, 1.4991464387869906, 1.635432478676717, 3.9036215711271653, 2.3752709809352326, 2.151372486830682, 1.7814532357014243, 5.188604232944586, 1.4991464387869906, 1.4991464387869906, 1.4991464387869906, 4.604521204845758, 3.251395523083474, 1.9761475784010334, 2.3947404152051934, 1.9469434269960921, 3.0567011803838655, 1.7230449328915411, 2.696516646389588, 1.5575547415968733, 3.845213268317283, 1.508881155921971, 4.088581196691794, 1.7425143671615024, 2.151372486830682, 1.625697761541737, 4.906297436030154, 1.4991464387869906, 1.508881155921971, 4.322214407931326, 2.1708419211006422, 2.015086446940955, 2.073494749750838, 2.6381083435797055, 1.4991464387869906, 6.833771428756285, 3.7673355312374386, 1.528350590191932, 1.5770241758668342, 2.7743943834694313, 1.4991464387869906, 3.7868049655074, 1.4991464387869906, 1.5186158730569514, 4.487704599225994, 1.528350590191932, 1.5867588930018148, 2.852272120549275, 1.4991464387869906, 4.750541961870465, 1.4991464387869906, 1.4991464387869906, 1.5575547415968733, 4.935501587435095, 1.4991464387869906, 1.508881155921971, 4.000968742476971, 1.8301268213763267, 2.044290598345897, 1.8106573871063654, 4.176193650906619, 1.4991464387869906, 1.5186158730569514, 4.497439316360973, 3.1637830688686495, 2.005351729805975, 2.297393243855389, 2.1805766382356233, 2.005351729805975, 3.854947985452263, 1.508881155921971, 1.567289458731854, 3.7770702483724192, 1.508881155921971, 4.263806105121443, 2.005351729805975, 2.1903113553706035, 1.528350590191932, 5.198338950079567, 1.4991464387869906, 1.4991464387869906, 3.903621571127166, 1.8301268213763267, 1.9177392755911509, 2.3752709809352326, 1.6062283272717757, 7.320507285505308, 4.293010256526384, 1.528350590191932, 1.5867588930018146, 2.7354555149295097, 1.4991464387869906, 3.8257438340473215, 1.4991464387869906, 1.5770241758668342, 4.195663085176579, 1.4991464387869906, 1.5964936101367952, 3.0274970289789236, 1.4991464387869906, 4.4195615792811305, 1.5186158730569514, 1.5867588930018148, 2.9009457062241775, 1.4991464387869906, 4.672664224790623, 1.4991464387869906, 1.4991464387869906, 1.8982698413211896, 3.0664358975188457, 1.6062283272717757, 4.1275200652317166, 2.2487196581804865, 2.1026989011557795, 1.7522490842964826, 4.5947864877107785, 1.4991464387869906, 1.4991464387869906, 3.932825722532107, 2.092964184020799, 2.365536263800252, 1.4991464387869906, 5.237277818619489, 1.4991464387869906, 1.4991464387869906, 2.842537403414295, 1.528350590191932, 2.1026989011557795, 1.9566781441310728, 4.3903574278761885, 1.4991464387869906, 1.4991464387869906, 4.010703459611951, 6.707220106001539, 2.8328026862793143, 1.5186158730569514, 5.26648197002443, 1.4991464387869906, 1.4991464387869906, 1.4991464387869906, 3.9522951568020677, 1.4991464387869906, 1.4991464387869906, 2.7938638177393926, 1.4991464387869906, 3.0372317461139042, 1.8982698413211896, 1.4991464387869904, 6.201014814982555, 1.508881155921971, 1.4991464387869906, 1.4991464387869906, 1.6256977615417367, 5.334624989969294, 1.4991464387869906, 1.4991464387869906, 1.4991464387869906, 4.3319491250663065, 2.258454375315467, 2.005351729805975, 2.0150864469409555, 2.852272120549275, 1.7522490842964826, 2.4726181522850377, 1.6256977615417367, 4.5071740334959545, 1.518615873056952, 4.117785348096736, 2.32659739526033, 1.5575547415968736, 3.854947985452263, 1.4991464387869906, 3.9230910053971257, 1.6159630444067563, 2.346066829530291, 1.4991464387869906, 4.896562718895172, 1.4991464387869906, 1.5478200244618927, 4.1275200652317166, 2.0345558812109164, 2.063760032615858, 1.8009226699713854, 4.3319491250663065, 1.4991464387869906, 1.4991464387869906, 4.069111762421834, 2.715986080659549, 2.005351729805975, 2.238984941045506, 2.3460668295302916, 1.5964936101367952, 5.743483109638474, 1.4991464387869906, 1.4991464387869906, 1.4991464387869906, 4.40982686214615, 2.930149857629119, 2.151372486830682, 1.8885351241862094, 4.351418559336267, 1.4991464387869906, 1.4991464387869906, 2.8133332520093535, 1.5575547415968733, 3.6894577941575952, 1.4991464387869906, 4.146989499501677, 2.365536263800252, 2.190311355370604, 1.674371347216639, 5.062052910189841, 1.4991464387869906, 1.4991464387869906, 2.297393243855389, 1.4991464387869906, 4.740807244735485, 1.4991464387869906, 1.4991464387869906, 1.6841060643516195, 4.40982686214615, 5.539054049803882, 3.2416608059484937, 1.4991464387869906, 4.954971021705055, 1.4991464387869906, 1.4991464387869906, 1.4991464387869906, 4.6337253562507, 1.4991464387869906, 1.4991464387869906, 1.7717185185664437, 3.0274970289789236, 1.4991464387869906, 1.839861538511307, 3.669988359887634, 1.4991464387869906, 1.7619838014314633, 2.696516646389588, 1.5575547415968733, 4.059377045286853, 1.508881155921971, 4.254071387986462, 2.180576638235623, 1.9274739927261313, 2.346066829530291, 1.6646366300816584, 6.862975580161227, 3.2513955230834743, 1.4991464387869906, 1.5186158730569514, 2.3071279609903694, 1.528350590191932, 5.6364012211536885, 1.4991464387869906, 1.4991464387869906, 1.4991464387869906, 2.9788234433040217, 1.5088811559219713, 3.1929872202735914, 1.4991464387869906, 4.195663085176579, 1.635432478676717, 2.190311355370604, 1.6646366300816584, 4.108050630961755, 1.508881155921971, 4.1275200652317166, 1.6159630444067563, 1.8788004070512287, 2.5018223036899787, 1.4991464387869906, 7.252364265560446, 4.3611532764712475, 1.5380853073269127, 1.5867588930018148, 2.9009457062241775, 1.4991464387869906, 3.387681562973201, 1.4991464387869906, 2.433679283745115, 1.4991464387869906, 3.932825722532107, 1.4991464387869906, 2.5699653236348423, 1.4991464387869906, 2.8035985348743733, 2.2487196581804865, 1.4991464387869906, 4.7700113961404265, 1.4991464387869906, 1.4991464387869906, 1.8885351241862092, 1.4991464387869906, 8.362122018948218, 4.468235164956033, 1.528350590191932, 1.5770241758668342, 2.0248211640759357, 2.11243361829076, 2.599169475039783, 1.4991464387869906, 4.263806105121443, 1.4991464387869906, 1.4991464387869906, 1.6451671958116976, 5.149665364404665, 1.4991464387869906, 1.4991464387869906, 1.4991464387869906, 4.42929629641611, 1.4991464387869906, 1.4991464387869906, 2.2973932438553883, 1.8106573871063654, 4.146989499501677, 1.4991464387869906, 1.4991464387869906, 4.108050630961755, 2.3850056980702132, 2.209780789640565, 1.5770241758668342, 5.431972161319098, 1.4991464387869906, 1.4991464387869906, 2.015086446940955, 1.4991464387869906, 6.395709157682163, 4.195663085176579, 1.5770241758668346, 1.6938407814866001, 3.9522951568020677, 1.4991464387869906, 1.4991464387869906, 3.854947985452263, 1.4991464387869906, 1.4991464387869906, 3.1443136345986895, 1.4991464387869906, 1.4991464387869906, 6.483321611896988, 1.4991464387869906, 1.4991464387869906, 1.4991464387869906, 1.4991464387869906, 6.09393292649777, 2.131903052560721, 1.4991464387869906, 1.4991464387869906, 2.482352869420018, 2.998292877573982, 1.5770241758668342, 3.339007977298299, 1.4991464387869906, 4.030172893881911, 2.044290598345897, 2.1903113553706035, 1.5770241758668342, 5.100991778729763, 1.4991464387869906, 1.4991464387869906, 3.9522951568020677, 1.9274739927261315, 1.9372087098611115, 2.462883435150056, 1.5867588930018148, 6.9116491658361285, 3.9522951568020677, 1.528350590191932, 1.567289458731854, 2.94961929189908, 1.4991464387869906, 3.3098038258933573, 1.4991464387869906, 1.9274739927261308, 1.820392104241346, 5.334624989969294, 1.4991464387869906, 1.4991464387869906, 1.4991464387869906, 3.15404835173367, 1.4991464387869906, 1.8301268213763267, 3.3487426944332785, 1.4991464387869906, 3.027497028978924, 1.6354324786767174, 3.231926088813514, 1.4991464387869906, 4.380622710741208, 4.487704599225994, 2.1221683354257403, 2.5602306064998617, 2.433679283745115, 1.5380853073269127, 4.370887993606227, 1.4991464387869906, 1.6062283272717757, 3.6991925112925754, 1.5867588930018148, 2.4531487180150764, 1.4991464387869906, 4.82841969895031, 1.4991464387869906, 1.4991464387869906, 3.1832525031386107, 1.5380853073269125, 2.4726181522850377, 1.4991464387869906, 6.687750671731579, 4.156724216636658, 1.5770241758668346, 1.713310215756561, 3.0567011803838646, 1.4991464387869906, 2.6770472121196267, 1.90800455845617, 1.6256977615417367, 5.88950386666318, 1.4991464387869906, 1.4991464387869906, 1.4991464387869906, 1.7522490842964824, 4.643460073385681, 1.4991464387869906, 1.4991464387869906, 1.8885351241862094, 1.4991464387869906, 8.391326170353159, 3.806274399777361, 1.4991464387869906, 1.5186158730569514, 1.7911879528364048, 3.1832525031386107, 1.4991464387869906, 1.9177392755911506, 3.5434370371328883, 1.4991464387869906, 1.4991464387869906, 4.351418559336267, 1.4991464387869906, 1.4991464387869906, 1.7814532357014243, 3.7965396826423805, 1.4991464387869906, 1.4991464387869906, 4.731072527600505, 2.1124336182907597, 1.5964936101367952, 3.231926088813513, 1.4991464387869906, 3.8452132683172824, 1.6062283272717757, 2.433679283745115, 1.4991464387869906, 4.7700113961404265, 1.4991464387869906, 1.4991464387869906, 4.117785348096736, 2.073494749750838, 2.1221683354257403, 1.6451671958116976, 5.081522344459802, 1.4991464387869906, 1.4991464387869906, 3.3000691087583767, 1.5770241758668342, 2.1026989011557795, 1.635432478676717, 7.184221245615582, 4.731072527600505, 1.6646366300816589, 1.8982698413211896, 2.2195155067755454, 1.4991464387869906, 4.7700113961404265, 1.4991464387869906, 1.4991464387869906, 2.2292502239105256, 1.4991464387869906, 4.935501587435095, 1.4991464387869906, 1.4991464387869906, 1.6256977615417367, 3.971764591072029, 1.4991464387869906, 1.4991464387869906, 3.4071509972431624, 1.508881155921971, 4.234601953716502, 1.6062283272717757, 2.219515506775545, 1.586758893001815, 4.254071387986462, 1.4991464387869906, 4.010703459611951, 1.5575547415968733, 1.7327796500265218, 2.891210989089197, 1.4991464387869906, 5.383298575644197, 3.280599674488416, 1.508881155921971, 2.8328026862793143, 1.5478200244618927, 5.480645746994001, 1.4991464387869906, 1.4991464387869906, 1.5186158730569514, 3.3779468458382205, 1.5186158730569514, 4.069111762421834, 1.6062283272717757, 2.297393243855389, 1.5088811559219713, 4.6337253562507, 1.4991464387869906, 2.423944566610135, 1.4991464387869906, 1.9274739927261308, 3.6602536427526533, 1.4991464387869906, 1.4991464387869906, 5.247012535754469, 5.626666504018708, 2.307127960990369, 2.219515506775545, 3.2221913716785333, 1.4991464387869906, 1.508881155921971, 5.217808384349529, 1.4991464387869906, 1.4991464387869906, 1.4991464387869906, 4.750541961870465, 1.4991464387869906, 1.4991464387869906, 1.567289458731854, 4.964705738840036, 1.4991464387869906, 1.4991464387869906, 2.4434140008800957, 1.4991464387869906, 3.621314774212732, 1.4991464387869906, 3.7283966626975173, 1.5867588930018148, 2.11243361829076, 1.713310215756561, 4.643460073385681, 1.4991464387869906, 1.4991464387869906, 4.00096874247697, 2.4142098494751543, 2.258454375315467, 1.5186158730569514, 5.714278958233532, 1.4991464387869906, 1.4991464387869906, 1.4991464387869906, 4.487704599225994, 2.433679283745115, 2.0929641840207993, 1.9177392755911509, 3.436355148648103, 1.4991464387869906, 3.4558245829180643, 1.6159630444067563, 2.74519023206449, 1.4991464387869906, 4.799215547545368, 1.4991464387869906, 1.4991464387869906, 1.4991464387869906, 5.9284427352031015, 5.4903804641289815, 1.9080045584561702, 2.492087586554998, 2.31686267812535, 1.4894117216520104, 4.964705738840036, 1.4991464387869906, 1.4991464387869906, 1.7133102157565612, 3.2611302402184545, 1.4991464387869906, 1.4991464387869906, 5.324890272834313, 1.4991464387869906, 1.4991464387869906, 1.4991464387869906, 3.767335531237439, 1.4991464387869906, 1.4991464387869906, 3.6894577941575952, 1.508881155921971, 4.176193650906618, 1.5867588930018148, 2.190311355370604, 1.6256977615417367, 4.5071740334959545, 1.4991464387869906, 3.3000691087583767, 1.528350590191932, 1.6062283272717757, 3.757600814102458, 1.5770241758668342, 4.108050630961755, 2.3558015466652713, 2.1805766382356238, 1.5964936101367952, 5.539054049803883, 1.4991464387869906, 1.4991464387869906, 1.5380853073269125, 4.4195615792811305, 2.5407611722299004, 2.073494749750838, 2.0345558812109164, 2.8035985348743733, 1.4991464387869906, 5.247012535754469, 2.5018223036899783, 1.4991464387869906, 1.9372087098611115, 3.0080275947089627, 1.4991464387869906, 4.468235164956033, 1.6159630444067563, 1.9956170126709945, 1.9566781441310728, 2.5018223036899787, 3.0664358975188453, 1.674371347216639, 2.930149857629119, 1.4991464387869906, 5.062052910189841, 3.679723077022615, 1.5867588930018148, 3.1443136345986895, 1.6451671958116976, 3.4168857143781417, 1.4991464387869906, 2.1708419211006427, 1.5770241758668346, 6.385974440547183, 1.4991464387869906, 1.4991464387869906, 1.4991464387869906, 1.4991464387869906, 6.210749532117535, 2.0832294668858187, 1.4991464387869906, 1.4991464387869906, 1.7717185185664437, 5.850564998123259, 1.5186158730569514, 1.4991464387869906, 1.4991464387869906, 1.4991464387869906, 7.485997476799977, 3.270864957353435, 1.4991464387869906, 1.5186158730569514, 1.8106573871063658, 4.283275539391403, 1.4991464387869906, 1.4991464387869906, 1.5964936101367952, 6.50279104616695, 1.4991464387869906, 1.4991464387869906, 1.4991464387869906, 1.4991464387869906, 5.4903804641289815, 1.4991464387869906, 1.4991464387869906, 1.4991464387869906, 2.482352869420017, 1.4991464387869906, 5.013379324514939, 1.4991464387869906, 1.4991464387869906, 4.030172893881912, 2.3947404152051934, 1.9956170126709945, 2.258454375315467, 2.2584543753154667, 1.800922669971385, 5.26648197002443, 1.8009226699713852, 1.4991464387869906, 1.4991464387869906, 4.370887993606227, 3.2416608059484937, 2.054025315480877, 2.4239445666101345, 2.4531487180150764, 1.6256977615417367, 4.078846479556813, 1.4991464387869906, 3.854947985452263, 1.528350590191932, 1.8788004070512287, 2.3265973952603303, 1.5186158730569514, 7.632018233824684, 4.137254782366696, 1.5186158730569514, 1.567289458731854, 2.2292502239105256, 1.567289458731854, 5.412502727049138, 1.4991464387869906, 1.4991464387869906, 1.4991464387869906, 3.835478551182302, 1.4991464387869906, 1.4991464387869906, 3.2124566545435527, 1.508881155921971, 3.8841521368572045, 1.567289458731854, 2.2487196581804865, 1.586758893001815, 4.61425592198074, 1.4991464387869906, 1.4991464387869906, 3.9912340253419902, 1.5964936101367952, 2.3752709809352326, 1.4991464387869906, 4.721337810465524, 1.4991464387869906, 2.054025315480877, 1.4991464387869906, 5.091257061594781, 3.0567011803838655, 1.5770241758668346, 3.4655593000530445, 1.4991464387869906, 3.854947985452263, 1.567289458731854, 2.238984941045506, 1.567289458731854, 4.721337810465524, 1.4991464387869906, 1.4991464387869906, 3.835478551182302, 1.5867588930018148, 2.1903113553706035, 1.5575547415968733, 5.1983389500795685, 1.4991464387869906, 1.4991464387869906, 3.893886853992185, 1.985882295536014, 1.8690656899162486, 2.8035985348743733, 1.5380853073269125, 5.928442735203102, 3.4558245829180643, 1.4991464387869906, 1.9956170126709945, 3.251395523083474, 1.4991464387869906, 2.209780789640565, 1.5575547415968733, 5.081522344459801, 1.4991464387869906, 1.4991464387869906, 1.869065689916248, 1.5770241758668342, 6.629342368921695, 2.900945706224178, 1.4991464387869906, 1.4991464387869906, 2.073494749750838, 3.1248442003287282, 1.4991464387869906, 2.433679283745115, 1.5380853073269125, 4.487704599225993, 1.4991464387869906, 3.046966463248885, 1.4991464387869906, 1.6062283272717757, 4.19566308517658, 1.4991464387869906, 3.0274970289789236, 1.528350590191932, 1.9274739927261313, 3.0372317461139042, 1.5380853073269125, 4.458500447821051, 4.886828001760192, 2.2487196581804865, 2.3363321123953105, 2.8912109890891973, 1.4991464387869906, 2.813333252009354, 1.7717185185664437, 2.3460668295302916, 1.5867588930018148, 4.954971021705055, 1.4991464387869906, 1.4991464387869906, 2.9593540090340604, 1.5186158730569514, 2.6381083435797055, 1.4991464387869906, 6.580668783246792, 3.825743834047322, 1.5186158730569514, 1.5867588930018148, 3.514232885727947, 1.4991464387869906, 1.4991464387869906, 5.947912169473063, 1.4991464387869906, 1.4991464387869906, 1.4991464387869906, 1.761983801431463, 5.100991778729762, 1.4991464387869906, 1.4991464387869906, 1.4991464387869906, 4.00096874247697, 1.4991464387869906, 1.4991464387869906, 3.5337023199979076, 1.6938407814866001, 2.550495889364881, 1.4991464387869906, 5.3735638585092165, 1.5770241758668342, 1.4991464387869906, 1.4991464387869906, 4.263806105121442, 4.42929629641611, 1.9956170126709942, 3.0080275947089623, 1.761983801431463, 2.336332112395311, 1.635432478676717, 4.740807244735485, 1.4991464387869906, 1.4991464387869906, 3.1053747660587674, 1.528350590191932, 2.7354555149295097, 1.4991464387869906, 5.675340089693609, 2.6089041921747635, 1.4991464387869906, 1.508881155921971, 4.146989499501677, 1.4991464387869906, 1.4991464387869906, 3.202721937408572, 1.5964936101367952, 2.939884574764099, 1.4991464387869906, 4.662929507655642, 2.297393243855389, 1.4991464387869906, 2.8912109890891973, 1.635432478676717, 4.4195615792811305, 1.985882295536014, 1.8009226699713852, 2.8230679691443337, 1.4991464387869906, 5.840830280988278, 2.784129100604412, 1.4991464387869906, 1.4894117216520104, 4.42929629641611, 1.4991464387869906, 1.5380853073269125, 4.00096874247697, 1.5964936101367952, 2.209780789640565, 1.5964936101367952, 4.477969882091013, 1.4991464387869906, 1.5867588930018148, 3.913356288262146, 1.6549019129466782, 2.4434140008800957, 1.4991464387869906, 4.653194790520661, 1.4991464387869906, 2.1026989011557795, 1.4991464387869906, 5.100991778729762, 3.4947634514579864, 1.6062283272717757, 3.339007977298299, 1.5186158730569514, 4.195663085176579, 1.5380853073269125, 1.9177392755911509, 2.1708419211006427, 1.508881155921971, 7.057669922860835, 1.7717185185664437, 1.4991464387869906, 1.4991464387869906, 1.4991464387869906, 4.526643467765916, 1.4991464387869906, 1.4991464387869906, 1.4991464387869906, 6.73642425740648, 2.9788234433040213, 1.4991464387869906, 1.4991464387869906, 2.161107203965662, 3.6602536427526537, 1.4991464387869906, 1.4991464387869906, 4.166458933771637, 1.4991464387869906, 1.4991464387869906, 2.7743943834694313, 1.761983801431463, 2.346066829530291, 1.7035754986215803, 5.071787627324822, 1.4991464387869906, 1.4991464387869906, 2.930149857629119, 1.567289458731854, 2.8230679691443337, 1.5186158730569514, 6.6488118031916565, 6.327566137737302, 1.8982698413211896, 2.2487196581804865, 2.7354555149295097, 1.4991464387869906, 3.8062743997773607, 1.4991464387869906, 1.4991464387869906, 3.845213268317283, 1.4991464387869906, 1.4991464387869906, 3.4752940171880247, 1.508881155921971, 3.58237590567281, 1.4991464387869906, 2.219515506775545, 1.5867588930018148, 5.042583475919881, 1.4991464387869906, 1.4991464387869906, 1.508881155921971, 5.062052910189841, 1.508881155921971, 1.508881155921971, 2.015086446940955, 1.9080045584561702, 4.341683842201286, 1.4991464387869906, 1.4991464387869906, 1.8398615385113073, 4.7700113961404265, 1.4991464387869906, 1.4991464387869906, 1.4991464387869906, 6.016055189417926, 4.779746113275407, 1.6451671958116976, 2.0832294668858187, 3.436355148648103, 1.4991464387869906, 1.4991464387869906, 5.247012535754469, 1.4991464387869906, 1.4991464387869906, 1.4991464387869906, 3.7965396826423805, 1.4991464387869906, 1.4991464387869906, 3.523967602862928, 1.4991464387869906, 1.6062283272717757, 4.2443366708514825, 1.4991464387869906, 2.891210989089197, 1.4991464387869906, 1.9566781441310728, 3.3974162801081818, 1.4991464387869906, 1.6646366300816584, 5.47091102985902, 4.906297436030153, 1.8009226699713852, 2.569965323634842, 2.1903113553706035, 1.674371347216639, 4.808950264680349, 1.4991464387869906, 1.4991464387869906, 1.4991464387869906, 5.568258201208825, 1.4991464387869906, 1.4991464387869906, 1.4991464387869906, 2.706251363524568, 2.4920875865549985, 1.4991464387869906, 3.4460898657830836, 1.5964936101367952, 3.7965396826423805, 1.6062283272717757, 2.4823528694200174, 1.4991464387869906, 4.692133659060584, 1.4991464387869906, 1.4991464387869906, 4.059377045286853, 2.1805766382356233, 2.1903113553706035, 1.528350590191932, 5.548788766938864, 1.4991464387869906, 1.4991464387869906, 2.2097807896405643, 1.4991464387869906, 4.468235164956033, 1.5770241758668346, 1.4991464387869906, 1.508881155921971, 8.147958241978648, 6.765628408811422, 1.6451671958116976, 1.820392104241346, 2.3947404152051934, 1.4991464387869906, 4.049642328151872, 1.4991464387869906, 1.508881155921971, 3.3584774115682596, 1.4991464387869906, 1.6743713472166388, 4.098315913826775, 1.4991464387869906, 1.4991464387869906, 3.36821212870324, 1.4991464387869906, 1.9469434269960921, 2.8230679691443337, 1.4991464387869906, 4.195663085176579, 1.4991464387869906, 1.5575547415968733, 3.0859053317888065, 1.4991464387869906, 4.3611532764712475, 1.528350590191932, 1.7327796500265218, 2.6770472121196267, 1.4991464387869906, 5.519584615533923, 1.4991464387869906, 1.4991464387869906, 1.4991464387869906, 2.667312494984646, 2.900945706224178, 1.528350590191932, 2.998292877573982, 1.4991464387869906, 4.945236304570075, 3.3098038258933573, 1.7425143671615022, 3.1832525031386107, 1.5186158730569514, 4.526643467765915, 1.528350590191932, 1.6938407814866001, 2.7257207977945295, 1.4991464387869906, 5.1691347986746266, 1.4991464387869906, 1.4991464387869906, 1.4991464387869906, 3.7186619455625367, 1.4991464387869906, 3.4655593000530445, 1.5770241758668342, 2.2681890924504473, 1.4991464387869906, 6.639077086056676, 2.6867819292546073, 1.4991464387869906, 1.7327796500265218, 3.017762311843943, 1.508881155921971, 2.6089041921747635, 1.4991464387869906, 6.3567702891422435, 2.6867819292546073, 1.4991464387869906, 1.4991464387869906, 2.3558015466652713, 2.7646596663344507, 1.4991464387869906, 3.339007977298298, 1.5770241758668342, 4.030172893881911, 1.6256977615417367, 2.423944566610135, 1.4991464387869906, 4.439031013551091, 1.4991464387869906, 3.59211062280779, 1.528350590191932, 1.6646366300816582, 3.270864957353435, 1.508881155921971, 4.4195615792811305, 2.754924949199471, 2.11243361829076, 1.966412861266053, 3.3779468458382205, 1.4991464387869906, 1.6451671958116976, 5.208073667214547, 2.336332112395311, 1.4991464387869906, 1.4991464387869906, 5.383298575644196, 1.4991464387869906, 1.4991464387869906, 1.5867588930018146, 4.098315913826775, 2.238984941045506, 2.1026989011557795, 1.6841060643516195, 4.877093284625212, 1.4991464387869906, 1.4991464387869906, 3.5726411885378297, 1.7327796500265218, 2.2487196581804865, 1.4991464387869906, 6.337300854872282, 1.6159630444067563, 1.4991464387869906, 1.4991464387869906, 4.098315913826775, 2.394740415205194, 2.1221683354257403, 1.878800407051229, 4.3611532764712475, 1.4991464387869906, 1.4991464387869906, 2.8035985348743733, 1.5770241758668346, 3.825743834047322, 1.508881155921971, 4.263806105121442, 3.192987220273592, 2.219515506775545, 1.7230449328915416, 5.217808384349529, 1.4991464387869906, 1.4991464387869906, 1.4991464387869906, 4.3611532764712475, 1.8982698413211896, 1.820392104241346, 2.6089041921747635, 1.508881155921971, 6.5611993489768325, 3.231926088813514, 1.4991464387869906, 1.508881155921971, 2.8814762719542166, 1.4991464387869906, 4.283275539391404, 1.4991464387869906, 1.4991464387869906, 1.5867588930018146, 6.142606512172672, 1.508881155921971, 1.4991464387869906, 1.4991464387869906, 1.4991464387869906, 6.619607651786715, 2.2292502239105256, 1.4991464387869906, 1.4991464387869906, 1.528350590191932, 6.600138217516753, 1.8885351241862094, 1.4991464387869906, 1.4991464387869906, 1.4991464387869906, 5.6364012211536885, 1.4991464387869906, 1.4991464387869906, 1.4991464387869906, 2.852272120549275, 1.5575547415968733, 3.7576008141024584, 1.508881155921971, 4.108050630961755, 2.092964184020799, 2.2487196581804865, 1.4991464387869906, 5.529319332668903, 1.4991464387869906, 1.4991464387869906, 3.270864957353435, 1.5380853073269125, 1.8009226699713854, 3.1540483517336697, 2.092964184020799, 1.4991464387869906, 7.184221245615581, 5.276216687159411, 1.6938407814866001, 1.7911879528364048, 2.8035985348743733, 1.4991464387869906, 3.3000691087583767, 1.4991464387869906, 2.754924949199471, 1.4991464387869906, 3.3000691087583767, 1.5575547415968733, 3.7186619455625367, 1.528350590191932, 2.1903113553706035, 1.6256977615417367, 4.662929507655642, 1.4991464387869906, 1.4991464387869906, 2.5699653236348423, 1.4991464387869906, 3.640784208482693, 1.528350590191932, 4.088581196691794, 1.5964936101367952, 2.2292502239105256, 1.5380853073269127, 4.857623850355251, 1.4991464387869906, 2.3752709809352326, 1.4991464387869906, 2.686781929254608, 1.4991464387869906, 4.1275200652317166, 1.567289458731854, 4.234601953716502, 2.725720797794529, 2.0345558812109164, 2.1708419211006427, 2.7743943834694313, 1.4991464387869906, 3.4850287343230053, 1.761983801431463, 2.3558015466652713, 1.4991464387869906, 5.042583475919881, 1.4991464387869906, 1.5380853073269127, 4.254071387986462, 3.475294017188025, 2.2681890924504473, 1.6938407814866001, 5.587727635478785, 1.4991464387869906, 1.4991464387869906, 1.4991464387869906, 2.706251363524568, 1.528350590191932, 3.874417419722224, 1.508881155921971, 4.088581196691794, 1.6743713472166388, 2.1221683354257403, 1.7327796500265218, 4.263806105121443, 1.4991464387869906, 3.7381313798324975, 1.9080045584561702, 1.7911879528364045, 3.1053747660587674, 1.5186158730569514, 4.984175173109996, 2.8814762719542166, 1.7619838014314633, 3.0956400489237867, 1.5186158730569514, 4.477969882091013, 1.528350590191932, 1.6841060643516195, 2.7451902320644903, 1.4991464387869906, 5.208073667214548, 1.5575547415968733, 1.4991464387869906, 1.4991464387869906, 3.6602536427526537, 1.508881155921971, 4.234601953716502, 2.1221683354257403, 2.131903052560721, 1.7230449328915411, 4.721337810465524, 1.4991464387869906, 1.4991464387869906, 3.9230910053971257, 2.0832294668858187, 2.277923809585428, 1.4991464387869906, 5.616931786883727, 1.4991464387869906, 1.4991464387869906, 2.365536263800252, 1.4991464387869906, 3.1248442003287282, 1.4991464387869906, 1.9761475784010334, 4.117785348096736, 1.528350590191932, 1.6743713472166388, 4.341683842201286, 7.8364472936592735, 2.6673124949846465, 1.7035754986215803, 4.477969882091013, 1.4991464387869906, 1.4991464387869906, 1.8106573871063654, 3.6115800570777514, 1.4991464387869906, 1.6062283272717757, 4.088581196691794, 1.4991464387869906, 1.4991464387869906, 2.862006837684256, 1.8690656899162486, 1.5380853073269125, 5.957646886608043, 1.4991464387869906, 1.4991464387869906, 1.4991464387869906, 1.4991464387869906, 6.989526902915973, 1.5964936101367952, 1.4991464387869906, 1.4991464387869906, 1.4991464387869906, 4.3611532764712475, 1.4991464387869906, 1.4991464387869906, 1.528350590191932, 7.320507285505308, 3.58237590567281, 1.4991464387869906, 1.5478200244618927, 2.0832294668858187, 3.076170614653826, 1.4991464387869906, 1.8495962556462873, 3.4363551486481034, 1.4991464387869906, 2.092964184020799, 1.4991464387869906, 6.483321611896988, 1.508881155921971, 1.4991464387869906, 1.4991464387869906, 1.4991464387869906, 6.113402360767731, 2.4142098494751543, 1.4991464387869906, 1.4991464387869906, 2.8717415548192364, 1.9566781441310723, 1.4991464387869906, 6.8532408630262465, 2.394740415205194, 1.4991464387869906, 1.4991464387869906, 1.528350590191932, 6.006320472282947, 1.4991464387869906, 1.4991464387869906, 1.4991464387869906, 1.6646366300816589, 5.227543101484508, 1.4991464387869906, 1.4991464387869906, 1.4991464387869906, 4.030172893881911, 1.7814532357014243, 1.9274739927261313, 2.3947404152051934, 1.800922669971385, 4.954971021705055, 1.508881155921971, 1.4991464387869906, 1.4991464387869906, 5.46117631272404, 6.142606512172672, 2.4726181522850377, 1.820392104241346, 4.146989499501677, 1.4991464387869906, 1.4991464387869906, 2.550495889364881, 1.4991464387869906, 3.854947985452263, 1.4991464387869906, 1.6062283272717757, 3.893886853992185, 1.4991464387869906, 1.771718518566444, 2.715986080659549, 1.7814532357014243, 2.462883435150057, 1.4991464387869906, 4.672664224790623, 1.4991464387869906, 1.4991464387869906, 3.59211062280779, 1.5964936101367952, 2.4239445666101345, 1.4991464387869906, 5.100991778729762, 1.4991464387869906, 1.4991464387869906, 2.6867819292546073, 1.5186158730569514, 2.998292877573982, 2.346066829530291, 1.5186158730569514, 4.867358567490231, 1.5186158730569514, 2.0442905983458965, 1.528350590191932, 5.47091102985902, 6.6488118031916565, 2.75492494919947, 1.6549019129466782, 4.477969882091013, 1.4991464387869906, 1.4991464387869906, 1.869065689916248, 3.3000691087583767, 1.4991464387869906, 2.0637600326158574, 1.567289458731854, 5.539054049803885, 1.4991464387869906, 1.4991464387869906, 1.4991464387869906, 3.3195385430283375, 1.4991464387869906, 1.4991464387869906, 5.110726495864743, 1.4991464387869906, 1.4991464387869906, 1.4991464387869906, 4.838154416085291, 1.6159630444067563, 1.567289458731854, 2.6381083435797055, 1.4991464387869906, 5.480645746994001, 1.6549019129466782, 1.4991464387869906, 1.4991464387869906, 2.346066829530291, 1.5186158730569514, 7.748834839444448, 4.585051770575798, 1.6159630444067563, 1.7911879528364048, 2.482352869420018, 1.4991464387869906, 3.6115800570777514, 1.4991464387869906, 2.346066829530291, 1.4991464387869906, 4.088581196691794, 1.4991464387869906, 1.5186158730569514, 4.049642328151872, 1.5380853073269125, 1.9956170126709945, 2.0150864469409555, 2.4142098494751543, 2.5115570208249594, 1.6062283272717757, 4.00096874247697, 1.508881155921971, 4.088581196691794, 1.5478200244618932, 1.9469434269960921, 2.11243361829076, 1.567289458731854, 8.118754090573706, 4.400092145011169, 1.5186158730569514, 1.5770241758668342, 2.0832294668858187, 1.713310215756561, 4.984175173109997, 1.4991464387869906, 1.4991464387869906, 1.4991464387869906, 4.7700113961404265, 1.4991464387869906, 1.4991464387869906, 1.4991464387869906, 5.081522344459802, 1.4991464387869906, 1.4991464387869906, 1.4991464387869906, 4.585051770575798, 1.4991464387869906, 1.4991464387869906, 1.6743713472166388, 4.555847619170857, 1.4991464387869906, 1.4991464387869906, 3.436355148648103, 1.6062283272717757, 2.7354555149295097, 1.4991464387869906, 4.984175173109997, 1.6549019129466782, 1.4991464387869906, 1.4991464387869906, 5.373563858509216, 5.100991778729762, 1.9566781441310728, 2.7743943834694313, 1.9761475784010336, 1.9177392755911509, 4.3903574278761885, 1.4991464387869906, 1.4991464387869906, 1.5478200244618927, 5.967381603743024, 1.4991464387869906, 1.4991464387869906, 1.4991464387869906, 1.567289458731854, 6.288627269197379, 1.4991464387869906, 1.4991464387869906, 1.4991464387869906, 1.4991464387869906, 6.30809670346734, 1.6938407814866001, 1.4991464387869906, 1.4991464387869906, 1.4991464387869906, 6.463852177627028, 1.6256977615417367, 1.4991464387869906, 1.4991464387869906, 1.4991464387869906, 6.434648026222086, 2.862006837684256, 1.4991464387869906, 1.4991464387869906, 3.085905331788806, 1.508881155921971, 4.682398941925603, 1.528350590191932, 1.5964936101367955, 2.7743943834694313, 1.4991464387869906, 4.906297436030154, 1.4991464387869906, 1.4991464387869906, 1.4991464387869906, 4.701868376195564, 1.4991464387869906, 1.4991464387869906, 3.202721937408572, 1.6062283272717757, 2.8717415548192364, 1.4991464387869906, 5.626666504018708, 5.285951404294392, 1.8788004070512287, 2.404475132340174, 2.482352869420018, 1.4991464387869906, 4.546112902035876, 1.4991464387869906, 1.4991464387869906, 2.1611072039656625, 1.5575547415968733, 5.46117631272404, 1.4991464387869906, 1.4991464387869906, 1.4991464387869906, 3.669988359887634, 1.4991464387869906, 1.878800407051229, 2.667312494984646, 2.141637769695701, 1.4991464387869906, 6.580668783246792, 1.752249084296483, 1.4991464387869906, 1.4991464387869906, 1.713310215756561, 2.7938638177393926, 1.4991464387869906, 3.7186619455625367, 1.528350590191932, 4.3903574278761885, 3.0080275947089623, 2.2195155067755454, 1.7327796500265218, 4.993909890244978, 1.4991464387869906, 1.4991464387869906, 1.6159630444067563, 4.1859283680415995, 1.9956170126709945, 2.0345558812109164, 1.9274739927261313, 3.231926088813514, 1.4991464387869906, 3.6310494913477127, 2.1221683354257403, 2.1221683354257403, 1.567289458731854, 6.30809670346734, 1.7035754986215805, 1.4991464387869906, 1.4991464387869906, 3.835478551182302, 2.1221683354257403, 2.2876585267204086, 1.4991464387869906, 5.7824219781783945, 1.4991464387869906, 1.4991464387869906, 1.4991464387869906, 4.4779698820910125, 2.6673124949846465, 2.063760032615858, 2.073494749750838, 2.5602306064998617, 1.4991464387869906, 6.921383882971109, 2.8035985348743733, 1.4991464387869906, 1.4991464387869906, 1.6938407814866001, 5.597462352613766, 1.4991464387869906, 1.4991464387869906, 1.4991464387869906, 2.2292502239105256, 1.4991464387869906, 7.008996337185934, 2.258454375315467, 1.4991464387869906, 1.4991464387869906, 1.4991464387869906, 5.5779929183438055, 1.4991464387869906, 1.4991464387869906, 1.4991464387869906, 2.803598534874373, 2.3558015466652713, 1.4991464387869906, 4.487704599225993, 1.4991464387869906, 1.4991464387869906, 4.156724216636658, 2.365536263800252, 2.219515506775545, 1.5770241758668342, 5.412502727049136, 1.4991464387869906, 1.4991464387869906, 2.1221683354257403, 1.4991464387869906, 5.733748392503493, 3.3974162801081818, 1.5770241758668346, 1.6646366300816589, 4.701868376195564, 1.4991464387869906, 1.4991464387869906, 1.4991464387869906, 5.714278958233532, 1.4991464387869906, 1.4991464387869906, 1.4991464387869906, 1.5575547415968733, 6.901914448701149, 2.852272120549275, 1.4991464387869906, 1.4991464387869906, 2.1221683354257403, 1.6256977615417367, 5.889503866663179, 1.4991464387869906, 1.4991464387869906, 1.4991464387869906, 1.9274739927261308, 2.7646596663344507, 2.939884574764099, 1.5380853073269125, 2.7257207977945295, 1.4991464387869906, 6.074463492227809, 3.923091005397127, 1.5478200244618927, 1.7814532357014243, 4.1275200652317166, 1.4991464387869906, 1.4991464387869906, 2.969088726169041, 1.4991464387869906, 2.94961929189908, 1.5186158730569514, 4.692133659060583, 1.528350590191932, 1.567289458731854, 2.706251363524568, 1.4991464387869906, 5.052318193054861, 1.4991464387869906, 1.4991464387869906, 1.4991464387869906, 4.039907611016892, 1.4991464387869906, 1.508881155921971, 4.40982686214615, 3.553171754267869, 2.073494749750838, 2.433679283745115, 2.297393243855389, 1.6256977615417367, 4.954971021705055, 1.4991464387869906, 1.4991464387869906, 2.657577777849666, 1.4991464387869906, 3.0664358975188457, 1.7230449328915416, 3.0080275947089623, 1.7327796500265218, 3.202721937408572, 1.4991464387869906, 4.808950264680349, 5.052318193054861, 2.492087586554998, 1.6743713472166388, 5.100991778729762, 1.4991464387869906, 1.4991464387869906, 1.4991464387869906, 4.575317053440817, 1.4991464387869906, 1.4991464387869906, 1.4991464387869906, 5.616931786883727, 1.4991464387869906, 1.4991464387869906, 1.4991464387869906, 3.0080275947089623, 1.5186158730569514, 3.280599674488416, 1.4991464387869906, 3.9912340253419902, 1.6841060643516195, 2.414209849475154, 1.4991464387869906, 4.575317053440817, 1.4991464387869906, 3.4266204315131223, 1.5186158730569514, 1.5964936101367955, 3.7283966626975173, 1.5186158730569514, 4.370887993606227, 2.511557020824959, 2.11243361829076, 1.9177392755911506, 3.6115800570777514, 1.4991464387869906, 1.5186158730569514, 5.714278958233532, 3.280599674488416, 1.508881155921971, 2.5797000407698216, 1.528350590191932, 6.132871795037691, 1.4991464387869906, 1.4991464387869906, 1.4991464387869906, 1.567289458731854, 5.65587065542365, 1.4991464387869906, 1.4991464387869906, 1.4991464387869906, 2.8035985348743733, 1.528350590191932, 3.8841521368572045, 1.508881155921971, 4.078846479556813, 1.7425143671615024, 2.151372486830682, 1.625697761541737, 4.877093284625212, 1.4991464387869906, 1.567289458731854, 4.146989499501677, 2.2292502239105256, 2.131903052560721, 1.713310215756561, 4.993909890244978, 1.4991464387869906, 1.4991464387869906, 2.3168626781253496, 1.4991464387869906, 4.799215547545368, 1.4991464387869906, 1.4991464387869906, 3.1151094831937476, 2.346066829530291, 3.0859053317888065, 1.5186158730569514, 5.149665364404664, 4.293010256526384, 1.985882295536014, 2.74519023206449, 1.9274739927261308, 1.8106573871063658, 5.110726495864743, 1.4991464387869906, 1.4991464387869906, 1.4991464387869906, 4.156724216636658, 1.4991464387869906, 1.4991464387869906, 1.8495962556462873, 3.9522951568020677, 1.4991464387869906, 1.635432478676717, 4.312479690796344, 2.628373626444725, 2.054025315480877, 2.1221683354257403, 2.433679283745115, 1.4991464387869906, 7.310772568370328, 3.1053747660587674, 1.4991464387869906, 1.508881155921971, 1.839861538511307, 4.137254782366696, 1.4991464387869906, 1.4991464387869906, 2.054025315480877, 3.660253642752654, 1.4991464387869906, 1.4991464387869906, 4.00096874247697, 1.4991464387869906, 1.4991464387869906, 3.874417419722224, 2.4142098494751543, 2.151372486830682, 1.7814532357014243, 5.178869515809607, 1.4991464387869906, 1.4991464387869906, 1.4991464387869906, 4.81868498181533, 3.309803825893357, 1.9469434269960921, 2.5212917379599395, 1.7522490842964826, 4.721337810465524, 1.4991464387869906, 1.4991464387869906, 1.4991464387869906, 5.996585755147966, 2.346066829530291, 1.4991464387869906, 1.4991464387869906, 2.832802686279314, 2.4726181522850377, 1.4991464387869906, 3.3584774115682596, 1.878800407051229, 1.800922669971385, 2.258454375315467, 1.8106573871063654, 5.665605372558629, 3.9912340253419893, 1.6062283272717757, 1.985882295536014, 3.903621571127166, 1.4991464387869906, 1.4991464387869906, 3.1053747660587674, 1.4991464387869906, 1.4991464387869906, 6.51252576330193, 1.508881155921971, 1.4991464387869906, 1.4991464387869906, 1.4991464387869906, 5.597462352613766, 1.713310215756561, 1.4991464387869906, 1.4991464387869906, 2.8814762719542166, 2.8814762719542166, 1.5380853073269125, 2.6478430607146852, 1.4991464387869906, 7.13554765994068, 4.964705738840036, 1.5867588930018146, 1.7230449328915416, 3.280599674488416, 1.4991464387869906, 1.7911879528364045, 4.224867236581521, 1.4991464387869906, 1.4991464387869906, 2.2876585267204086, 1.567289458731854, 4.857623850355251, 1.4991464387869906, 1.4991464387869906, 2.0832294668858187, 1.4991464387869906, 5.68507480682859, 1.4991464387869906, 1.4991464387869906, 1.4991464387869906, 2.5699653236348423, 1.6256977615417367, 4.039907611016892, 1.528350590191932, 4.195663085176579, 1.859330972781268, 1.9274739927261313, 2.3558015466652713, 1.528350590191932, 7.56387521387982, 4.137254782366696, 1.5186158730569514, 1.567289458731854, 2.2292502239105256, 1.4991464387869906, 5.383298575644196, 1.4991464387869906, 1.4991464387869906, 1.4991464387869906, 3.9912340253419902, 1.4991464387869906, 1.4991464387869906, 2.803598534874373, 2.4239445666101345, 1.4991464387869906, 3.6310494913477127, 1.4991464387869906, 2.9788234433040213, 1.508881155921971, 2.6381083435797055, 1.4991464387869906, 6.30809670346734, 3.134578917463709, 1.4991464387869906, 1.508881155921971, 3.3487426944332794, 1.4991464387869906, 2.0248211640759357, 2.2487196581804865, 3.202721937408572, 1.5186158730569514, 2.803598534874373, 1.4991464387869906, 5.295686121429372, 1.9372087098611115, 1.4991464387869906, 1.4991464387869906, 4.078846479556814, 1.4991464387869906, 3.8841521368572045, 1.5478200244618932, 1.8885351241862094, 2.277923809585428, 1.5186158730569514, 7.914325030739116, 4.468235164956033, 1.528350590191932, 1.5770241758668342, 2.238984941045506, 1.528350590191932, 5.198338950079567, 1.4991464387869906, 1.4991464387869906, 1.4991464387869906, 4.565582336305837, 1.4991464387869906, 1.4991464387869906, 1.5380853073269127, 5.4903804641289815, 1.4991464387869906, 1.4991464387869906, 1.4991464387869906, 3.5921106228077906, 1.4991464387869906, 2.1026989011557795, 1.6646366300816589, 5.840830280988278, 1.4991464387869906, 1.4991464387869906, 1.4991464387869906, 2.170841921100643, 1.6841060643516195, 5.870034432393219, 2.2876585267204086, 1.4991464387869906, 1.5186158730569514, 4.059377045286853, 1.6841060643516195, 2.4239445666101345, 1.4991464387869906, 4.487704599225994, 1.4991464387869906, 3.7770702483724192, 1.6938407814866001, 1.567289458731854, 3.4558245829180643, 1.4991464387869906, 4.20539780231156, 2.3850056980702132, 2.170841921100643, 1.7522490842964826, 4.701868376195565, 1.4991464387869906, 1.4991464387869906, 3.7673355312374386, 1.820392104241346, 2.5018223036899783, 1.4991464387869906, 4.906297436030154, 1.4991464387869906, 1.4991464387869906, 3.7186619455625367, 2.3558015466652713, 2.2292502239105256, 1.5186158730569514, 6.639077086056676, 1.9469434269960921, 1.4991464387869906, 1.4991464387869906, 2.8230679691443337, 1.4991464387869906, 2.832802686279314, 1.5186158730569514, 5.831095563853298, 3.6991925112925754, 1.5186158730569514, 2.482352869420017, 1.7425143671615022, 4.555847619170857, 1.4991464387869906, 1.4991464387869906, 1.5575547415968733, 5.957646886608043, 1.4991464387869906, 1.4991464387869906, 1.4991464387869906, 1.6743713472166388, 5.480645746994001, 1.4991464387869906, 1.4991464387869906, 1.4991464387869906, 2.686781929254608, 1.5575547415968733, 4.098315913826775, 1.5186158730569514, 4.263806105121442, 2.277923809585428, 1.8885351241862094, 2.599169475039783, 1.5770241758668342, 6.463852177627028, 3.1443136345986895, 1.4991464387869906, 1.508881155921971, 3.095640048923787, 1.4991464387869906, 3.3000691087583767, 1.4991464387869906, 1.4991464387869906, 5.431972161319098, 1.4991464387869906, 1.4991464387869906, 1.4991464387869906, 4.078846479556814, 1.6646366300816584, 2.2292502239105256, 1.5186158730569514, 4.935501587435095, 1.4991464387869906, 3.5434370371328883, 1.5186158730569514, 1.5380853073269127, 3.3292732601633177, 1.508881155921971, 4.516908750630934, 2.7646596663344516, 2.1026989011557795, 2.005351729805975, 3.17351778600363, 1.4991464387869906, 2.5797000407698225, 1.6159630444067563, 3.8646827025872437, 1.5380853073269125, 4.185928368041599, 2.0832294668858187, 2.063760032615858, 1.7814532357014243, 4.341683842201287, 1.4991464387869906, 1.4991464387869906, 4.117785348096736, 2.6089041921747635, 2.044290598345897, 2.141637769695701, 2.5894347579048027, 1.4991464387869906, 5.1691347986746266, 1.4991464387869906, 1.4991464387869906, 1.508881155921971, 4.867358567490231, 4.195663085176579, 2.209780789640565, 2.0832294668858187, 3.7381313798324975, 1.4991464387869906, 1.4991464387869906, 4.010703459611951, 1.4991464387869906, 1.4991464387869906, 2.365536263800252, 1.615963044406756, 4.964705738840036, 1.4991464387869906, 1.4991464387869906, 2.94961929189908, 1.5380853073269125, 2.550495889364881, 1.4991464387869906, 7.447058608260054, 5.441706878454079, 1.6159630444067563, 1.7425143671615024, 2.9204151404941383, 1.4991464387869906, 3.2124566545435527, 1.4991464387869906, 2.2487196581804865, 1.528350590191932, 4.692133659060584, 1.4991464387869906, 1.4991464387869906, 2.32659739526033, 1.4991464387869906, 4.3027449736613645, 1.4991464387869906, 1.5186158730569514, 4.010703459611951, 1.567289458731854, 2.11243361829076, 1.7814532357014243, 3.59211062280779, 1.4991464387869906, 2.988558160439002, 1.5186158730569514, 2.832802686279314, 1.4991464387869906, 5.441706878454078, 2.891210989089197, 1.4991464387869906, 2.005351729805975, 3.1248442003287282, 1.4991464387869906, 3.1053747660587674, 1.5478200244618927, 2.998292877573982, 1.4991464387869906, 4.458500447821052, 1.9372087098611117, 1.5575547415968733, 3.3487426944332785, 1.4991464387869906, 3.913356288262146, 1.7230449328915411, 2.2876585267204086, 1.4991464387869906, 5.227543101484509, 1.4991464387869906, 1.4991464387869906, 4.263806105121443, 2.054025315480877, 1.839861538511307, 2.784129100604412, 1.528350590191932, 5.918708018068121, 3.046966463248885, 1.4991464387869906, 1.528350590191932, 4.526643467765916, 1.4991464387869906, 1.4991464387869906, 3.835478551182302, 1.567289458731854, 2.219515506775545, 1.586758893001815, 4.721337810465524, 1.4991464387869906, 1.4991464387869906, 3.7965396826423805, 1.5964936101367952, 2.346066829530291, 1.4991464387869906, 5.062052910189841, 1.4991464387869906, 1.4991464387869906, 3.9522951568020677, 1.985882295536014, 1.985882295536014, 2.131903052560721, 2.1221683354257403, 2.238984941045506, 3.981499308207009, 3.0567011803838655, 1.8301268213763267, 3.0664358975188457, 1.6646366300816589, 3.2708649573534356, 1.567289458731854, 2.94961929189908, 1.4991464387869906, 4.662929507655642, 2.492087586554998, 1.4991464387869906, 3.202721937408572, 1.5186158730569514, 4.5071740334959545, 1.6159630444067563, 2.005351729805975, 1.9177392755911509, 2.75492494919947, 2.715986080659549, 1.528350590191932, 3.58237590567281, 1.508881155921971, 4.4195615792811305, 2.715986080659549, 2.1805766382356233, 1.8106573871063654, 4.477969882091013, 1.4991464387869906, 1.4991464387869906, 3.3292732601633186, 1.6062283272717757, 2.813333252009354, 1.4991464387869906, 4.818684981815329, 1.859330972781268, 1.4991464387869906, 1.4991464387869906, 6.609872934651734, 4.721337810465524, 1.5964936101367952, 1.7522490842964826, 3.426620431513123, 1.4991464387869906, 1.4991464387869908, 5.003644607379958, 1.4991464387869906, 1.4991464387869906, 1.6256977615417365, 4.20539780231156, 1.4991464387869906, 1.4991464387869906, 2.453148718015076, 2.346066829530291, 1.5380853073269125, 4.458500447821052, 1.4991464387869906, 1.5867588930018148, 3.7576008141024584, 1.6256977615417367, 2.5018223036899783, 1.4991464387869906, 4.682398941925603, 1.4991464387869906, 1.4991464387869906, 4.049642328151872, 2.2487196581804865, 2.2681890924504473, 1.5088811559219713, 5.587727635478785, 1.4991464387869906, 1.4991464387869906, 1.6549019129466782, 3.5629064714028496, 1.9372087098611115, 2.4920875865549976, 1.4991464387869906, 5.6071970697487465, 1.9469434269960921, 1.4991464387869906, 1.4991464387869906, 4.312479690796345, 2.6575777778496663, 2.0832294668858187, 2.054025315480877, 3.0080275947089627, 1.4991464387869906, 2.813333252009354, 1.4991464387869906, 3.806274399777361, 1.508881155921971, 4.263806105121442, 2.5310264550949197, 2.1416377696957016, 1.878800407051229, 4.2151325194465405, 1.4991464387869906, 1.4991464387869906, 3.7478660969674773, 2.151372486830682, 2.11243361829076, 1.5867588930018148, 5.870034432393219, 1.4991464387869906, 1.4991464387869906, 1.4991464387869906, 4.312479690796345, 2.969088726169041, 2.11243361829076, 2.0150864469409555, 3.708927228427556, 1.4991464387869906, 1.4991464387869906, 4.5071740334959545, 1.8398615385113073, 1.4991464387869906, 2.7257207977945295, 1.528350590191932, 6.259423117792438, 3.7868049655074, 1.5186158730569514, 1.6646366300816589, 4.108050630961755, 1.4991464387869906, 1.4991464387869906, 3.58237590567281, 1.5186158730569514, 2.1903113553706035, 1.5964936101367952, 5.422237444184117, 1.4991464387869906, 1.4991464387869906, 1.4991464387869906, 4.20539780231156, 1.567289458731854, 1.966412861266053, 2.005351729805975, 2.3947404152051934, 3.504498168592966, 1.713310215756561, 2.5212917379599395, 1.4991464387869906, 5.451441595589059, 1.5575547415968733, 1.4991464387869906, 1.4991464387869906, 4.137254782366696, 4.176193650906619, 1.9761475784010334, 3.0664358975188453, 1.8301268213763264, 1.8398615385113066, 3.6115800570777514, 1.4991464387869906, 1.635432478676717, 4.643460073385681, 1.9566781441310728, 1.5186158730569514, 3.231926088813514, 1.4991464387869906, 3.816009116912341, 1.6159630444067563, 2.462883435150057, 1.4991464387869906, 4.789480830410388, 1.4991464387869906, 1.4991464387869906, 4.263806105121442, 2.3071279609903694, 2.151372486830682, 1.7522490842964826, 4.770011396140427, 1.4991464387869906, 1.4991464387869906, 3.475294017188025, 1.6646366300816584, 2.433679283745115, 1.4991464387869906, 5.918708018068121, 2.2000460725055846, 1.4991464387869906, 1.528350590191932, 4.234601953716502, 1.8495962556462873, 2.3558015466652713, 1.4991464387869906, 4.682398941925603, 1.4991464387869906, 3.5823759056728095, 1.528350590191932, 1.5770241758668346, 3.4655593000530445, 1.4991464387869906, 4.341683842201286, 2.628373626444725, 2.1026989011557795, 1.9566781441310728, 3.4655593000530445, 1.4991464387869906, 1.5770241758668346, 5.957646886608043, 3.416885714378142, 1.4991464387869906, 1.7425143671615024, 4.293010256526384, 1.4991464387869906, 1.4991464387869906, 3.669988359887634, 1.5770241758668342, 2.3168626781253496, 1.5088811559219713, 5.178869515809605, 1.4991464387869906, 1.4991464387869906, 2.2292502239105256, 1.4991464387869906, 4.935501587435095, 1.4991464387869906, 1.4991464387869906, 1.4991464387869906, 5.539054049803883, 4.526643467765916, 1.6646366300816589, 2.988558160439001, 1.6841060643516195, 3.2124566545435527, 1.4991464387869906, 1.7230449328915411, 4.293010256526384, 1.4991464387869906, 1.4991464387869906, 2.5018223036899783, 1.5575547415968733, 4.166458933771638, 1.4991464387869906, 3.854947985452263, 1.528350590191932, 1.7814532357014243, 2.6673124949846465, 1.4991464387869906, 6.385974440547184, 2.862006837684256, 1.4991464387869906, 1.4991464387869906, 2.862006837684256, 1.6549019129466782, 3.3584774115682596, 1.4991464387869906, 1.6256977615417367, 4.5947864877107785, 1.4991464387869906, 1.4991464387869906, 3.8841521368572045, 1.6451671958116976, 2.365536263800252, 1.4991464387869906, 4.925766870300115, 1.4991464387869906, 1.508881155921971, 4.312479690796345, 2.1221683354257403, 2.005351729805975, 2.0345558812109164, 2.7646596663344507, 1.4991464387869906, 6.29836198633236, 3.562906471402849, 1.5186158730569514, 1.5770241758668342, 4.088581196691795, 1.4991464387869906, 1.4991464387869906, 3.7478660969674773, 1.508881155921971, 2.180576638235623, 1.635432478676717, 5.091257061594781, 1.4991464387869906, 1.4991464387869906, 1.6451671958116976, 3.816009116912342, 1.6062283272717757, 2.433679283745115, 1.4991464387869906, 4.896562718895173, 1.4991464387869906, 1.4991464387869906, 3.9522951568020677, 2.297393243855389, 2.1416377696957016, 1.7619838014314633, 4.954971021705055, 1.4991464387869906, 1.4991464387869906, 1.5186158730569514, 5.217808384349528, 3.650518925617673, 1.7522490842964826, 3.1735177860036305, 1.528350590191932, 4.40982686214615, 1.5186158730569514, 1.6256977615417365, 2.8425374034142945, 1.4991464387869906, 4.935501587435095, 1.4991464387869906, 1.4991464387869906, 1.5478200244618927, 4.322214407931326, 1.4991464387869906, 2.5894347579048027, 1.4991464387869906, 1.9664128612660527, 4.5071740334959545, 2.6089041921747635, 1.6646366300816584, 3.426620431513123, 1.508881155921971, 4.098315913826775, 1.6062283272717757, 2.277923809585428, 1.5088811559219713, 4.721337810465523, 1.4991464387869906, 3.0859053317888065, 1.4991464387869906, 1.5964936101367952, 4.6337253562507, 1.4991464387869906, 1.6062283272717757, 4.078846479556813, 2.618638909309744, 2.2681890924504473, 1.5380853073269125, 5.90897330093314, 1.4991464387869906, 1.4991464387869906, 1.4991464387869906, 3.523967602862927, 1.7035754986215805, 2.550495889364881, 1.4991464387869906, 5.315155555699333, 1.567289458731854, 1.4991464387869906, 1.4991464387869906, 4.487704599225993, 4.692133659060584, 2.1221683354257403, 2.550495889364881, 2.394740415205194, 1.5575547415968736, 4.487704599225994, 1.4991464387869906, 1.508881155921971, 3.9230910053971266, 1.5770241758668342, 2.219515506775545, 1.5964936101367952, 4.60452120484576, 1.4991464387869906, 1.508881155921971, 4.1275200652317166, 1.5964936101367952, 2.3168626781253496, 1.4991464387869906, 4.653194790520661, 1.4991464387869906, 3.4460898657830836, 1.5186158730569514, 1.5867588930018148, 3.6310494913477127, 1.508881155921971, 4.341683842201286, 2.4142098494751543, 2.190311355370604, 1.6743713472166388, 4.886828001760192, 1.4991464387869906, 1.4991464387869906, 3.5726411885378297, 1.5867588930018146, 2.3265973952603303, 1.4991464387869906, 5.831095563853297, 1.4991464387869906, 1.4991464387869906, 1.4894117216520104, 4.516908750630935, 3.261130240218455, 2.2292502239105256, 1.7327796500265218, 4.974440455975016, 1.4991464387869906, 1.4991464387869906, 1.4991464387869906, 5.1983389500795685, 2.054025315480877, 1.4991464387869906, 2.618638909309744, 1.4991464387869906, 5.694809523963571, 1.567289458731854, 1.4991464387869906, 1.4991464387869906, 1.6062283272717757, 7.612548799554722, 3.582375905672811, 1.4991464387869906, 1.5186158730569514, 1.9761475784010334, 3.202721937408572, 1.4991464387869906, 1.5380853073269125, 6.045259340822868, 1.4991464387869906, 1.4991464387869906, 1.4991464387869906, 1.567289458731854, 5.996585755147966, 1.4991464387869906, 1.4991464387869906, 1.4991464387869906, 1.635432478676717, 5.276216687159412, 1.4991464387869906, 1.4991464387869906, 1.4991464387869906, 3.1929872202735914, 1.508881155921971, 2.706251363524568, 1.4991464387869906, 6.658546520326637, 5.714278958233531, 1.6646366300816584, 2.005351729805975, 3.0567011803838646, 1.4991464387869906, 2.015086446940955, 3.231926088813513, 1.4991464387869906, 1.5478200244618927, 5.402768009914157, 1.4991464387869906, 1.4991464387869906, 1.4991464387869906, 3.4558245829180643, 1.4991464387869906, 1.4991464387869906, 5.169134798674626, 1.4991464387869906, 1.4991464387869906, 1.4991464387869906, 3.806274399777361, 1.4991464387869906, 2.930149857629119, 1.4991464387869906, 2.4726181522850377, 1.4991464387869906, 7.223160114155504, 3.426620431513123, 1.4991464387869906, 1.5186158730569514, 2.151372486830682, 3.2124566545435527, 1.4991464387869906, 1.5575547415968733, 6.074463492227809, 1.4991464387869906, 1.4991464387869906, 1.4991464387869906, 1.5964936101367952, 5.772687261043414, 1.4991464387869906, 1.4991464387869906, 1.4991464387869906, 2.336332112395311, 1.7522490842964826, 4.293010256526384, 1.4991464387869906, 1.6841060643516195, 3.290334391623396, 1.7911879528364045, 2.7938638177393926, 1.4991464387869906, 5.568258201208825, 4.701868376195564, 1.7035754986215805, 2.2973932438553883, 2.725720797794529, 1.4991464387869906, 3.738131379832498, 1.4991464387869906, 1.4991464387869906, 4.030172893881911, 1.4991464387869906, 1.4991464387869906, 3.231926088813513, 1.5186158730569514, 4.185928368041599, 1.5964936101367952, 2.1805766382356238, 1.6938407814866001, 3.8452132683172824, 1.508881155921971, 4.069111762421834, 1.5575547415968733, 1.9761475784010336, 2.0540253154808776, 1.9956170126709945, 5.7824219781783945, 3.1151094831937476, 1.4991464387869906, 1.5770241758668346, 4.6239906391157195, 1.4991464387869906, 1.4991464387869906, 2.5797000407698216, 1.4991464387869906, 3.601845339942771, 1.528350590191932, 4.117785348096736, 1.5964936101367952, 2.2292502239105256, 1.5478200244618932, 4.789480830410388, 1.4991464387869906, 3.0859053317888065, 1.4991464387869906, 1.5867588930018148, 4.672664224790623, 1.4991464387869906, 1.6062283272717757, 4.108050630961755, 2.8814762719542166, 2.258454375315467, 1.6451671958116976, 5.597462352613766, 1.4991464387869906, 1.4991464387869906, 1.4991464387869906, 3.514232885727947, 1.7425143671615024, 2.492087586554998, 1.4991464387869906, 5.509849898398943, 1.5478200244618927, 1.4991464387869906, 1.4991464387869906, 4.322214407931326, 4.312479690796345, 2.073494749750838, 2.686781929254608, 2.3460668295302916, 1.4991464387869906, 4.701868376195564, 1.4991464387869906, 1.4991464387869906, 3.553171754267869, 1.567289458731854, 2.3850056980702132, 1.4991464387869906, 5.208073667214547, 1.4991464387869906, 1.4991464387869906, 1.5380853073269125, 4.526643467765915, 2.6867819292546073, 1.966412861266053, 2.3071279609903694, 1.7522490842964826, 5.6948095239635705, 1.4991464387869906, 1.4991464387869906, 1.4991464387869906, 1.6062283272717757, 6.473586894762008, 3.2221913716785333, 1.5186158730569514, 1.5770241758668346, 3.280599674488416, 1.528350590191932, 2.6673124949846465, 1.4991464387869906, 5.412502727049136, 1.4991464387869906, 1.4991464387869906, 1.4991464387869906, 2.6770472121196267, 1.9566781441310728, 1.5575547415968733, 7.690426536634566, 4.117785348096736, 1.5186158730569514, 1.5770241758668342, 2.190311355370604, 1.7425143671615024, 5.0328487587849, 1.4991464387869906, 1.4991464387869906, 1.4991464387869906, 4.594786487710778, 1.4991464387869906, 1.4991464387869906, 1.4991464387869906, 5.67534008969361, 1.4991464387869906, 1.4991464387869906, 1.4991464387869906, 2.277923809585428, 1.5770241758668346, 6.473586894762008, 1.6549019129466782, 1.4991464387869906, 1.4991464387869906, 1.5478200244618927, 5.977116320878005, 2.8230679691443346, 1.4991464387869906, 1.508881155921971, 4.224867236581521, 1.4991464387869906, 1.8690656899162486, 1.7327796500265218, 3.2611302402184545, 1.4991464387869906, 1.4991464387869906, 6.74615897454146, 3.621314774212732, 1.5088811559219713, 1.567289458731854, 2.706251363524568, 1.4991464387869906, 4.049642328151872, 1.4991464387869906, 1.4991464387869906, 3.319538543028338, 1.528350590191932, 2.657577777849666, 1.4991464387869906, 5.305420838564352, 1.4991464387869906, 1.4991464387869906, 1.4991464387869906, 2.969088726169041, 1.4991464387869906, 2.336332112395311, 1.9080045584561702, 3.728396662697517, 1.4991464387869906, 1.5964936101367952, 5.334624989969293, 6.8240367116213045, 2.8328026862793143, 1.6062283272717757, 4.585051770575798, 1.4991464387869906, 1.4991464387869906, 1.7522490842964826, 3.553171754267869, 1.4991464387869906, 1.5770241758668346, 4.322214407931325, 1.4991464387869906, 1.4991464387869906, 2.2681890924504473, 2.667312494984646, 1.5088811559219713, 3.6991925112925754, 1.508881155921971, 3.874417419722224, 1.5380853073269125, 2.054025315480877, 1.878800407051229, 3.4558245829180643, 1.4991464387869906, 1.7717185185664437, 2.6770472121196267, 1.4991464387869906, 3.4071509972431615, 1.7230449328915411, 2.9593540090340604, 1.5380853073269127, 3.387681562973201, 1.4991464387869906, 4.341683842201286, 4.487704599225993, 2.073494749750838, 2.7354555149295097, 2.131903052560721, 1.4991464387869906, 5.792156695313375, 1.4991464387869906, 1.4991464387869906, 1.4991464387869906, 2.628373626444725, 1.5770241758668346, 3.9814993082070096, 1.508881155921971, 4.069111762421834, 1.5478200244618932, 1.966412861266053, 2.044290598345897, 2.2681890924504473, 4.146989499501677, 2.209780789640565, 1.9080045584561702, 2.4434140008800957, 1.6646366300816584, 5.850564998123258, 2.4531487180150764, 1.4991464387869906, 1.4991464387869906, 3.270864957353435, 1.4991464387869906, 2.1708419211006427, 2.5018223036899787, 1.7035754986215803, 4.078846479556813, 1.528350590191932, 4.263806105121443, 2.258454375315467, 1.7619838014314633, 3.1151094831937476, 1.5186158730569514, 4.750541961870465, 2.161107203965662, 1.7035754986215803, 2.939884574764099, 1.4991464387869906, 4.672664224790622, 1.7814532357014243, 1.528350590191932, 2.803598534874373, 1.4991464387869906, 5.383298575644196, 2.2195155067755454, 1.4991464387869906, 1.4991464387869906, 4.614255921980739, 1.4991464387869906, 1.9177392755911509, 1.4796770045170298, 5.539054049803883, 2.5602306064998617, 1.4991464387869906, 2.151372486830682, 1.7522490842964826, 5.8116261295833365, 1.4991464387869906, 1.4991464387869906, 1.4991464387869906, 1.4991464387869906, 7.505466911069938, 2.7451902320644903, 1.4991464387869906, 1.4991464387869906, 1.5380853073269125, 5.2567472528894506, 1.4991464387869906, 1.4991464387869906, 1.4991464387869906, 3.5921106228077906, 1.4991464387869906, 2.6575777778496663, 1.4991464387869906, 3.2513955230834743, 1.5380853073269125, 4.283275539391403, 2.0248211640759357, 2.2195155067755454, 1.528350590191932, 4.847889133220271, 1.4991464387869906, 2.6478430607146852, 1.4991464387869906, 1.5380853073269125, 7.096608791400758, 3.290334391623396, 1.5186158730569514, 1.5770241758668342, 2.11243361829076, 1.7425143671615024, 5.558523484073843, 1.4991464387869906, 1.4991464387869906, 1.4991464387869906, 2.433679283745115, 1.4991464387869906, 5.3443597071042745, 1.4991464387869906, 1.4991464387869906, 1.4991464387869906, 4.400092145011169, 2.4239445666101345, 2.0150864469409555, 2.1026989011557795, 2.219515506775545, 3.57264118853783, 1.4991464387869906, 1.4991464387869906, 4.721337810465524, 1.4991464387869906, 1.4991464387869906, 4.20539780231156, 2.988558160439002, 2.2292502239105256, 1.6646366300816589, 5.500115181263962, 1.4991464387869906, 1.4991464387869906, 1.4991464387869906, 3.7576008141024584, 1.7230449328915411, 2.404475132340174, 1.4991464387869906, 5.139930647269685, 1.4991464387869906, 1.4991464387869906, 3.825743834047322, 2.404475132340174, 1.9469434269960921, 2.433679283745115, 2.3071279609903694, 1.6938407814866001, 4.701868376195565, 1.4991464387869906, 1.4991464387869906, 4.098315913826775, 2.9009457062241775, 2.238984941045506, 1.6646366300816589, 5.529319332668903, 1.4991464387869906, 1.4991464387869906, 1.4991464387869906, 3.6115800570777514, 1.713310215756561, 2.5797000407698225, 1.4991464387869906, 5.032848758784899, 1.4991464387869906, 1.4991464387869906, 2.015086446940955, 1.4991464387869906, 8.478938624567984, 6.551464631841852, 1.6549019129466782, 1.771718518566444, 2.238984941045506, 1.567289458731854, 4.653194790520661, 1.4991464387869906, 1.4991464387869906, 1.800922669971385, 3.3000691087583767, 1.4991464387869906, 1.985882295536014, 1.9566781441310728, 4.108050630961755, 1.4991464387869906, 1.4991464387869906, 2.394740415205194, 1.4991464387869906, 5.46117631272404, 1.4991464387869906, 1.4991464387869906, 1.4991464387869906, 3.076170614653826, 1.4991464387869906, 1.8690656899162486, 3.8646827025872437, 1.4991464387869906, 1.4991464387869906, 3.1443136345986895, 1.4991464387869906, 1.9469434269960921, 4.3903574278761885, 1.6841060643516195, 1.4991464387869906, 1.4991464387869906, 8.634694098727671, 6.405443874817144, 1.6062283272717757, 1.7327796500265218, 2.258454375315467, 1.508881155921971, 4.4779698820910125, 1.4991464387869906, 1.4991464387869906, 2.2292502239105256, 1.6159630444067563, 4.750541961870466, 1.4991464387869906, 1.4991464387869906, 1.7522490842964826, 3.319538543028338, 1.4991464387869906, 1.5478200244618927, 5.334624989969294, 1.4991464387869906, 1.4991464387869906, 1.4991464387869906, 3.4071509972431615, 1.4991464387869906, 1.761983801431463, 2.930149857629119, 1.4991464387869906, 2.1708419211006427, 3.7770702483724192, 1.5964936101367952, 2.297393243855389, 1.4991464387869906, 5.500115181263962, 1.4991464387869906, 1.4991464387869906, 3.1735177860036305, 1.5380853073269125, 1.839861538511307, 2.8425374034142945, 3.1832525031386107, 1.9372087098611117, 2.7938638177393926, 1.4991464387869906, 6.054994057957847, 5.324890272834313, 1.7035754986215805, 2.277923809585428, 2.8814762719542166, 1.4991464387869906, 2.8717415548192364, 1.4991464387869906, 2.5212917379599395, 1.4991464387869906, 4.877093284625213, 1.4991464387869906, 1.4991464387869906, 1.528350590191932, 5.363829141374235, 1.4991464387869906, 1.4991464387869906, 1.5770241758668342, 3.4850287343230053, 1.5186158730569514, 4.108050630961755, 1.5964936101367952, 2.151372486830682, 1.6743713472166388, 4.283275539391403, 1.4991464387869906, 3.4655593000530445, 1.528350590191932, 1.8009226699713854, 2.803598534874373, 1.6549019129466782, 3.971764591072029, 2.073494749750838, 1.8301268213763267, 3.017762311843943, 1.6938407814866001, 3.1832525031386107, 1.7230449328915411, 3.046966463248885, 1.4991464387869906, 4.575317053440818, 5.023114041649919, 2.5310264550949197, 1.713310215756561, 5.003644607379958, 1.4991464387869906, 1.4991464387869906, 1.4991464387869906, 4.779746113275407, 1.4991464387869906, 1.4991464387869906, 1.4991464387869906, 5.081522344459803, 1.4991464387869906, 1.4991464387869906, 1.4991464387869906, 4.84788913322027, 1.508881155921971, 1.4991464387869906, 1.985882295536014, 2.151372486830682, 3.8257438340473215, 1.674371347216639, 2.4239445666101345, 1.4991464387869906, 5.188604232944586, 1.4991464387869906, 1.4991464387869906, 3.738131379832498, 2.3071279609903694, 1.9080045584561702, 2.5894347579048027, 2.2292502239105256, 1.5964936101367952, 6.025789906552906, 1.4991464387869906, 1.4991464387869906, 1.4991464387869906, 4.234601953716501, 3.231926088813513, 2.238984941045506, 1.6938407814866001, 5.4903804641289815, 1.4991464387869906, 1.4991464387869906, 1.4991464387869906, 3.416885714378142, 1.5770241758668342, 2.9593540090340604, 1.4991464387869906, 3.825743834047322, 1.4991464387869906, 1.4991464387869906, 3.7770702483724192, 2.151372486830682, 1.4991464387869906, 5.373563858509216, 5.247012535754469, 2.200046072505584, 2.3752709809352326, 2.6575777778496663, 1.4991464387869906, 3.494763451457986, 1.4991464387869906, 2.5602306064998617, 1.4991464387869906, 3.3974162801081813, 1.5964936101367955, 3.426620431513123, 1.5478200244618927, 2.4920875865549985, 1.4991464387869906, 5.26648197002443, 1.4991464387869906, 1.4991464387869906, 1.4991464387869906, 4.176193650906618, 1.6062283272717757, 1.8106573871063654, 2.706251363524568, 1.4991464387869906, 6.5611993489768325, 4.069111762421834, 1.5380853073269127, 1.6062283272717757, 3.845213268317283, 1.4991464387869906, 1.4991464387869906, 3.913356288262146, 1.4991464387869906, 1.4991464387869906, 3.0372317461139042, 1.7522490842964826, 2.365536263800252, 1.5380853073269125, 4.594786487710779, 1.4991464387869906, 1.5575547415968733, 4.059377045286853, 1.5964936101367952, 2.346066829530291, 1.4991464387869906, 4.682398941925603, 1.4991464387869906, 3.270864957353435, 1.508881155921971, 1.5770241758668342, 4.117785348096736, 1.5478200244618932, 4.2151325194465405, 2.1611072039656625, 1.8106573871063654, 3.017762311843943, 1.5186158730569514, 5.052318193054861, 2.462883435150057, 1.5186158730569514, 3.3292732601633177, 1.4991464387869906, 3.621314774212732, 1.5867588930018148, 2.5797000407698225, 1.4991464387869906, 4.857623850355251, 1.4991464387869906, 1.4991464387869906, 1.8885351241862092, 1.635432478676717, 5.8116261295833365, 3.1443136345986886, 1.528350590191932, 1.8982698413211896, 2.4434140008800957, 1.6062283272717757, 4.477969882091013, 1.4991464387869906, 1.5770241758668342, 4.117785348096736, 1.6743713472166388, 2.4239445666101345, 1.4991464387869906, 4.4487657306860715, 1.4991464387869906, 3.8062743997773607, 1.6549019129466782, 1.5964936101367952, 3.4266204315131223, 1.4991464387869906, 4.166458933771637, 2.4434140008800957, 2.0929641840207993, 1.9372087098611115, 3.5629064714028496, 1.4991464387869906, 1.5186158730569514, 5.947912169473063, 3.621314774212732, 1.528350590191932, 2.238984941045506, 2.423944566610135, 1.4991464387869906, 6.51252576330193, 1.4991464387869906, 1.4991464387869906, 1.4991464387869906, 1.4991464387869906, 5.548788766938864, 1.4991464387869906, 1.4991464387869906, 1.4991464387869906, 2.4726181522850377, 1.4991464387869906, 5.2567472528894506, 1.4991464387869906, 1.4991464387869906, 1.4991464387869906, 4.5655823363058365, 3.1832525031386107, 2.092964184020799, 2.092964184020799, 3.046966463248885, 1.4991464387869906, 1.6062283272717757, 6.415178591952125, 1.839861538511307, 1.4991464387869906, 1.4991464387869906, 1.4991464387869906, 6.609872934651734, 2.5699653236348423, 1.4991464387869906, 1.4991464387869906, 1.8495962556462873, 5.305420838564352, 1.4991464387869906, 1.4991464387869906, 1.4991464387869906, 3.0372317461139042, 1.4991464387869906, 1.567289458731854, 7.096608791400758, 2.852272120549275, 1.4991464387869906, 1.4991464387869906, 2.5991694750397834, 1.4991464387869906, 3.4850287343230058, 1.5186158730569514, 4.137254782366696, 1.5867588930018148, 2.131903052560721, 1.761983801431463, 3.7186619455625363, 1.508881155921971, 3.893886853992185, 1.567289458731854, 2.131903052560721, 1.7425143671615022, 4.254071387986462, 1.4991464387869906, 1.8788004070512287, 1.6646366300816584, 4.497439316360974, 2.7646596663344507, 1.5380853073269127, 2.969088726169041, 2.0248211640759357, 1.4991464387869906, 7.262098982695425, 3.7576008141024584, 1.5186158730569514, 1.5770241758668342, 2.462883435150057, 1.4991464387869906, 4.653194790520661, 1.4991464387869906, 1.4991464387869906, 2.900945706224178, 1.4991464387869906, 3.0080275947089623, 1.4991464387869906, 4.585051770575798, 1.528350590191932, 1.5964936101367955, 2.8230679691443337, 1.4991464387869906, 4.740807244735485, 1.4991464387869906, 1.4991464387869906, 1.4991464387869906, 5.285951404294392, 1.4991464387869906, 1.4991464387869906, 3.3974162801081818, 1.7230449328915411, 1.8982698413211896, 2.569965323634842, 2.5602306064998617, 1.6159630444067563, 4.059377045286853, 1.713310215756561, 3.7673355312374386, 3.3000691087583767, 2.5212917379599395, 1.508881155921971, 6.473586894762008, 1.6841060643516195, 1.4991464387869906, 1.4991464387869906, 1.4991464387869906, 5.772687261043414, 1.4991464387869906, 1.4991464387869906, 1.4991464387869906, 1.4991464387869906, 8.225835979058491, 4.069111762421834, 1.5186158730569514, 1.5478200244618927, 1.8982698413211896, 2.696516646389588, 1.4991464387869906, 3.7868049655074, 1.4991464387869906, 1.528350590191932, 4.341683842201286, 1.4991464387869906, 1.5964936101367955, 2.910680423359158, 1.4991464387869906, 4.750541961870465, 1.4991464387869906, 1.4991464387869906, 1.8982698413211896, 2.9204151404941388, 1.8009226699713852, 2.346066829530291, 1.6256977615417367, 4.789480830410388, 1.4991464387869906, 1.508881155921971, 4.176193650906619, 2.3558015466652713, 2.1611072039656625, 1.7717185185664437, 4.886828001760192, 1.4991464387869906, 1.4991464387869906, 2.1319030525607205, 1.4991464387869906, 6.356770289142242, 3.816009116912341, 1.6159630444067563, 1.8398615385113066, 2.9106804233591586, 1.4991464387869906, 3.290334391623396, 1.508881155921971, 4.098315913826775, 1.5478200244618932, 2.073494749750838, 1.8495962556462873, 3.1248442003287282, 1.5575547415968733, 4.176193650906618, 1.6062283272717757, 2.3071279609903694, 1.5088811559219713, 4.400092145011169, 1.4991464387869906, 3.9328257225321064, 1.528350590191932, 1.6354324786767174, 3.1248442003287282, 1.4991464387869906, 4.42929629641611, 2.550495889364881, 1.9372087098611115, 2.3265973952603303, 1.674371347216639, 6.181545380712594, 1.7230449328915411, 1.4991464387869906, 1.4991464387869906, 1.4991464387869906, 7.077139357130797, 3.095640048923787, 1.4991464387869906, 1.4991464387869906, 1.966412861266053, 4.4195615792811305, 1.4991464387869906, 1.4991464387869906, 1.4991464387869906, 6.629342368921695, 1.528350590191932, 1.4991464387869906, 1.4991464387869906, 1.508881155921971, 4.877093284625212, 1.4991464387869906, 1.4991464387869906, 1.6256977615417367, 5.062052910189841, 2.3558015466652713, 1.4991464387869906, 2.472618152285037, 1.528350590191932, 6.590403500381773, 2.170841921100643, 1.4991464387869906, 1.4991464387869906, 1.4991464387869906, 6.239953683522476, 1.4991464387869906, 1.4991464387869906, 1.4991464387869906, 1.4991464387869906, 6.463852177627028, 2.151372486830682, 1.4991464387869906, 1.4991464387869906, 1.5186158730569514, 6.522260480436911, 1.508881155921971, 1.4991464387869906, 1.4991464387869906, 1.4991464387869906, 5.6948095239635705, 1.8009226699713854, 1.4991464387869906, 1.4991464387869906, 2.8814762719542166, 2.7257207977945295, 1.508881155921971, 2.998292877573982, 1.528350590191932, 5.169134798674626, 3.5044981685929666, 1.7230449328915411, 3.202721937408572, 1.5186158730569514, 4.351418559336267, 1.528350590191932, 1.6841060643516195, 2.7938638177393926, 1.4991464387869906, 5.1691347986746266, 1.4991464387869906, 1.4991464387869906, 1.508881155921971, 3.7186619455625367, 1.508881155921971, 4.137254782366696, 1.5770241758668342, 2.1416377696957016, 1.7035754986215803, 4.322214407931325, 1.4991464387869906, 3.6991925112925754, 1.7327796500265218, 1.7425143671615024, 3.1929872202735914, 1.508881155921971, 4.5363781849008955, 2.8425374034142945, 2.0637600326158574, 2.073494749750838, 2.9885581604390024, 1.4991464387869906, 2.8230679691443337, 1.4991464387869906, 2.803598534874373, 2.492087586554998, 1.5186158730569514, 4.108050630961755, 1.6451671958116976, 3.9620298739370483, 2.8230679691443337, 2.005351729805975, 2.3752709809352326, 2.6381083435797055, 1.6062283272717757, 3.9328257225321064, 1.5380853073269125, 4.1275200652317166, 1.6256977615417367, 1.9956170126709945, 1.9761475784010336, 2.696516646389588, 2.9788234433040217, 1.5575547415968733, 3.134578917463709, 1.4991464387869906, 4.701868376195564, 4.643460073385681, 2.365536263800252, 1.820392104241346, 4.847889133220271, 1.4991464387869906, 1.4991464387869906, 1.4991464387869906, 5.208073667214547, 1.4991464387869906, 1.4991464387869906, 1.4991464387869906, 3.728396662697517, 1.4991464387869906, 1.508881155921971, 4.82841969895031, 1.839861538511307, 1.5575547415968733, 2.881476271954216, 1.4991464387869906, 4.760276679005446, 1.567289458731854, 1.4991464387869906, 1.8106573871063654, 3.4558245829180643, 1.5867588930018146, 4.1275200652317166, 2.394740415205194, 2.200046072505584, 1.5380853073269125, 5.65587065542365, 1.4991464387869906, 1.4991464387869906, 1.48941172165201, 4.40982686214615, 2.3558015466652713, 2.1221683354257403, 1.7814532357014243, 4.283275539391403, 1.4991464387869906, 1.5478200244618932, 4.234601953716501, 2.131903052560721, 2.1805766382356233, 1.567289458731854, 4.877093284625213, 1.4991464387869906, 1.4991464387869906, 4.166458933771638, 1.7814532357014243, 2.044290598345897, 1.9177392755911509, 3.17351778600363, 1.508881155921971, 4.585051770575798, 2.7257207977945295, 2.0929641840207993, 2.0345558812109164, 2.988558160439001, 1.4991464387869906, 4.263806105121442, 1.7717185185664437, 1.8788004070512287, 2.4142098494751543, 1.508881155921971, 7.164751811345622, 3.7283966626975173, 1.4991464387869906, 1.5478200244618927, 2.346066829530291, 1.4894117216520104, 5.509849898398943, 1.4991464387869906, 1.4991464387869906, 1.4991464387869906, 3.2708649573534356, 1.4991464387869906, 2.044290598345897, 2.151372486830682, 3.416885714378142, 1.4991464387869906, 1.5380853073269125, 5.07178762732482, 1.4991464387869906, 1.4991464387869906, 3.806274399777361, 1.713310215756561, 2.0150864469409555, 1.9664128612660532, 3.0664358975188453, 1.4991464387869906, 4.030172893881911, 3.6894577941575957, 1.839861538511307, 3.3974162801081813, 1.6062283272717757, 3.669988359887634, 1.5867588930018148, 2.5018223036899783, 1.4991464387869906, 4.896562718895172, 1.4991464387869906, 1.4991464387869906, 2.686781929254608, 1.508881155921971, 3.134578917463709, 1.5380853073269125, 4.6337253562507, 3.4947634514579864, 2.1416377696957016, 2.0442905983458965, 3.5726411885378297, 1.4991464387869906, 1.4991464387869906, 5.47091102985902, 1.6646366300816584, 1.4991464387869906, 1.4991464387869906, 3.2416608059484937, 1.9177392755911509, 1.5575547415968733, 6.337300854872282, 3.3779468458382205, 1.4991464387869906, 1.5575547415968736, 3.660253642752654, 1.4991464387869906, 1.5770241758668342, 5.0620529101898395, 1.4991464387869906, 1.4991464387869906, 1.5770241758668342, 4.030172893881911, 1.4991464387869906, 3.7965396826423805, 1.528350590191932, 1.9177392755911509, 2.1903113553706035, 1.6256977615417367, 6.901914448701149, 2.939884574764099, 1.4991464387869906, 1.4991464387869906, 2.131903052560721, 1.674371347216639, 5.675340089693609, 1.4991464387869906, 1.4991464387869906, 1.4991464387869906, 2.4726181522850377, 1.6062283272717757, 4.4195615792811305, 1.4991464387869906, 3.5629064714028496, 1.528350590191932, 1.6549019129466782, 3.3195385430283375, 1.508881155921971, 4.370887993606227, 2.569965323634842, 2.1221683354257403, 1.8885351241862092, 3.650518925617673, 1.4991464387869906, 1.5478200244618927, 5.431972161319098, 3.0664358975188457, 1.4991464387869906, 2.930149857629119, 1.528350590191932, 4.925766870300115, 1.508881155921971, 1.4991464387869906, 1.9469434269960921, 2.5018223036899783, 2.9593540090340604, 1.5575547415968733, 3.1151094831937476, 1.4991464387869906, 4.370887993606227, 2.054025315480877, 1.9566781441310728, 2.2487196581804865, 1.5575547415968733, 7.6417529509596624, 3.3487426944332794, 1.4991464387869906, 1.4991464387869906, 1.7327796500265218, 4.263806105121443, 1.4991464387869906, 1.4991464387869906, 1.713310215756561, 5.587727635478785, 1.4991464387869906, 1.4991464387869906, 1.4991464387869906, 2.3947404152051934, 1.4991464387869906, 5.8992385837981605, 1.4991464387869906, 1.4991464387869906, 1.4991464387869906, 2.7743943834694313, 1.5478200244618932, 3.7770702483724192, 1.508881155921971, 4.185928368041599, 2.462883435150057, 2.1708419211006427, 1.8009226699713852, 4.857623850355251, 1.4991464387869906, 1.4991464387869906, 2.151372486830682, 1.4991464387869906, 6.035524623687886, 3.0567011803838646, 1.5380853073269127, 1.7911879528364045, 3.1053747660587674, 1.5575547415968733, 3.0274970289789236, 1.4991464387869906, 4.370887993606227, 1.6549019129466782, 1.7425143671615024, 2.813333252009354, 1.4991464387869906, 5.65587065542365, 2.998292877573983, 1.4991464387869906, 1.6062283272717757, 4.731072527600505, 1.4991464387869906, 1.4991464387869906, 3.0080275947089627, 1.5186158730569514, 2.706251363524568, 1.4991464387869906, 5.840830280988278, 2.170841921100643, 1.4991464387869906, 1.4991464387869906, 3.1248442003287282, 2.092964184020799, 1.4991464387869906, 5.47091102985902, 1.6938407814866001, 1.4991464387869906, 1.4991464387869906, 2.8717415548192364, 1.5186158730569514, 4.935501587435095, 3.076170614653826, 1.8106573871063654, 2.8230679691443337, 1.528350590191932, 5.47091102985902, 1.508881155921971, 1.4991464387869906, 1.5770241758668342, 3.416885714378142, 1.508881155921971, 4.244336670851482, 1.5964936101367952, 2.2487196581804865, 1.5575547415968733, 4.40982686214615, 1.4991464387869906, 3.942560439667087, 1.528350590191932, 1.6451671958116976, 3.076170614653826, 1.4991464387869906, 4.5363781849008955, 2.647843060714686, 1.8690656899162486, 2.628373626444725, 1.5867588930018148, 5.967381603743024, 1.985882295536014, 1.4991464387869906, 1.4991464387869906, 2.3947404152051934, 2.9593540090340604, 1.5770241758668342, 3.358477411568259, 1.4991464387869906, 4.049642328151872, 1.8885351241862092, 2.151372486830682, 1.6062283272717757, 4.984175173109997, 1.4991464387869906, 1.5380853073269125, 4.22486723658152, 1.9664128612660532, 2.005351729805975]\n"
          ]
        }
      ]
    },
    {
      "cell_type": "code",
      "source": [
        "y_pred = sigmoid_function(X_test,Stroke,new_bias)"
      ],
      "metadata": {
        "id": "7DO0cGnuYRam"
      },
      "execution_count": 468,
      "outputs": []
    },
    {
      "cell_type": "code",
      "source": [
        "y_pred"
      ],
      "metadata": {
        "colab": {
          "base_uri": "https://localhost:8080/"
        },
        "id": "KlYVjoxu6LJl",
        "outputId": "32f8fd02-b588-4eec-cc6a-7ed13e3ca7f6"
      },
      "execution_count": 469,
      "outputs": [
        {
          "output_type": "execute_result",
          "data": {
            "text/plain": [
              "array([0, 0, 0, ..., 0, 0, 0])"
            ]
          },
          "metadata": {},
          "execution_count": 469
        }
      ]
    },
    {
      "cell_type": "markdown",
      "source": [
        "Model Evaluation:"
      ],
      "metadata": {
        "id": "lUaAoW8i3HQr"
      }
    },
    {
      "cell_type": "code",
      "source": [
        "correct_predictions = np.sum(Y_test == y_pred)\n",
        "total_predictions = len(Y_test)\n",
        "\n",
        "accuracy = correct_predictions / total_predictions\n",
        "print(\"Accuracy: \", accuracy)"
      ],
      "metadata": {
        "colab": {
          "base_uri": "https://localhost:8080/"
        },
        "id": "RfvLHQ5P0ytf",
        "outputId": "e91c332c-82d5-4df0-bc3b-556013d2c810"
      },
      "execution_count": 471,
      "outputs": [
        {
          "output_type": "stream",
          "name": "stdout",
          "text": [
            "Accuracy:  0.948060486522025\n"
          ]
        }
      ]
    },
    {
      "cell_type": "code",
      "source": [
        "from sklearn.metrics import confusion_matrix\n",
        "cm = confusion_matrix(Y_test,y_pred)\n",
        "cm"
      ],
      "metadata": {
        "colab": {
          "base_uri": "https://localhost:8080/"
        },
        "id": "s9pn7_w0fZak",
        "outputId": "cbf11bdb-f9b6-4db0-b3a9-e9d042f9b64e"
      },
      "execution_count": 472,
      "outputs": [
        {
          "output_type": "execute_result",
          "data": {
            "text/plain": [
              "array([[1437,   21],\n",
              "       [  58,    5]])"
            ]
          },
          "metadata": {},
          "execution_count": 472
        }
      ]
    },
    {
      "cell_type": "code",
      "source": [
        "from sklearn.metrics import accuracy_score\n",
        "ac = accuracy_score(Y_test,y_pred)\n",
        "ac"
      ],
      "metadata": {
        "colab": {
          "base_uri": "https://localhost:8080/"
        },
        "id": "ZnIfT26IamDW",
        "outputId": "f5b58285-6513-4902-dcf8-893dd9df3fd0"
      },
      "execution_count": 473,
      "outputs": [
        {
          "output_type": "execute_result",
          "data": {
            "text/plain": [
              "0.948060486522025"
            ]
          },
          "metadata": {},
          "execution_count": 473
        }
      ]
    },
    {
      "cell_type": "markdown",
      "source": [
        "Dimensionality Reduction:"
      ],
      "metadata": {
        "id": "IvTBNIwt3NJb"
      }
    },
    {
      "cell_type": "code",
      "source": [
        "new_df = df.drop([\"gender\",\"hypertension\",\"heart_disease\",\"smoking_status\",\"Residence_type\",\"ever_married\"], axis=1)\n"
      ],
      "metadata": {
        "id": "sVd0G3Tu397z"
      },
      "execution_count": 479,
      "outputs": []
    },
    {
      "cell_type": "code",
      "source": [
        "from sklearn.preprocessing import StandardScaler\n",
        "from sklearn.decomposition import PCA\n",
        "# Standardize the data\n",
        "scaler = StandardScaler()\n",
        "data_scaled = scaler.fit_transform(new_df)\n",
        "\n",
        "# Compute the covariance matrix\n",
        "cov_matrix = np.cov(data_scaled.T)\n",
        "\n",
        "# Compute the eigenvectors and eigenvalues\n",
        "eig_vals, eig_vecs = np.linalg.eig(cov_matrix)\n",
        "\n",
        "# Select the principal components\n",
        "pca = PCA(n_components=2)\n",
        "pca.fit(data_scaled)\n",
        "\n",
        "# Project the data onto the principal components\n",
        "data_reduced = pca.transform(data_scaled)\n",
        "print(data_reduced)"
      ],
      "metadata": {
        "colab": {
          "base_uri": "https://localhost:8080/"
        },
        "id": "Lq8xQseg3RPb",
        "outputId": "743bd801-524c-4220-d50b-85f360200535"
      },
      "execution_count": 480,
      "outputs": [
        {
          "output_type": "stream",
          "name": "stdout",
          "text": [
            "[[ 4.26069735 -3.17655706]\n",
            " [ 3.07171682 -3.44881437]\n",
            " [ 3.03226924 -3.35600981]\n",
            " ...\n",
            " [-0.45248323  0.27785361]\n",
            " [ 0.57860709 -0.06779459]\n",
            " [-0.43832118 -0.02878974]]\n"
          ]
        }
      ]
    },
    {
      "cell_type": "code",
      "source": [
        "# Splitting the data into independent variale  as X  and dependent variables as the Y   \n",
        "X1 = df[[\"bmi\",\"age\",\"avg_glucose_level\"]]\n",
        "Y1 = df[\"stroke\"]"
      ],
      "metadata": {
        "id": "11VwEnSa3gnL"
      },
      "execution_count": 484,
      "outputs": []
    },
    {
      "cell_type": "code",
      "source": [
        "X_train1,X_test1,Y_train1,Y_test1 = train_test_split(X1,Y1,test_size=0.3, random_state=5)\n",
        "# create an instance of StandardScaler\n",
        "scaler = StandardScaler ()\n",
        "\n",
        "# use the fitted scaler to transform both the training and test data\n",
        "X_train1 = scaler.fit_transform(X_train1)\n",
        "X_test1 = scaler.transform(X_test1)"
      ],
      "metadata": {
        "id": "-MmcU4Bp6EdH"
      },
      "execution_count": 485,
      "outputs": []
    },
    {
      "cell_type": "code",
      "source": [
        "W1 = np.zeros(X_train.shape[1])\n",
        "B1 = 0"
      ],
      "metadata": {
        "id": "Lp06htec6PCw"
      },
      "execution_count": 486,
      "outputs": []
    },
    {
      "cell_type": "code",
      "source": [
        "inital_cost1 = cost_function(X_train1, Y_train1, np.array([0,0,0]),0)\n",
        "print(inital_cost1)"
      ],
      "metadata": {
        "colab": {
          "base_uri": "https://localhost:8080/"
        },
        "id": "4cCm48ts6cN7",
        "outputId": "a754e740-385a-42ee-d7b4-a5a038719f17"
      },
      "execution_count": 487,
      "outputs": [
        {
          "output_type": "stream",
          "name": "stdout",
          "text": [
            "1.4991464387869906\n"
          ]
        }
      ]
    },
    {
      "cell_type": "code",
      "source": [
        " # Learning Rate:\n",
        "alpha1 = 0.001\n",
        "\n",
        "Stroke1,new_bias1, Updated_cost1 = gradient_descent(X_train1, Y_train1, W1, B1, alpha1, 10000)\n",
        "print(new_bias1)\n",
        "# New Values of\n",
        "print(Stroke1)\n",
        "\n",
        "# Final Cost of our Iterations.\n",
        "print(Updated_cost1[-1])"
      ],
      "metadata": {
        "colab": {
          "base_uri": "https://localhost:8080/"
        },
        "id": "cVwTG4j-6lVv",
        "outputId": "a5848fb3-5f8a-4387-db5c-c44ebaa73ccb"
      },
      "execution_count": 489,
      "outputs": [
        {
          "output_type": "stream",
          "name": "stdout",
          "text": [
            "-0.0001820744081172498\n",
            "[-1.45716469e-05  6.34362326e-05 -1.09170103e-04]\n",
            "2.005351729805975\n"
          ]
        }
      ]
    },
    {
      "cell_type": "code",
      "source": [
        "correct_predictions1 = np.sum(Y_test == y_pred)\n",
        "total_predictions1 = len(Y_test)\n",
        "\n",
        "accuracy1 = correct_predictions1 / total_predictions1\n",
        "print(\"Accuracy: \", accuracy1)"
      ],
      "metadata": {
        "colab": {
          "base_uri": "https://localhost:8080/"
        },
        "id": "-J2u76-e6xe7",
        "outputId": "d3765ca2-6c78-40b0-80ca-4357404671fa"
      },
      "execution_count": 490,
      "outputs": [
        {
          "output_type": "stream",
          "name": "stdout",
          "text": [
            "Accuracy:  0.948060486522025\n"
          ]
        }
      ]
    },
    {
      "cell_type": "code",
      "source": [],
      "metadata": {
        "id": "W_sons6u7BhZ"
      },
      "execution_count": null,
      "outputs": []
    }
  ]
}